{
 "cells": [
  {
   "cell_type": "markdown",
   "id": "8987f755",
   "metadata": {},
   "source": [
    "<a href=\"https://colab.research.google.com/github/butler-julie/DataScienceForPhysicists2025/02_IntroductionToMachineLearning/blob/main/IntroductionToMachineLearning.ipynb\" target=\"_parent\"><img src=\"https://colab.research.google.com/assets/colab-badge.svg\" alt=\"Open In Colab\"/></a>\n",
    "\n",
    "# Introduction to Machine Learning\n",
    "\n",
    "**Author**: Julie Butler (University of Mount Union)\n",
    "\n",
    "**Date Created**: March 14, 2025\n",
    "\n",
    "**Last Modified**: March 14, 2025\n",
    "\n",
    "Created for the Data Science for Physicists Short Course at the 2025 APS Global Physics Summit\n",
    "\n",
    "## What is Machine Learning?\n",
    "\n",
    "## Introduction to Supervised Machine Learning"
   ]
  },
  {
   "cell_type": "markdown",
   "id": "4f461661",
   "metadata": {},
   "source": [
    "## Imports"
   ]
  },
  {
   "cell_type": "code",
   "execution_count": 1,
   "id": "c61cedb3",
   "metadata": {},
   "outputs": [],
   "source": [
    "#############\n",
    "## IMPORTS ##\n",
    "############\n",
    "# Pandas to import and format the data set\n",
    "import pandas as pd\n",
    "# Matplotlib for graphing\n",
    "import matplotlib.pyplot as plt\n",
    "# Numpy for arrays and mathematical operations\n",
    "import numpy as np\n",
    "# Seaborn for pairplot\n",
    "import seaborn as sns\n",
    "\n",
    "# Ridge regression implementation\n",
    "from sklearn.linear_model import Ridge\n",
    "# Mean-squared error implementation\n",
    "from sklearn.metrics import mean_squared_error\n",
    "#Random train-test split\n",
    "from sklearn.model_selection import train_test_split\n",
    "# Standard scaler for normalizing the features\n",
    "from sklearn.preprocessing import StandardScaler\n",
    "# Grid search and randomized search are two hyperparameter tuning\n",
    "# algorithms\n",
    "from sklearn.model_selection import GridSearchCV\n",
    "from sklearn.model_selection import RandomizedSearchCV\n",
    "# Support vector machines for regression (svr) are another regression\n",
    "# machine learning algorithm\n",
    "from sklearn.svm import SVR \n",
    "# k-nearest neighbors is a classification algorithm\n",
    "from sklearn.neighbors import KNeighborsClassifier\n",
    "# Accuracy score and confusion matrix to evaluate the performance of a\n",
    "# classification problem\n",
    "from sklearn.metrics import accuracy_score\n",
    "from sklearn.metrics import ConfusionMatrixDisplay\n"
   ]
  },
  {
   "cell_type": "code",
   "execution_count": 2,
   "id": "26b1df41",
   "metadata": {},
   "outputs": [],
   "source": [
    "# Import and format the data, see the notebook in 1: Data Exploration and Visualization\n",
    "# for an explanation of the steps.\n",
    "nuclear_data = pd.read_csv(\"https://raw.githubusercontent.com/butler-julie/DataExplorationAndVisualization/main/nuclear_data.tsv\",sep=\"\\t\")\n",
    "\n",
    "nuclear_data['BE'] = pd.to_numeric(nuclear_data['BE'], errors='coerce')\n",
    "nuclear_data['BEd'] = pd.to_numeric(nuclear_data['BEd'], errors='coerce')\n",
    "nuclear_data['MASS'] = pd.to_numeric(nuclear_data['MASS'], errors='coerce')\n",
    "nuclear_data['MASSd'] = pd.to_numeric(nuclear_data['MASSd'], errors='coerce')\n",
    "\n",
    "nuclear_data = nuclear_data.dropna()\n",
    "\n",
    "nuclear_data[\"BE\"] /= 1e3\n",
    "nuclear_data[\"BEd\"] /= 1e3\n",
    "\n",
    "nuclear_data[\"MASS\"] *= 1e-6\n",
    "nuclear_data[\"MASSd\"] *= 1e-6"
   ]
  },
  {
   "cell_type": "markdown",
   "id": "0d67f8d3",
   "metadata": {},
   "source": [
    "## Scikit-Learn: Creating Basic Machine Learning \n",
    "\n",
    "[Scikit-Learn](https://scikit-learn.org/stable/) is a Python library that implements many [machine learning models](https://en.wikipedia.org/wiki/Machine_learning) (including [neural networks](https://en.wikipedia.org/wiki/Neural_network_(machine_learning))) in [easy to use ways](https://scikit-learn.org/stable/tutorial/basic/tutorial.html). In this section, we will use a type of machine learning known as [ridge regression](https://en.wikipedia.org/wiki/Ridge_regression) to attempt to fit the binding energies to the [liquid drop model](https://en.wikipedia.org/wiki/Semi-empirical_mass_formula). The liquid drop model is a semi-empirical formula for calculating the binding energies of the various nuclei using only N and Z (remember that A = N + Z). A semi-empirical formula is a formula whose form is partially based on theory but with coefficients that fit using experimental data. For example, the liquid drop model can be defined as:\n",
    "\n",
    "$$BE_{liquid\\ drop}(N,Z) = a_vA - a_sA^{2/3} - a_c \\frac{Z(Z-1)}{A^{1/3}} - a_A\\frac{(N-Z)^2}{A} + \\delta (N,Z),$$\n",
    "\n",
    "where the coefficients $a_v$, $a_s$, $a_c$, $a_A$ and the function $\\delta(N,Z)$ are determined using experimental data. Numerical values for these and an explanation for each term in the equation can be found [here](https://en.wikipedia.org/wiki/Semi-empirical_mass_formula#The_liquid-drop_model).\n",
    "\n",
    "Unlike [Seaborn](https://seaborn.pydata.org), which can handle a [Pandas Dataframe](https://pandas.pydata.org/pandas-docs/stable/reference/api/pandas.DataFrame.html), or [Matplotlib](https://matplotlib.org), which can handle [Pandas Series](https://pandas.pydata.org/pandas-docs/stable/reference/api/pandas.Series.html), for Scikit-Learn we need the data to be formatted as an Numpy array. We can do this as follows, using the [`array`](https://numpy.org/doc/stable/reference/generated/numpy.array.html) function from the Numpy library."
   ]
  },
  {
   "cell_type": "code",
   "execution_count": 3,
   "id": "e7f03555",
   "metadata": {},
   "outputs": [],
   "source": [
    "A = np.array(nuclear_data[\"A\"])\n",
    "Z = np.array(nuclear_data[\"Z\"])\n",
    "N = np.array(nuclear_data[\"N\"])\n",
    "BE = np.array(nuclear_data[\"BE\"])"
   ]
  },
  {
   "cell_type": "markdown",
   "id": "0687ea55",
   "metadata": {},
   "source": [
    "Next, let's create arrays that match the form of each term in the liquid drop model (except for the last term). When creating these terms, we will leave off the coefficients, as we want to be able to find these with the machine learning algorithm. This will create the inputs to our machine learning algorithm."
   ]
  },
  {
   "cell_type": "code",
   "execution_count": 4,
   "id": "ea7c7a84",
   "metadata": {},
   "outputs": [],
   "source": [
    "term1 = A\n",
    "term2 = -A**(2/3)\n",
    "term3 = -Z*(Z-1)/A**(1/3)\n",
    "term4 = -(N-Z)**2/A\n",
    "\n",
    "X = np.array([term1, term2, term3, term4]).T"
   ]
  },
  {
   "cell_type": "markdown",
   "id": "44085a60",
   "metadata": {},
   "source": [
    "In machine learning it is common to split your entire data set in two pieces. The first piece, which is larger (about 75%-80% of the data), is called the training set. This part of the data set is used to train the machine learning model. The other part of the data set (about 20%-25%) is used to test the performance of the trained machine learning model. Scikit-Learn has a function called [`train_test_split`](https://scikit-learn.org/stable/modules/generated/sklearn.model_selection.train_test_split.html) which allow you to easily split your data set into training and test data sets. \n",
    "\n",
    "In the below code cell we use out liquid drop model inspired X data set as the inputs and the binding energies as the outputs. Note that the liquid drop model is used to fit binding energies but our data set is given in binding energy per nucleon, so we must multiply BE and A together to get the data that the liquid drop model is expecting."
   ]
  },
  {
   "cell_type": "code",
   "execution_count": 5,
   "id": "9f6ac892",
   "metadata": {},
   "outputs": [],
   "source": [
    "X_train, X_test, BE_train, BE_test = train_test_split(X,BE*A,test_size=0.2)"
   ]
  },
  {
   "cell_type": "markdown",
   "id": "2feb4d36",
   "metadata": {},
   "source": [
    "Now we can perform the machine learning using ridge regression. The first line of the below code cell defines a ridge regression algorithm using the Scikit-Learn library's [`Ridge`](https://scikit-learn.org/stable/modules/generated/sklearn.linear_model.Ridge.html). The second line fits the ridge regression algorithm using the `fit` function and our training data. The third line uses the inputs of the test data set to generate a set of predictions from the trained machine learning model using the `predict` function."
   ]
  },
  {
   "cell_type": "code",
   "execution_count": 6,
   "id": "5c9753ba",
   "metadata": {},
   "outputs": [],
   "source": [
    "ridge_regression = Ridge()\n",
    "ridge_regression.fit(X_train,BE_train)\n",
    "BE_pred = ridge_regression.predict(X_test)"
   ]
  },
  {
   "cell_type": "markdown",
   "id": "9bf46968",
   "metadata": {},
   "source": [
    "Now let's use Sci-kit Learn's build in [mean squared error function](https://scikit-learn.org/stable/modules/generated/sklearn.metrics.mean_squared_error.html) (MSE) to determine the accuracy of our machine learning model."
   ]
  },
  {
   "cell_type": "code",
   "execution_count": 7,
   "id": "fa95eb5f",
   "metadata": {},
   "outputs": [
    {
     "name": "stdout",
     "output_type": "stream",
     "text": [
      "MSE: 18.148017745174748 MeV^2\n"
     ]
    }
   ],
   "source": [
    "print(\"MSE:\", mean_squared_error(BE_test, BE_pred), \"MeV^2\")"
   ]
  },
  {
   "cell_type": "markdown",
   "id": "b8910ad0",
   "metadata": {},
   "source": [
    "Using the root mean-squared error metric (the square root of the mean-squared error score, RMSE) is also useful as its units will be MeV, allowing us to directly compare the error to our binding energies. Even though our RMSE score is greater than 1 MeV, it is still quite small compared to the average binding energy (not per nucleon) in the data set."
   ]
  },
  {
   "cell_type": "code",
   "execution_count": 8,
   "id": "f5a57603",
   "metadata": {},
   "outputs": [
    {
     "name": "stdout",
     "output_type": "stream",
     "text": [
      "RMSE: 4.2600490308416346 MeV\n",
      "Average Binding Energy: 1060.998638536429 MeV\n"
     ]
    }
   ],
   "source": [
    "print(\"RMSE:\", np.sqrt(mean_squared_error(BE_test, BE_pred)), \"MeV\")\n",
    "print(\"Average Binding Energy:\", np.average(BE*A), \"MeV\")"
   ]
  },
  {
   "cell_type": "markdown",
   "id": "5f4fcc47",
   "metadata": {},
   "source": [
    "We can also compare our machine learning model to the true (experimental) data set graphically. First, we will use the trained machine learning model to predict the binding energy at every possible input and then convert those predictions to binding energies per nucleon. We will then plot these predicted binding energies per nucleon on the same plot as the experimental (or true) binding energies per nucleon and use a legend to tell the data sets apart. "
   ]
  },
  {
   "cell_type": "code",
   "execution_count": 9,
   "id": "d920eec8",
   "metadata": {},
   "outputs": [
    {
     "data": {
      "text/plain": [
       "<matplotlib.legend.Legend at 0x15e50aa30>"
      ]
     },
     "execution_count": 9,
     "metadata": {},
     "output_type": "execute_result"
    },
    {
     "data": {
      "image/png": "[encoded data removed]",
      "text/plain": [
       "<Figure size 640x480 with 1 Axes>"
      ]
     },
     "metadata": {},
     "output_type": "display_data"
    }
   ],
   "source": [
    "BE_pred = ridge_regression.predict(X)\n",
    "BE_pred /= A\n",
    "\n",
    "plt.scatter(A,BE,s=10,marker='^',color=\"darkgreen\",label=\"True\")\n",
    "plt.scatter(A,BE_pred,s=10,marker='o',color=\"darkblue\",label=\"Predicted\")\n",
    "\n",
    "plt.xlabel(\"Number of Nucleons\", fontsize=14)\n",
    "plt.ylabel(\"Binding Energy (MeV)\", fontsize=14)\n",
    "\n",
    "plt.legend(fontsize=12, loc='lower right')"
   ]
  },
  {
   "cell_type": "markdown",
   "id": "9e36a96b",
   "metadata": {},
   "source": [
    "Finally, because we created an input data set based on the liquid drop model, we can compare the coefficients predicted by the liquid drop model to the known coefficients of the model. We can extract the trained coefficients from our ridge regression model using `coef_`."
   ]
  },
  {
   "cell_type": "code",
   "execution_count": 10,
   "id": "98a55592",
   "metadata": {},
   "outputs": [
    {
     "name": "stdout",
     "output_type": "stream",
     "text": [
      "The known coefficients are: 15.76 , 17.81 , 0.711 , 23.702\n",
      "The predicted coeffients are: [15.20210943 16.07729339  0.68266033 22.04595166]\n"
     ]
    }
   ],
   "source": [
    "aV = 15.76\n",
    "aS = 17.81\n",
    "aC = 0.711\n",
    "aA = 23.702\n",
    "\n",
    "print(\"The known coefficients are:\", aV, \",\", aS,\",\", aC, \",\", aA)\n",
    "print(\"The predicted coeffients are:\", ridge_regression.coef_)"
   ]
  },
  {
   "cell_type": "markdown",
   "id": "da54dc1e",
   "metadata": {},
   "source": [
    "## Improving the Machine Learning Model\n",
    "\n",
    "Often the initial attempt at the machine learning model will not yield sufficient results. Thus we will attempt to improve the performance of the machine learning model through a variety of methods.\n",
    "\n",
    "### Hyperparameter Tuning\n",
    "All machine learning methods work by fitting a set of internal parameters such that their outputs are as close to the known outputs as possible for the given inputs. However, many machine learning algorithms have user-set parameters, called [hyperparameters](https://en.wikipedia.org/wiki/Hyperparameter_(machine_learning)). Varying the value of these hyperparameters can drastically change the output of the algorithm. Thus, one of the simplest ways to improve the performance of a machine learning algorithm is through hyperparameter tuning, through trying various different combinations of valid values for the hyperparameters.\n",
    "\n",
    "Ridge regression has one major hyperparameter, usually represented by [$\\alpha$ as in the scikit-learn notation](https://scikit-learn.org/stable/modules/generated/sklearn.linear_model.Ridge.html), or by $\\lambda$. The parameter, known as the strength of the regularization, changes the wait of the second term in the objective function (see the documentation [here](https://scikit-learn.org/stable/modules/generated/sklearn.linear_model.Ridge.html)). Changing the objective function will change the optimized values of the parameters of the trained ridge regression algorithm, and thus will change the output of the algorithm. The below code uses a basic for loop to iterate through 50 different values of `alpha` (which can be any number) and determines which value of `alpha` results in the lowest mean-squared error. There are more sophisticated methods of hyperparameter tuning which will be explored later in this notebook, but a simple for loop works well for small cases."
   ]
  },
  {
   "cell_type": "code",
   "execution_count": 11,
   "id": "2db5f86d",
   "metadata": {},
   "outputs": [
    {
     "name": "stdout",
     "output_type": "stream",
     "text": [
      "The lowest error was 11.95072418186075 MeV^2\n",
      "It occured at an alpha value of 2.9470517025518096e-12\n"
     ]
    }
   ],
   "source": [
    "# Perform the train-test split on the data\n",
    "X_train, X_test, BE_train, BE_test = train_test_split(X,BE*A,test_size=0.2)\n",
    "\n",
    "# Variables to save the best (lowest) error and the value of alpha that results in\n",
    "# that error. The default value of best_err is set to a very large number.\n",
    "best_err = 100\n",
    "best_alpha = None\n",
    "\n",
    "# Iterate through 50 different values of alpha, evenly spaced on a log scale from \n",
    "# 10^{-15} to 10^2\n",
    "for alpha in np.logspace(-15,2,50):\n",
    "    # Define the ridge regression algorithm with the current value for alpha, train \n",
    "    # the algorithm, and then make predictions\n",
    "    ridge = Ridge(alpha=alpha)\n",
    "    ridge.fit(X_train, BE_train)\n",
    "    BE_pred = ridge.predict(X_test)\n",
    "    \n",
    "    # Compute a mean-squared error for the test and predicted values\n",
    "    mse = mean_squared_error(BE_test, BE_pred)\n",
    "    \n",
    "    # If the error that was just calculated is smaller than the current best error,\n",
    "    # then it is the new best error. Save it and the value of alpha that produced it.\n",
    "    if mse < best_err:\n",
    "        best_err = mse\n",
    "        best_alpha = alpha\n",
    "        \n",
    "# Print the lowest error and the value of alpha which resulted in the lowest error.        \n",
    "print(\"The lowest error was\", best_err, \"MeV^2\")\n",
    "print(\"It occured at an alpha value of\", best_alpha)"
   ]
  },
  {
   "cell_type": "markdown",
   "id": "8a3f31a1",
   "metadata": {},
   "source": [
    "### Other Methods of Improving Performance\n",
    "\n",
    "There are many other methods that can be used improve the performance of machine learning algorithms and we will touch on some of them later in this notebook including [feature scaling/feature normalization](https://en.wikipedia.org/wiki/Feature_scaling) and [feature selection](https://en.wikipedia.org/wiki/Feature_selection) which are part of [feature engineering](https://en.wikipedia.org/wiki/Feature_engineering)."
   ]
  },
  {
   "cell_type": "markdown",
   "id": "ae9fec6a",
   "metadata": {},
   "source": [
    "## What if there is not a known equation to model?\n",
    "\n",
    "In the previous example we used a known model of the binding energies in order to inform the structure of our machine learning algorithm. However, this is not always feasible and thus we must rely on other methods to inform us on the best machine learning model. First, we can use _feature selection_ to determine which columns of data will be best. Typically you want to choose columns of data to be features that are strongly related to the output of the machine learning algorithm. An easy way to find strong correlations in a data set is to generate a [correlation matrix](https://builtin.com/data-science/correlation-matrix), which is created in Pandas from a dataframe using the [`corr`](https://pandas.pydata.org/docs/reference/api/pandas.DataFrame.corr.html) function. Correlation matrices displau the [Pearson's correlation score](https://en.wikipedia.org/wiki/Correlation) between two columns of data, where a score of -1 indicates a perfect negative correlation, a score of +1 indicates a perfect positive correlation, and a score of 0 indicated no correlation. Features that correlate strongly to the intended output of the machine learning algorithm will then have correlation scores close to $\\pm$ 1 with the output column. \n",
    "\n",
    "The below code will create a correlation matrix of the nuclear data set. Note that the argument `numeric_only=True` is required since there is one column of data which is not numeric (the `EL` column)."
   ]
  },
  {
   "cell_type": "code",
   "execution_count": 12,
   "id": "2e52b80a",
   "metadata": {},
   "outputs": [
    {
     "data": {
      "text/html": [
       "<div>\n",
       "<style scoped>\n",
       "    .dataframe tbody tr th:only-of-type {\n",
       "        vertical-align: middle;\n",
       "    }\n",
       "\n",
       "    .dataframe tbody tr th {\n",
       "        vertical-align: top;\n",
       "    }\n",
       "\n",
       "    .dataframe thead th {\n",
       "        text-align: right;\n",
       "    }\n",
       "</style>\n",
       "<table border=\"1\" class=\"dataframe\">\n",
       "  <thead>\n",
       "    <tr style=\"text-align: right;\">\n",
       "      <th></th>\n",
       "      <th>N</th>\n",
       "      <th>Z</th>\n",
       "      <th>A</th>\n",
       "      <th>BE</th>\n",
       "      <th>BEd</th>\n",
       "      <th>MASS</th>\n",
       "      <th>MASSd</th>\n",
       "    </tr>\n",
       "  </thead>\n",
       "  <tbody>\n",
       "    <tr>\n",
       "      <th>N</th>\n",
       "      <td>1.000000</td>\n",
       "      <td>0.975329</td>\n",
       "      <td>0.996122</td>\n",
       "      <td>-0.063604</td>\n",
       "      <td>-0.219562</td>\n",
       "      <td>0.996136</td>\n",
       "      <td>-0.109517</td>\n",
       "    </tr>\n",
       "    <tr>\n",
       "      <th>Z</th>\n",
       "      <td>0.975329</td>\n",
       "      <td>1.000000</td>\n",
       "      <td>0.990970</td>\n",
       "      <td>-0.026419</td>\n",
       "      <td>-0.248824</td>\n",
       "      <td>0.990947</td>\n",
       "      <td>-0.133764</td>\n",
       "    </tr>\n",
       "    <tr>\n",
       "      <th>A</th>\n",
       "      <td>0.996122</td>\n",
       "      <td>0.990970</td>\n",
       "      <td>1.000000</td>\n",
       "      <td>-0.049162</td>\n",
       "      <td>-0.232533</td>\n",
       "      <td>1.000000</td>\n",
       "      <td>-0.119833</td>\n",
       "    </tr>\n",
       "    <tr>\n",
       "      <th>BE</th>\n",
       "      <td>-0.063604</td>\n",
       "      <td>-0.026419</td>\n",
       "      <td>-0.049162</td>\n",
       "      <td>1.000000</td>\n",
       "      <td>-0.425412</td>\n",
       "      <td>-0.049590</td>\n",
       "      <td>-0.128258</td>\n",
       "    </tr>\n",
       "    <tr>\n",
       "      <th>BEd</th>\n",
       "      <td>-0.219562</td>\n",
       "      <td>-0.248824</td>\n",
       "      <td>-0.232533</td>\n",
       "      <td>-0.425412</td>\n",
       "      <td>1.000000</td>\n",
       "      <td>-0.232350</td>\n",
       "      <td>0.663738</td>\n",
       "    </tr>\n",
       "    <tr>\n",
       "      <th>MASS</th>\n",
       "      <td>0.996136</td>\n",
       "      <td>0.990947</td>\n",
       "      <td>1.000000</td>\n",
       "      <td>-0.049590</td>\n",
       "      <td>-0.232350</td>\n",
       "      <td>1.000000</td>\n",
       "      <td>-0.119736</td>\n",
       "    </tr>\n",
       "    <tr>\n",
       "      <th>MASSd</th>\n",
       "      <td>-0.109517</td>\n",
       "      <td>-0.133764</td>\n",
       "      <td>-0.119833</td>\n",
       "      <td>-0.128258</td>\n",
       "      <td>0.663738</td>\n",
       "      <td>-0.119736</td>\n",
       "      <td>1.000000</td>\n",
       "    </tr>\n",
       "  </tbody>\n",
       "</table>\n",
       "</div>"
      ],
      "text/plain": [
       "              N         Z         A        BE       BEd      MASS     MASSd\n",
       "N      1.000000  0.975329  0.996122 -0.063604 -0.219562  0.996136 -0.109517\n",
       "Z      0.975329  1.000000  0.990970 -0.026419 -0.248824  0.990947 -0.133764\n",
       "A      0.996122  0.990970  1.000000 -0.049162 -0.232533  1.000000 -0.119833\n",
       "BE    -0.063604 -0.026419 -0.049162  1.000000 -0.425412 -0.049590 -0.128258\n",
       "BEd   -0.219562 -0.248824 -0.232533 -0.425412  1.000000 -0.232350  0.663738\n",
       "MASS   0.996136  0.990947  1.000000 -0.049590 -0.232350  1.000000 -0.119736\n",
       "MASSd -0.109517 -0.133764 -0.119833 -0.128258  0.663738 -0.119736  1.000000"
      ]
     },
     "execution_count": 12,
     "metadata": {},
     "output_type": "execute_result"
    }
   ],
   "source": [
    "# Create and display the correlation matrix\n",
    "corr_scores = nuclear_data.corr(numeric_only=True)\n",
    "corr_scores"
   ]
  },
  {
   "cell_type": "markdown",
   "id": "0769372a",
   "metadata": {},
   "source": [
    "This correlation is not too large, so it is easy to determine the correlated columns. In this section we are interested in creating a machine learning algorithm which can produce the mass of an isotope. In this case, `N`, `Z`, and `A` would be good features for this machine learning algorithm as they have a high correlation with the mass, but binding energy would be a poor feature as it has a very low correlation. \n",
    "\n",
    "If the correlation matrix is too large, it may be easier to display using a heatmap. The below code uses the matplotlib [`matshow`](https://matplotlib.org/stable/api/_as_gen/matplotlib.pyplot.matshow.html) function to create a heatmap to display the correlation matrix. Custom x and y ticks are also added to make the correlation matrix easier to read."
   ]
  },
  {
   "cell_type": "code",
   "execution_count": 13,
   "id": "df103b52",
   "metadata": {},
   "outputs": [
    {
     "data": {
      "text/plain": [
       "([<matplotlib.axis.YTick at 0x15e6992e0>,\n",
       "  <matplotlib.axis.YTick at 0x15e690d60>,\n",
       "  <matplotlib.axis.YTick at 0x15e690160>,\n",
       "  <matplotlib.axis.YTick at 0x15e723250>,\n",
       "  <matplotlib.axis.YTick at 0x15e730a30>,\n",
       "  <matplotlib.axis.YTick at 0x15e735520>,\n",
       "  <matplotlib.axis.YTick at 0x15e735fd0>],\n",
       " [Text(0, 0, 'N'),\n",
       "  Text(0, 1, 'Z'),\n",
       "  Text(0, 2, 'A'),\n",
       "  Text(0, 3, 'BE'),\n",
       "  Text(0, 4, 'BEd'),\n",
       "  Text(0, 5, 'MASS'),\n",
       "  Text(0, 6, 'MASSd')])"
      ]
     },
     "execution_count": 13,
     "metadata": {},
     "output_type": "execute_result"
    },
    {
     "data": {
      "image/png": "[encoded data removed]",
      "text/plain": [
       "<Figure size 480x480 with 2 Axes>"
      ]
     },
     "metadata": {},
     "output_type": "display_data"
    }
   ],
   "source": [
    "# Create the heatmap\n",
    "plt.matshow(corr_scores)\n",
    "# Add the colorbar, which acts as the legend\n",
    "plt.colorbar()\n",
    "# Get the number of labels for the correlation matrix and use those labels\n",
    "# to set custom x and y ticks\n",
    "n = len(corr_scores.index)\n",
    "plt.xticks(ticks=range(n), labels=corr_scores.index,rotation=90)\n",
    "plt.yticks(ticks=range(n), labels=corr_scores.index)"
   ]
  },
  {
   "cell_type": "markdown",
   "id": "07eefd2a",
   "metadata": {},
   "source": [
    "Now that we have determined the columns which are most correlated with the mass, let's make your design or feature matrix. Here I chose to use the number of protons and the number of neutrons, but not the number of nucleons (as that information is stored in the number of protons and the number of neutrons)."
   ]
  },
  {
   "cell_type": "code",
   "execution_count": 14,
   "id": "8d8c0a43",
   "metadata": {},
   "outputs": [],
   "source": [
    "# Extract the data needed for the X and y parts of the data set and perform the\n",
    "# train test split\n",
    "X = np.array([Z, N]).T\n",
    "y = np.array(nuclear_data[\"MASS\"])\n",
    "X_train, X_test, y_train, y_test = train_test_split(X,y,test_size=0.20)"
   ]
  },
  {
   "cell_type": "markdown",
   "id": "a22a5934",
   "metadata": {},
   "source": [
    "Now we can do the machine learning. Here we will switch to a different machine learning method called [support vector machines](https://en.wikipedia.org/wiki/Support_vector_machine), which are implemented in scikit-learn for regression problems as [SVR](https://scikit-learn.org/stable/modules/generated/sklearn.svm.SVR.html). Support vector machines have an advantage over ridge regression in two ways. First, they tend to perform better in higher dimensions (in problems which have many features). Second, because support vector machines are based on a [kernel function](https://en.wikipedia.org/wiki/Kernel_method) they are more versitale and can fit a larger variety of data sets."
   ]
  },
  {
   "cell_type": "code",
   "execution_count": 15,
   "id": "fb21d376",
   "metadata": {},
   "outputs": [
    {
     "name": "stdout",
     "output_type": "stream",
     "text": [
      "Root Mean Squared Error: 4.62180791765336 au\n",
      "Average Mass: 132.02827810572512 au\n"
     ]
    }
   ],
   "source": [
    "# Define the support vector machine algorithm for regression\n",
    "svr = SVR()\n",
    "# Train, predict, and analyze the results\n",
    "svr.fit(X_train, y_train)\n",
    "y_pred = svr.predict(X_test)\n",
    "err = np.sqrt(mean_squared_error(y_test, y_pred))\n",
    "print(\"Root Mean Squared Error:\", err, \"au\")\n",
    "print(\"Average Mass:\", np.average(y), \"au\")"
   ]
  },
  {
   "cell_type": "markdown",
   "id": "fc062c1d",
   "metadata": {},
   "source": [
    "Unlike ridge regression, support vector machines have many more hyperparameters. You can see a full list in the [documentation for the SVR algorithm](https://scikit-learn.org/stable/modules/generated/sklearn.svm.SVR.html). Note that some hyperparameters only apply for some kernels. Arguably the most important hyperparameter for support vector machines is the kernel. [This example from Scikit-Learn](https://scikit-learn.org/stable/auto_examples/svm/plot_svm_regression.html#sphx-glr-auto-examples-svm-plot-svm-regression-py) shows how changing the kernel can give different output shapes for the same data. Below we use a for loop to loop through the four built-in kernel functions. Note that you are also able to provide custom kernel functions in the scikit-learn implementation."
   ]
  },
  {
   "cell_type": "code",
   "execution_count": 16,
   "id": "2098382b",
   "metadata": {},
   "outputs": [
    {
     "name": "stdout",
     "output_type": "stream",
     "text": [
      "Kernel: poly\n",
      "Mean Squared Error: 26.012015152181956 au\n",
      "\n",
      "Kernel: linear\n",
      "Mean Squared Error: 0.05632853935454277 au\n",
      "\n",
      "Kernel: rbf\n",
      "Mean Squared Error: 4.62180791765336 au\n",
      "\n",
      "Kernel: sigmoid\n",
      "Mean Squared Error: 169.17137235771108 au\n",
      "\n"
     ]
    }
   ],
   "source": [
    "# Iterate through all possible kernel functions, define SVR with the given kernel\n",
    "# train the algorithm, make predictions, calculate the rmse score, display results\n",
    "for kernel in ['poly', 'linear', 'rbf', 'sigmoid']:\n",
    "    svr = SVR(kernel=kernel)\n",
    "    svr.fit(X_train, y_train)\n",
    "    y_pred = svr.predict(X_test)\n",
    "    err = np.sqrt(mean_squared_error(y_test, y_pred))\n",
    "    print(\"Kernel:\", kernel)\n",
    "    print(\"Mean Squared Error:\", err, \"au\")\n",
    "    print()"
   ]
  },
  {
   "cell_type": "markdown",
   "id": "9d4804dd",
   "metadata": {},
   "source": [
    "Another hyperparameter that is present in support vector machines is _C_, which is the strength of the regularization. It plays a similar role to $\\alpha$ in ridge regression where changing its value changes the amount the loss function is regularized. Note that C is inversely proportional to the amount of the regulization. See [this example](https://scikit-learn.org/stable/auto_examples/svm/plot_svm_scale_c.html#sphx-glr-auto-examples-svm-plot-svm-scale-c-py) from scikit-learn, though it does deal with classification and not regression.\n",
    "\n",
    "If we wanted to find the most optimal combinational of kernel function and C value then we could use a nested for loop like below. The first loop iterates over 4 different kernel functions and the second loop iterates over 15 different values for C. For each possible combination of C and kernel function, we define a support vector machine, train it on the training data, use the trained model to make predictions, and then compare the predictions ot the known results. In the below loop the result is printed each time, along with the values of the hyperparameters that were used to get the result. Note that you can adjust the below for loop to use the if statement from the ridge regression hyperparameter tuning so that only the best result is printed in the end."
   ]
  },
  {
   "cell_type": "code",
   "execution_count": 17,
   "id": "6d1f20bd",
   "metadata": {},
   "outputs": [
    {
     "name": "stdout",
     "output_type": "stream",
     "text": [
      "Kernel: poly\n",
      "C: 0.01\n",
      "Mean Squared Error: 27.52583881422701 au\n",
      "\n",
      "Kernel: poly\n",
      "C: 0.36642857142857144\n",
      "Mean Squared Error: 26.107803852937042 au\n",
      "\n",
      "Kernel: poly\n",
      "C: 0.7228571428571429\n",
      "Mean Squared Error: 26.04448488001174 au\n",
      "\n",
      "Kernel: poly\n",
      "C: 1.0792857142857144\n",
      "Mean Squared Error: 26.001898989328645 au\n",
      "\n",
      "Kernel: poly\n",
      "C: 1.4357142857142857\n",
      "Mean Squared Error: 25.961934876553226 au\n",
      "\n",
      "Kernel: poly\n",
      "C: 1.792142857142857\n",
      "Mean Squared Error: 25.945554777779872 au\n",
      "\n",
      "Kernel: poly\n",
      "C: 2.1485714285714286\n",
      "Mean Squared Error: 25.926595019827822 au\n",
      "\n",
      "Kernel: poly\n",
      "C: 2.505\n",
      "Mean Squared Error: 25.90922833066414 au\n",
      "\n",
      "Kernel: poly\n",
      "C: 2.861428571428571\n",
      "Mean Squared Error: 25.89453985209554 au\n",
      "\n",
      "Kernel: poly\n",
      "C: 3.2178571428571425\n",
      "Mean Squared Error: 25.884725228306202 au\n",
      "\n",
      "Kernel: poly\n",
      "C: 3.574285714285714\n",
      "Mean Squared Error: 25.879822259194306 au\n",
      "\n",
      "Kernel: poly\n",
      "C: 3.9307142857142856\n",
      "Mean Squared Error: 25.879153097536545 au\n",
      "\n",
      "Kernel: poly\n",
      "C: 4.287142857142857\n",
      "Mean Squared Error: 25.87838311988241 au\n",
      "\n",
      "Kernel: poly\n",
      "C: 4.643571428571429\n",
      "Mean Squared Error: 25.865018027773118 au\n",
      "\n",
      "Kernel: poly\n",
      "C: 5.0\n",
      "Mean Squared Error: 25.86200609343613 au\n",
      "\n",
      "Kernel: linear\n",
      "C: 0.01\n",
      "Mean Squared Error: 0.053460339408229564 au\n",
      "\n",
      "Kernel: linear\n",
      "C: 0.36642857142857144\n",
      "Mean Squared Error: 0.05632853935454277 au\n",
      "\n",
      "Kernel: linear\n",
      "C: 0.7228571428571429\n",
      "Mean Squared Error: 0.05632853935454277 au\n",
      "\n",
      "Kernel: linear\n",
      "C: 1.0792857142857144\n",
      "Mean Squared Error: 0.05632853935454277 au\n",
      "\n",
      "Kernel: linear\n",
      "C: 1.4357142857142857\n",
      "Mean Squared Error: 0.05632853935454277 au\n",
      "\n",
      "Kernel: linear\n",
      "C: 1.792142857142857\n",
      "Mean Squared Error: 0.05632853935454277 au\n",
      "\n",
      "Kernel: linear\n",
      "C: 2.1485714285714286\n",
      "Mean Squared Error: 0.05632853935454277 au\n",
      "\n",
      "Kernel: linear\n",
      "C: 2.505\n",
      "Mean Squared Error: 0.05632853935454277 au\n",
      "\n",
      "Kernel: linear\n",
      "C: 2.861428571428571\n",
      "Mean Squared Error: 0.05632853935454277 au\n",
      "\n",
      "Kernel: linear\n",
      "C: 3.2178571428571425\n",
      "Mean Squared Error: 0.05632853935454277 au\n",
      "\n",
      "Kernel: linear\n",
      "C: 3.574285714285714\n",
      "Mean Squared Error: 0.05632853935454277 au\n",
      "\n",
      "Kernel: linear\n",
      "C: 3.9307142857142856\n",
      "Mean Squared Error: 0.05632853935454277 au\n",
      "\n",
      "Kernel: linear\n",
      "C: 4.287142857142857\n",
      "Mean Squared Error: 0.05632853935454277 au\n",
      "\n",
      "Kernel: linear\n",
      "C: 4.643571428571429\n",
      "Mean Squared Error: 0.05632853935454277 au\n",
      "\n",
      "Kernel: linear\n",
      "C: 5.0\n",
      "Mean Squared Error: 0.05632853935454277 au\n",
      "\n",
      "Kernel: rbf\n",
      "C: 0.01\n",
      "Mean Squared Error: 60.31190577682887 au\n",
      "\n",
      "Kernel: rbf\n",
      "C: 0.36642857142857144\n",
      "Mean Squared Error: 11.289609600860679 au\n",
      "\n",
      "Kernel: rbf\n",
      "C: 0.7228571428571429\n",
      "Mean Squared Error: 6.075652331337951 au\n",
      "\n",
      "Kernel: rbf\n",
      "C: 1.0792857142857144\n",
      "Mean Squared Error: 4.3343850819117575 au\n",
      "\n",
      "Kernel: rbf\n",
      "C: 1.4357142857142857\n",
      "Mean Squared Error: 3.4219208845172364 au\n",
      "\n",
      "Kernel: rbf\n",
      "C: 1.792142857142857\n",
      "Mean Squared Error: 2.845945556105911 au\n",
      "\n",
      "Kernel: rbf\n",
      "C: 2.1485714285714286\n",
      "Mean Squared Error: 2.4257652285696607 au\n",
      "\n",
      "Kernel: rbf\n",
      "C: 2.505\n",
      "Mean Squared Error: 2.105870115520615 au\n",
      "\n",
      "Kernel: rbf\n",
      "C: 2.861428571428571\n",
      "Mean Squared Error: 1.854238031140409 au\n",
      "\n",
      "Kernel: rbf\n",
      "C: 3.2178571428571425\n",
      "Mean Squared Error: 1.68585720097474 au\n",
      "\n",
      "Kernel: rbf\n",
      "C: 3.574285714285714\n",
      "Mean Squared Error: 1.553564073067488 au\n",
      "\n",
      "Kernel: rbf\n",
      "C: 3.9307142857142856\n",
      "Mean Squared Error: 1.4333382977352072 au\n",
      "\n",
      "Kernel: rbf\n",
      "C: 4.287142857142857\n",
      "Mean Squared Error: 1.352301259006953 au\n",
      "\n",
      "Kernel: rbf\n",
      "C: 4.643571428571429\n",
      "Mean Squared Error: 1.2660451378521695 au\n",
      "\n",
      "Kernel: rbf\n",
      "C: 5.0\n",
      "Mean Squared Error: 1.1928427210713934 au\n",
      "\n",
      "Kernel: sigmoid\n",
      "C: 0.01\n",
      "Mean Squared Error: 65.81355756665292 au\n",
      "\n",
      "Kernel: sigmoid\n",
      "C: 0.36642857142857144\n",
      "Mean Squared Error: 101.66824213552977 au\n",
      "\n",
      "Kernel: sigmoid\n",
      "C: 0.7228571428571429\n",
      "Mean Squared Error: 139.36857431789923 au\n",
      "\n",
      "Kernel: sigmoid\n",
      "C: 1.0792857142857144\n",
      "Mean Squared Error: 177.7422178541266 au\n",
      "\n",
      "Kernel: sigmoid\n",
      "C: 1.4357142857142857\n",
      "Mean Squared Error: 216.76147465412558 au\n",
      "\n",
      "Kernel: sigmoid\n",
      "C: 1.792142857142857\n",
      "Mean Squared Error: 256.07033385106706 au\n",
      "\n",
      "Kernel: sigmoid\n",
      "C: 2.1485714285714286\n",
      "Mean Squared Error: 295.6078506240533 au\n",
      "\n",
      "Kernel: sigmoid\n",
      "C: 2.505\n",
      "Mean Squared Error: 334.8368379072612 au\n",
      "\n",
      "Kernel: sigmoid\n",
      "C: 2.861428571428571\n",
      "Mean Squared Error: 374.7202785100921 au\n",
      "\n",
      "Kernel: sigmoid\n",
      "C: 3.2178571428571425\n",
      "Mean Squared Error: 414.0891158689885 au\n",
      "\n",
      "Kernel: sigmoid\n",
      "C: 3.574285714285714\n",
      "Mean Squared Error: 454.23332165818175 au\n",
      "\n",
      "Kernel: sigmoid\n",
      "C: 3.9307142857142856\n",
      "Mean Squared Error: 493.7385209539126 au\n",
      "\n",
      "Kernel: sigmoid\n",
      "C: 4.287142857142857\n",
      "Mean Squared Error: 533.3263583850394 au\n",
      "\n",
      "Kernel: sigmoid\n",
      "C: 4.643571428571429\n",
      "Mean Squared Error: 573.7893259202716 au\n",
      "\n",
      "Kernel: sigmoid\n",
      "C: 5.0\n",
      "Mean Squared Error: 613.4125786086801 au\n",
      "\n"
     ]
    }
   ],
   "source": [
    "for kernel in ['poly', 'linear', 'rbf', 'sigmoid']:\n",
    "    for C in np.linspace(0.01, 5.0, 15):\n",
    "        svr = SVR(kernel=kernel, C=C)\n",
    "        svr.fit(X_train, y_train)\n",
    "        y_pred = svr.predict(X_test)\n",
    "        err = np.sqrt(mean_squared_error(y_test, y_pred))\n",
    "        print(\"Kernel:\", kernel)\n",
    "        print(\"C:\", C)\n",
    "        print(\"Mean Squared Error:\", err, \"au\")\n",
    "        print()"
   ]
  },
  {
   "cell_type": "markdown",
   "id": "9251e44c",
   "metadata": {},
   "source": [
    "In the above example we loop through only two hyperparameters. To be more thorough, there should be many more hyperparameters tested. For example, _degree_ changes the degree of the polynomial kernel and _coef0_ changes the ouput of the polynomial and sigmoid kernels. Machine learning models which are more complicated that support vector machines can have a dozen or more hyperparameters that need to be tuned, making the for loop tuning, though simple for a few hyperparameters, clunky and slow. Luckily, scikit-learn provides several tools to aid in hyperparameter tuning. First, we will example [`'GridSearchCV`](https://scikit-learn.org/stable/modules/generated/sklearn.model_selection.GridSearchCV.html), which performs a brute force hyperparameter tuning using [cross-validation](https://en.wikipedia.org/wiki/Cross-validation_(statistics)).\n",
    "\n",
    "`GridSearchCV` takes three main arguments. A dictionary of possible parameter values, a machine learning algorithm, and a scoring metric. Here we use `neg_mean_squared_error` but other can be found in the [documentation](https://scikit-learn.org/stable/modules/generated/sklearn.model_selection.GridSearchCV.html). The `GridSearchCV` algorithm then performs an exhaustive search of all possible combinations of hyperparameters and returns the set that minimizes (or maximizes in some cases) the scoring metric.\n",
    "\n",
    "Below we attempt to perform hyperparameter tuning on our support vector machine using the `GridSearchCV` tool. Once the hyperparameter tuning is complete we can use the best hyperparameters to train our support vector machine to make predictions."
   ]
  },
  {
   "cell_type": "code",
   "execution_count": 18,
   "id": "aed0e2f4",
   "metadata": {},
   "outputs": [
    {
     "name": "stdout",
     "output_type": "stream",
     "text": [
      "{'C': 0.01, 'kernel': 'linear'} -0.0024815786754694355\n",
      "Kernel: sigmoid\n",
      "C: 5.0\n",
      "Mean Squared Error: 0.053460339408229564 au\n",
      "\n"
     ]
    }
   ],
   "source": [
    "# Define the parameters for the grid search\n",
    "parameters = {'kernel':['poly', 'linear', 'rbf', 'sigmoid'],\n",
    "             'C': np.linspace(0.01, 5.0, 10)}\n",
    "\n",
    "# Define the support vector machine\n",
    "svr = SVR()\n",
    "# Perform the grid search, first by defining the GridSearchCV algorithm and then \n",
    "# by fitting the algorithm to the training data\n",
    "grid_search = GridSearchCV(svr, parameters,\\\n",
    "                           scoring='neg_mean_squared_error')\n",
    "grid_search.fit(X_train, y_train)\n",
    "\n",
    "# Print the best set of hyperparameters and the best score\n",
    "print(grid_search.best_params_, grid_search.best_score_)\n",
    "\n",
    "# Train a new support vector machine with the best parameters, train, make predictions,\n",
    "# and analysis the predictions\n",
    "svr = SVR(kernel=grid_search.best_params_[\"kernel\"],C=grid_search.best_params_[\"C\"])\n",
    "svr.fit(X_train, y_train)\n",
    "y_pred = svr.predict(X_test)\n",
    "err = np.sqrt(mean_squared_error(y_test, y_pred))\n",
    "print(\"Kernel:\", kernel)\n",
    "print(\"C:\", C)\n",
    "print(\"Mean Squared Error:\", err, \"au\")\n",
    "print()"
   ]
  },
  {
   "cell_type": "markdown",
   "id": "93a016db",
   "metadata": {},
   "source": [
    "In the above case, an exhaustive search of the provided hyperparameters is not too time intensive. However, as the number of hyperparameters and/or the number of tested values per hyperparameter grows, an exhaustive search can be extremely time consuming, especially for longer running machine learning models. ['RandomizedSearchCV'](https://scikit-learn.org/stable/modules/generated/sklearn.model_selection.RandomizedSearchCV.html) provides an alternative. It's behavior and inputs are similar to that of `GridSearchCV` but instead of performing an exhaustive search it only searches over a given number of randomly selected combinations of parameters. Thus `RandomizedSearchCV` is not as thorough as `GridSearchCV` but can run in more reasonable times. Below is the same hyperparameter tuning set-up as the `GridSearchCV` example above, but adapted for `RandomizedSearchCV`."
   ]
  },
  {
   "cell_type": "code",
   "execution_count": 19,
   "id": "072b05db",
   "metadata": {},
   "outputs": [
    {
     "name": "stdout",
     "output_type": "stream",
     "text": [
      "{'kernel': 'linear', 'C': 4.7963265306122445} -0.0028725249493554545\n",
      "Kernel: sigmoid\n",
      "C: 5.0\n",
      "Mean Squared Error: 0.05632853935454277 au\n",
      "\n"
     ]
    }
   ],
   "source": [
    "# Define the dictionary of parameters, the machine learning algorithms, the RandomizedSearchCV\n",
    "# algorithm and fit it to the training data. Note that when defining the RandomizedSearchCV\n",
    "# algorithm there is an extra argument compared to GridSearchCV. n_iter determines how many \n",
    "# randomly selected hyperparameter combinations are chosen.\n",
    "parameters = {'kernel':['poly', 'linear', 'rbf', 'sigmoid'],\n",
    "             'C': np.linspace(0.01, 5.0, 50)}\n",
    "svr = SVR()\n",
    "random_search = RandomizedSearchCV(svr, parameters,\\\n",
    "                                scoring='neg_mean_squared_error', n_iter=50)\n",
    "random_search.fit(X_train, y_train)\n",
    "\n",
    "# Display the hyperparameters that lead to the best score and the best score\n",
    "print(random_search.best_params_, random_search.best_score_)\n",
    "\n",
    "# Train a new support vector machine with the best parameters, train, make predictions,\n",
    "# and analysis the predictions\n",
    "svr = SVR(kernel=random_search.best_params_[\"kernel\"],C=random_search.best_params_[\"C\"])\n",
    "svr.fit(X_train, y_train)\n",
    "y_pred = svr.predict(X_test)\n",
    "err = np.sqrt(mean_squared_error(y_test, y_pred))\n",
    "print(\"Kernel:\", kernel)\n",
    "print(\"C:\", C)\n",
    "print(\"Mean Squared Error:\", err, \"au\")\n",
    "print()"
   ]
  },
  {
   "cell_type": "markdown",
   "id": "8d702d6e",
   "metadata": {},
   "source": [
    "Finally, we should discuss feature scaling or feature normalization as both a method of improving the performance of a machine learning algorithm and as a common practice in machine learning. Scaling the data, or normalizing the data so that all values fall in the same range, makes sure that all features are on the same scale prevents bias towards one feature who has larget values than the others. There are several ways to scale the data but a common method is to use the Scikit-Learn [`StandardScaler`](https://scikit-learn.org/stable/modules/generated/sklearn.preprocessing.StandardScaler.html) which scales the data by both its mean and its standard deviation (scaling equations are provided in the [documentation](https://scikit-learn.org/stable/modules/generated/sklearn.preprocessing.StandardScaler.html)). Note that we only scale the features of the machine learning algorithm, not the outputs.\n",
    "\n",
    "The below example combines the `StandardScaler` function for feature scaling along with a `RandomizedSearchCV` for hyperparameter tuning. "
   ]
  },
  {
   "cell_type": "code",
   "execution_count": 20,
   "id": "c434e1d0",
   "metadata": {},
   "outputs": [
    {
     "name": "stdout",
     "output_type": "stream",
     "text": [
      "Kernel: sigmoid\n",
      "C: 5.0\n",
      "Mean Squared Error: 0.062278443822019365 au\n",
      "\n"
     ]
    }
   ],
   "source": [
    "# Define the StandardScalar, fit it to the features, and then scale the features, \n",
    "# creating the new feature matrix Z\n",
    "scaler = StandardScaler()\n",
    "scaler.fit(X)\n",
    "Z = scaler.transform(X)\n",
    "\n",
    "# Perform a new train-test split with Z as the input\n",
    "Z_train, Z_test, y_train, y_test = train_test_split(Z, y, test_size=0.20)\n",
    "\n",
    "# RandomizedSearchCV to find the best parameters\n",
    "parameters = {'kernel':['poly', 'linear', 'rbf', 'sigmoid'],\n",
    "             'C': np.linspace(0.01, 5.0, 50)}\n",
    "svr = SVR()\n",
    "random_search = RandomizedSearchCV(svr, parameters,\\\n",
    "                                   scoring='neg_mean_squared_error', n_iter=50)\n",
    "random_search.fit(Z_train, y_train)\n",
    "\n",
    "# Train a new support vector machine with the best parameters, train, make predictions,\n",
    "# and analysis the predictions\n",
    "svr = SVR(kernel=random_search.best_params_[\"kernel\"],C=random_search.best_params_[\"C\"])\n",
    "svr.fit(Z_train, y_train)\n",
    "y_pred = svr.predict(Z_test)\n",
    "err = np.sqrt(mean_squared_error(y_test, y_pred))\n",
    "print(\"Kernel:\", kernel)\n",
    "print(\"C:\", C)\n",
    "print(\"Mean Squared Error:\", err, \"au\")\n",
    "print()"
   ]
  },
  {
   "cell_type": "markdown",
   "id": "c43cc2fd",
   "metadata": {},
   "source": [
    "## Introduction to Classification\n",
    "\n",
    "Beside regression, another common machine learning task is classification, where the outputs of the machine learning model can only be one of a small number of values. This is opposed to regression, where the output could be any real number. We have a column in our data set that is clearly categorical: the element name. However, instead of attempting to build a classifier for every single element, let's create a smaller dataframe with the information of only four important metals."
   ]
  },
  {
   "cell_type": "code",
   "execution_count": 21,
   "id": "b51b0520",
   "metadata": {},
   "outputs": [
    {
     "data": {
      "text/html": [
       "<div>\n",
       "<style scoped>\n",
       "    .dataframe tbody tr th:only-of-type {\n",
       "        vertical-align: middle;\n",
       "    }\n",
       "\n",
       "    .dataframe tbody tr th {\n",
       "        vertical-align: top;\n",
       "    }\n",
       "\n",
       "    .dataframe thead th {\n",
       "        text-align: right;\n",
       "    }\n",
       "</style>\n",
       "<table border=\"1\" class=\"dataframe\">\n",
       "  <thead>\n",
       "    <tr style=\"text-align: right;\">\n",
       "      <th></th>\n",
       "      <th>N</th>\n",
       "      <th>Z</th>\n",
       "      <th>A</th>\n",
       "      <th>EL</th>\n",
       "      <th>BE</th>\n",
       "      <th>BEd</th>\n",
       "      <th>MASS</th>\n",
       "      <th>MASSd</th>\n",
       "    </tr>\n",
       "  </thead>\n",
       "  <tbody>\n",
       "    <tr>\n",
       "      <th>413</th>\n",
       "      <td>23</td>\n",
       "      <td>26</td>\n",
       "      <td>49</td>\n",
       "      <td>Fe</td>\n",
       "      <td>8.161311</td>\n",
       "      <td>0.000494</td>\n",
       "      <td>48.973429</td>\n",
       "      <td>0.000026</td>\n",
       "    </tr>\n",
       "    <tr>\n",
       "      <th>425</th>\n",
       "      <td>24</td>\n",
       "      <td>26</td>\n",
       "      <td>50</td>\n",
       "      <td>Fe</td>\n",
       "      <td>8.354026</td>\n",
       "      <td>0.000168</td>\n",
       "      <td>49.962988</td>\n",
       "      <td>0.000009</td>\n",
       "    </tr>\n",
       "    <tr>\n",
       "      <th>437</th>\n",
       "      <td>25</td>\n",
       "      <td>26</td>\n",
       "      <td>51</td>\n",
       "      <td>Fe</td>\n",
       "      <td>8.460759</td>\n",
       "      <td>0.000176</td>\n",
       "      <td>50.956841</td>\n",
       "      <td>0.000010</td>\n",
       "    </tr>\n",
       "    <tr>\n",
       "      <th>448</th>\n",
       "      <td>26</td>\n",
       "      <td>26</td>\n",
       "      <td>52</td>\n",
       "      <td>Fe</td>\n",
       "      <td>8.609574</td>\n",
       "      <td>0.000098</td>\n",
       "      <td>51.948115</td>\n",
       "      <td>0.000005</td>\n",
       "    </tr>\n",
       "    <tr>\n",
       "      <th>460</th>\n",
       "      <td>27</td>\n",
       "      <td>26</td>\n",
       "      <td>53</td>\n",
       "      <td>Fe</td>\n",
       "      <td>8.648799</td>\n",
       "      <td>0.000031</td>\n",
       "      <td>52.945306</td>\n",
       "      <td>0.000002</td>\n",
       "    </tr>\n",
       "    <tr>\n",
       "      <th>...</th>\n",
       "      <td>...</td>\n",
       "      <td>...</td>\n",
       "      <td>...</td>\n",
       "      <td>...</td>\n",
       "      <td>...</td>\n",
       "      <td>...</td>\n",
       "      <td>...</td>\n",
       "      <td>...</td>\n",
       "    </tr>\n",
       "    <tr>\n",
       "      <th>1414</th>\n",
       "      <td>74</td>\n",
       "      <td>47</td>\n",
       "      <td>121</td>\n",
       "      <td>Ag</td>\n",
       "      <td>8.382330</td>\n",
       "      <td>0.000100</td>\n",
       "      <td>120.920125</td>\n",
       "      <td>0.000013</td>\n",
       "    </tr>\n",
       "    <tr>\n",
       "      <th>1430</th>\n",
       "      <td>75</td>\n",
       "      <td>47</td>\n",
       "      <td>122</td>\n",
       "      <td>Ag</td>\n",
       "      <td>8.352758</td>\n",
       "      <td>0.000313</td>\n",
       "      <td>121.923664</td>\n",
       "      <td>0.000041</td>\n",
       "    </tr>\n",
       "    <tr>\n",
       "      <th>1446</th>\n",
       "      <td>76</td>\n",
       "      <td>47</td>\n",
       "      <td>123</td>\n",
       "      <td>Ag</td>\n",
       "      <td>8.337803</td>\n",
       "      <td>0.000250</td>\n",
       "      <td>122.925337</td>\n",
       "      <td>0.000033</td>\n",
       "    </tr>\n",
       "    <tr>\n",
       "      <th>1462</th>\n",
       "      <td>77</td>\n",
       "      <td>47</td>\n",
       "      <td>124</td>\n",
       "      <td>Ag</td>\n",
       "      <td>8.308655</td>\n",
       "      <td>0.002028</td>\n",
       "      <td>123.928931</td>\n",
       "      <td>0.000270</td>\n",
       "    </tr>\n",
       "    <tr>\n",
       "      <th>1478</th>\n",
       "      <td>78</td>\n",
       "      <td>47</td>\n",
       "      <td>125</td>\n",
       "      <td>Ag</td>\n",
       "      <td>8.293314</td>\n",
       "      <td>0.003465</td>\n",
       "      <td>124.930735</td>\n",
       "      <td>0.000465</td>\n",
       "    </tr>\n",
       "  </tbody>\n",
       "</table>\n",
       "<p>120 rows × 8 columns</p>\n",
       "</div>"
      ],
      "text/plain": [
       "       N   Z    A  EL        BE       BEd        MASS     MASSd\n",
       "413   23  26   49  Fe  8.161311  0.000494   48.973429  0.000026\n",
       "425   24  26   50  Fe  8.354026  0.000168   49.962988  0.000009\n",
       "437   25  26   51  Fe  8.460759  0.000176   50.956841  0.000010\n",
       "448   26  26   52  Fe  8.609574  0.000098   51.948115  0.000005\n",
       "460   27  26   53  Fe  8.648799  0.000031   52.945306  0.000002\n",
       "...   ..  ..  ...  ..       ...       ...         ...       ...\n",
       "1414  74  47  121  Ag  8.382330  0.000100  120.920125  0.000013\n",
       "1430  75  47  122  Ag  8.352758  0.000313  121.923664  0.000041\n",
       "1446  76  47  123  Ag  8.337803  0.000250  122.925337  0.000033\n",
       "1462  77  47  124  Ag  8.308655  0.002028  123.928931  0.000270\n",
       "1478  78  47  125  Ag  8.293314  0.003465  124.930735  0.000465\n",
       "\n",
       "[120 rows x 8 columns]"
      ]
     },
     "execution_count": 21,
     "metadata": {},
     "output_type": "execute_result"
    }
   ],
   "source": [
    "# This dataframe contains only isotopes of iron\n",
    "iron = nuclear_data[nuclear_data[\"EL\"]==\"Fe\"]\n",
    "# This dataframe contains only isotopes of lead\n",
    "lead = nuclear_data[nuclear_data[\"EL\"]==\"Pb\"]\n",
    "# This dataframe contains only isotopes of gold\n",
    "gold = nuclear_data[nuclear_data[\"EL\"]==\"Au\"]\n",
    "# This datframe contains only isotopes of silver\n",
    "silver = nuclear_data[nuclear_data[\"EL\"]==\"Ag\"]\n",
    "\n",
    "# Combine the single metal dataframes into one dataframe\n",
    "important_metals = pd.concat([iron, lead, gold, silver])\n",
    "\n",
    "# Display the dataframe\n",
    "important_metals"
   ]
  },
  {
   "cell_type": "markdown",
   "id": "398dbb6a",
   "metadata": {},
   "source": [
    "Now we have a small dataset we can use for classification. However, note that the element names are _strings_ of characters. Any column of data that is given to a machine learning algorithm needs to be numerical. Therefore, before we continue we need to encode the information in the EL column of the dataframe as numerical data. There are several ways to accomplish this but one of them is through the [_Categorical_ function](https://pandas.pydata.org/docs/reference/api/pandas.Categorical.html) from Pandas."
   ]
  },
  {
   "cell_type": "code",
   "execution_count": 22,
   "id": "e3ad9237",
   "metadata": {},
   "outputs": [
    {
     "data": {
      "text/plain": [
       "413     2\n",
       "425     2\n",
       "437     2\n",
       "448     2\n",
       "460     2\n",
       "       ..\n",
       "1414    0\n",
       "1430    0\n",
       "1446    0\n",
       "1462    0\n",
       "1478    0\n",
       "Name: EL_codes, Length: 120, dtype: int8"
      ]
     },
     "execution_count": 22,
     "metadata": {},
     "output_type": "execute_result"
    }
   ],
   "source": [
    "important_metals[\"EL\"] = pd.Categorical(important_metals[\"EL\"])\n",
    "important_metals[\"EL_codes\"] = important_metals[\"EL\"].cat.codes\n",
    "important_metals[\"EL_codes\"]"
   ]
  },
  {
   "cell_type": "markdown",
   "id": "09e1b5b4",
   "metadata": {},
   "source": [
    "Now that all of the relevant data is numeric, we can start performing the train-test split. Here we will use the columns of binding energy and mass as the features and the element codes as the _targets_ or the outputs of the classification model. Below we create the train-test split in a similar manner to the rest of the notebook."
   ]
  },
  {
   "cell_type": "code",
   "execution_count": 23,
   "id": "58896699",
   "metadata": {},
   "outputs": [],
   "source": [
    "BE = np.array(important_metals[\"BE\"])\n",
    "mass = np.array(important_metals[\"MASS\"])\n",
    "el_codes = np.array(important_metals[\"EL_codes\"])\n",
    "\n",
    "X = np.array([BE, mass]).T\n",
    "\n",
    "X_train, X_test, y_train, y_test = train_test_split(X, el_codes, test_size=0.20)\n"
   ]
  },
  {
   "cell_type": "markdown",
   "id": "4f3b0f7d",
   "metadata": {},
   "source": [
    "There are many simple classification algorithms, but one of the most popular ones is [k-nearest neighbors](https://en.wikipedia.org/wiki/K-nearest_neighbors_algorithm). The algorithm is \"trained\" by creating a map in feature space, or the space there each feature is its own axis. As we have only two features, we can visualize this feature space below using the seaborn pairplot feature. Each point in feature space is then labeled with its classification. When the algorithm needs to make a prediction, it places the new point in feature space and compares it to its k closest neighbors (determined by the Euclidean distance algorithm). It determines the classification to make for the prediction by determining which class of points from the training data the new point lies closest to."
   ]
  },
  {
   "cell_type": "code",
   "execution_count": 24,
   "id": "d1061217",
   "metadata": {},
   "outputs": [
    {
     "name": "stderr",
     "output_type": "stream",
     "text": [
      "/Users/juliehartley/Library/Python/3.9/lib/python/site-packages/seaborn/axisgrid.py:118: UserWarning: The figure layout has changed to tight\n",
      "  self._figure.tight_layout(*args, **kwargs)\n"
     ]
    },
    {
     "data": {
      "text/plain": [
       "<seaborn.axisgrid.PairGrid at 0x15e7af880>"
      ]
     },
     "execution_count": 24,
     "metadata": {},
     "output_type": "execute_result"
    },
    {
     "data": {
      "image/png": "[encoded data removed]",
      "text/plain": [
       "<Figure size 568.375x500 with 6 Axes>"
      ]
     },
     "metadata": {},
     "output_type": "display_data"
    }
   ],
   "source": [
    "sns.pairplot(important_metals[[\"BE\",\"EL\", \"MASS\"]], hue=\"EL\")"
   ]
  },
  {
   "cell_type": "markdown",
   "id": "aeeffdeb",
   "metadata": {},
   "source": [
    "To implement a [k-nearest neighbors (knn) algorithm in scikit-learn](https://scikit-learn.org/stable/modules/generated/sklearn.neighbors.KNeighborsClassifier.html), we can use the below code where we set the number of neighbors equal to three in the definition of the algorithm. This means to make predictions the algorithm will look at the three points which lie closest to the point to be predicted."
   ]
  },
  {
   "cell_type": "code",
   "execution_count": 25,
   "id": "737784fd",
   "metadata": {},
   "outputs": [],
   "source": [
    "knn = KNeighborsClassifier(n_neighbors=3)\n",
    "knn.fit(X_train, y_train)\n",
    "y_pred = knn.predict(X_test)"
   ]
  },
  {
   "cell_type": "markdown",
   "id": "2574bf6d",
   "metadata": {},
   "source": [
    "Wheras for regression we have been using the mean-squared error or the root mean-squared error to determine the performance of the machine learning algorithm, for classification problems it would make sense to use another metric. For classification, since we are concerned with how many predictions were made correctly, a common metric to use is the accuracy score. The accuracy score is simply the number of predictions the algorithm made correctly divided by the total number of predictions that were attempted. A score of 0.0 means that 0% of the predictions are correct and a score of 1.0 means that 100% of the predictions were correct. Just like with the mean-squared error score we can use the implementation of the [accuracy score provided by scikit-learn](https://scikit-learn.org/stable/modules/generated/sklearn.metrics.accuracy_score.html)."
   ]
  },
  {
   "cell_type": "code",
   "execution_count": 26,
   "id": "5adba765",
   "metadata": {},
   "outputs": [
    {
     "name": "stdout",
     "output_type": "stream",
     "text": [
      "Accuracy: 62.5\n"
     ]
    }
   ],
   "source": [
    "# Compute the accuracy score\n",
    "accuracy = accuracy_score(y_test, y_pred)\n",
    "# Print the accuracy score multiplied by 100, to convert to \n",
    "# a percentage\n",
    "print(\"Accuracy:\", accuracy*100)"
   ]
  },
  {
   "cell_type": "markdown",
   "id": "3d3f91ff",
   "metadata": {},
   "source": [
    "The accuracy score gives us a one number summary of the performance of the classification algorithm, but does not provide details as to which classifications were correct and which were incorrect. A simple way to visualize this information is with a [confusion matrix](https://en.wikipedia.org/wiki/Confusion_matrix). The true labels (or the actual element of the metal) are displayed vertically and the predicted labels (the results of the knn algorithm) are displayed horizontally. Correct predictions result in numbers along the main diagonal of the confusion matrix (the true and predicted classes are the same). Incorrect predictions result in numbers off the main diagonal (the true and predicted classes are not the same). \n",
    "\n",
    "Not only does the confusion matrix help us determine the number of correct and incorrect predictions, it also helps us determine how items were misclassified and gives us hints as to how to improve the classification.\n",
    "\n",
    "In the below confusion matrix, created with [`ConfusionMatrixDisplay`](https://scikit-learn.org/stable/modules/generated/sklearn.metrics.ConfusionMatrixDisplay.html), all true silver isotopes were predicted as silver isotopes and all true iron isotopes were predicted as iron isotopes. This should not be suprising as both silver and iron have distinct clusters in the pairplot shown above, making them easy targets for classification. However, the confusion matrix also shows some errors in the classification of lead and gold isotopes, where some lead isotopes were classified as gold and some gold isotopes were classified as lead. This should also not be suprising from the confusion matrix above as the gold and lead cluster are close together and overlap at times, making distinguishing these two elements more difficult."
   ]
  },
  {
   "cell_type": "code",
   "execution_count": 27,
   "id": "ce327d77",
   "metadata": {},
   "outputs": [
    {
     "data": {
      "text/plain": [
       "([<matplotlib.axis.YTick at 0x1681e37c0>,\n",
       "  <matplotlib.axis.YTick at 0x168205bb0>,\n",
       "  <matplotlib.axis.YTick at 0x16823aeb0>,\n",
       "  <matplotlib.axis.YTick at 0x16846db50>],\n",
       " [Text(0, 0, 'Ag'), Text(0, 1, 'Au'), Text(0, 2, 'Fe'), Text(0, 3, 'Pb')])"
      ]
     },
     "execution_count": 27,
     "metadata": {},
     "output_type": "execute_result"
    },
    {
     "data": {
      "image/png": "[encoded data removed]",
      "text/plain": [
       "<Figure size 640x480 with 2 Axes>"
      ]
     },
     "metadata": {},
     "output_type": "display_data"
    }
   ],
   "source": [
    "# This function creates the confusion matrix from a trained classifier and the \n",
    "# test data set\n",
    "ConfusionMatrixDisplay.from_estimator(knn, X_train, y_train)\n",
    "# Get the number of unique entries in the element column of the datframe\n",
    "# (i.e. the number of classes)\n",
    "n = important_metals[\"EL\"].nunique()\n",
    "# Customize the x and y ticks with the element names\n",
    "plt.xticks(ticks=range(n), labels=important_metals[\"EL\"].cat.categories)\n",
    "plt.yticks(ticks=range(n), labels=important_metals[\"EL\"].cat.categories)"
   ]
  },
  {
   "cell_type": "markdown",
   "id": "e06a3b4f",
   "metadata": {},
   "source": [
    "Just like with regression, we have several methods of improving the accuracy of a classification algorithm. We can start with hyperparameter tuning over the number of neighbors. In the below code cell we use the `RandomizedSearchCV` function to find the number of neighbors which results in the highest accuracy. Note that the major change from this implementation to those above is that the scoring metric in the `RandomizedSearchCV` function has been changed from `neg_mean_squared_error` to `accuracy`. We are no longer performing hyperparameter tuning in hopes of minimizing the mean-squared error, we are attempting to maximize the accuracy."
   ]
  },
  {
   "cell_type": "code",
   "execution_count": 28,
   "id": "5a580688",
   "metadata": {},
   "outputs": [
    {
     "name": "stderr",
     "output_type": "stream",
     "text": [
      "/Users/juliehartley/Library/Python/3.9/lib/python/site-packages/sklearn/model_selection/_search.py:320: UserWarning: The total space of parameters 49 is smaller than n_iter=50. Running 49 iterations. For exhaustive searches, use GridSearchCV.\n",
      "  warnings.warn(\n"
     ]
    },
    {
     "name": "stdout",
     "output_type": "stream",
     "text": [
      "{'n_neighbors': 22} 0.8131578947368421\n"
     ]
    }
   ],
   "source": [
    "parameters = {\"n_neighbors\": np.arange(1,50)}\n",
    "\n",
    "knn = KNeighborsClassifier()\n",
    "\n",
    "random_search = RandomizedSearchCV(knn, parameters,\\\n",
    "                                   scoring='accuracy', n_iter=50)\n",
    "random_search.fit(X_train, y_train)\n",
    "\n",
    "print(random_search.best_params_, random_search.best_score_)"
   ]
  },
  {
   "cell_type": "markdown",
   "id": "a7049136",
   "metadata": {},
   "source": [
    "Using the results of the above hyperparameter tuning, we can create a new knn algorithm which will hopefully have better performance than the first iteration."
   ]
  },
  {
   "cell_type": "code",
   "execution_count": 29,
   "id": "f79a8e31",
   "metadata": {},
   "outputs": [
    {
     "name": "stdout",
     "output_type": "stream",
     "text": [
      "Accuracy: 70.83333333333334\n"
     ]
    },
    {
     "data": {
      "text/plain": [
       "([<matplotlib.axis.YTick at 0x1682e5040>,\n",
       "  <matplotlib.axis.YTick at 0x168486eb0>,\n",
       "  <matplotlib.axis.YTick at 0x15ab96310>,\n",
       "  <matplotlib.axis.YTick at 0x1685a3040>],\n",
       " [Text(0, 0, 'Ag'), Text(0, 1, 'Au'), Text(0, 2, 'Fe'), Text(0, 3, 'Pb')])"
      ]
     },
     "execution_count": 29,
     "metadata": {},
     "output_type": "execute_result"
    },
    {
     "data": {
      "image/png": "[encoded data removed]",
      "text/plain": [
       "<Figure size 640x480 with 2 Axes>"
      ]
     },
     "metadata": {},
     "output_type": "display_data"
    }
   ],
   "source": [
    "# Train and make predictions with the knn algorithm using the best number of \n",
    "# neighbors found using the hyperparameter tuning\n",
    "knn = KNeighborsClassifier(n_neighbors=random_search.best_params_[\"n_neighbors\"])\n",
    "knn.fit(X_train, y_train)\n",
    "y_pred = knn.predict(X_test)\n",
    "\n",
    "# Compute an accuracy score\n",
    "accuracy = accuracy_score(y_test, y_pred)\n",
    "print(\"Accuracy:\", accuracy*100)\n",
    "\n",
    "# Display the confusion matrix\n",
    "ConfusionMatrixDisplay.from_estimator(knn, X_train, y_train)\n",
    "n = important_metals[\"EL\"].nunique()\n",
    "plt.xticks(ticks=range(n), labels=important_metals[\"EL\"].cat.categories)\n",
    "plt.yticks(ticks=range(n), labels=important_metals[\"EL\"].cat.categories)"
   ]
  },
  {
   "cell_type": "markdown",
   "id": "72f7cadc",
   "metadata": {},
   "source": [
    "We can also attempt to improve the accuracy of a classification algorithm via feature engineering. First, let's try feature selection. The number of protons, Z, would be an easy feature to give the algorithm to ensure 100% accuracy, but let's not do that. Instead, in addition to the features of binding energy and mass, let's also add the number of neutrons, N."
   ]
  },
  {
   "cell_type": "code",
   "execution_count": 30,
   "id": "91250933",
   "metadata": {},
   "outputs": [
    {
     "name": "stdout",
     "output_type": "stream",
     "text": [
      "Best Number of Neighbors: 1\n",
      "Accuracy: 91.66666666666666\n"
     ]
    }
   ],
   "source": [
    "# Extract the relevant features and targets\n",
    "BE = important_metals[\"BE\"]\n",
    "mass = important_metals[\"MASS\"]\n",
    "el_codes = important_metals[\"EL_codes\"]\n",
    "N = important_metals[\"N\"]\n",
    "\n",
    "# Generate the features matrix\n",
    "X = np.array([BE, mass, N]).T\n",
    "\n",
    "# Perform the train-test split\n",
    "X_train, X_test, y_train, y_test = train_test_split(X, el_codes, test_size=0.20)\n",
    "\n",
    "# Perform hyperparameter tuning with RandomziedSearchCV\n",
    "parameters = {\"n_neighbors\": np.arange(1,50)}\n",
    "knn = KNeighborsClassifier()\n",
    "random_search = RandomizedSearchCV(knn, parameters,\\\n",
    "                                   scoring='accuracy', n_iter=25)\n",
    "random_search.fit(X_train, y_train)\n",
    "\n",
    "print(\"Best Number of Neighbors:\", random_search.best_params_[\"n_neighbors\"])\n",
    "\n",
    "# Train and make predictions with the knn algorithm using the best number of \n",
    "# neighbors found using the hyperparameter tuning\n",
    "knn = KNeighborsClassifier(n_neighbors=random_search.best_params_[\"n_neighbors\"])\n",
    "knn.fit(X_train, y_train)\n",
    "y_pred = knn.predict(X_test)\n",
    "\n",
    "# Compute an accuracy score\n",
    "accuracy = accuracy_score(y_test, y_pred)\n",
    "print(\"Accuracy:\", accuracy*100)"
   ]
  },
  {
   "cell_type": "markdown",
   "id": "e95ccb97",
   "metadata": {},
   "source": [
    "In addition to feature selection, we can also apply feature scaling using the standard scaler to see if that will create a more accurate algorithm."
   ]
  },
  {
   "cell_type": "code",
   "execution_count": 31,
   "id": "7eb8080f",
   "metadata": {},
   "outputs": [
    {
     "name": "stdout",
     "output_type": "stream",
     "text": [
      "Best Number of Neighbors: 3\n",
      "Accuracy: 95.83333333333334\n"
     ]
    }
   ],
   "source": [
    "# Extract the features and generate the feature matrix\n",
    "BE = important_metals[\"BE\"]\n",
    "mass = important_metals[\"MASS\"]\n",
    "el_codes = important_metals[\"EL_codes\"]\n",
    "X = np.array([BE, mass]).T\n",
    "\n",
    "# Apply the standard scaler to the X data\n",
    "scaler = StandardScaler()\n",
    "scaler.fit(X)\n",
    "Z = scaler.transform(X)\n",
    "\n",
    "# Perform the train-test split with the scaled data.\n",
    "Z_train, Z_test, y_train, y_test = train_test_split(Z, el_codes, test_size=0.20)\n",
    "\n",
    "\n",
    "# Perform hyperparameter tuning with RandomziedSearchCV\n",
    "parameters = {\"n_neighbors\": np.arange(1,50)}\n",
    "knn = KNeighborsClassifier()\n",
    "random_search = RandomizedSearchCV(knn, parameters,\\\n",
    "                                   scoring='accuracy', n_iter=25)\n",
    "random_search.fit(Z_train, y_train)\n",
    "\n",
    "print(\"Best Number of Neighbors:\", random_search.best_params_[\"n_neighbors\"])\n",
    "\n",
    "# Train and make predictions with the knn algorithm using the best number of \n",
    "# neighbors found using the hyperparameter tuning\n",
    "knn = KNeighborsClassifier(n_neighbors=random_search.best_params_[\"n_neighbors\"])\n",
    "knn.fit(Z_train, y_train)\n",
    "y_pred = knn.predict(Z_test)\n",
    "\n",
    "# Compute an accuracy score\n",
    "accuracy = accuracy_score(y_test, y_pred)\n",
    "print(\"Accuracy:\", accuracy*100)"
   ]
  },
  {
   "cell_type": "markdown",
   "id": "b8373368",
   "metadata": {},
   "source": [
    "## Further Investigation\n",
    "\n",
    "* [Scikit-Learn Documentation Page](https://scikit-learn.org/stable/)\n",
    "* [Hands-On Machine Learning with Scikit-learn and Tensorflow (book)](https://www.oreilly.com/library/view/hands-on-machine-learning/9781492032632/)\n",
    "\n",
    "### Other Simple Regression Algorithms\n",
    "* [LASSO Regression](https://scikit-learn.org/stable/modules/generated/sklearn.linear_model.Lasso.html)\n",
    "* [Bayesian Ridge Regression](https://scikit-learn.org/stable/modules/generated/sklearn.linear_model.BayesianRidge.html)\n",
    "* [Kernel Ridge Regression](https://scikit-learn.org/stable/modules/generated/sklearn.kernel_ridge.KernelRidge.html)\n",
    "* [Gaussian Processes](https://scikit-learn.org/stable/modules/gaussian_process.html)\n",
    "\n",
    "### Other Simple Classification Algorithms\n",
    "* [Support Vector Classification](https://scikit-learn.org/stable/modules/generated/sklearn.svm.SVC.html#sklearn.svm.SVC)\n",
    "* [Ridge Classification](https://scikit-learn.org/stable/modules/generated/sklearn.linear_model.RidgeClassifier.html)\n",
    "* [Decision Trees](https://scikit-learn.org/stable/modules/generated/sklearn.tree.DecisionTreeClassifier.html)\n",
    "* [Random Forests](https://scikit-learn.org/stable/modules/generated/sklearn.ensemble.RandomForestClassifier.html)\n",
    "\n"
   ]
  },
  {
   "cell_type": "code",
   "execution_count": null,
   "id": "b197d104",
   "metadata": {},
   "outputs": [],
   "source": []
  }
 ],
 "metadata": {
  "kernelspec": {
   "display_name": "Python 3 (ipykernel)",
   "language": "python",
   "name": "python3"
  },
  "language_info": {
   "codemirror_mode": {
    "name": "ipython",
    "version": 3
   },
   "file_extension": ".py",
   "mimetype": "text/x-python",
   "name": "python",
   "nbconvert_exporter": "python",
   "pygments_lexer": "ipython3",
   "version": "3.9.6"
  }
 },
 "nbformat": 4,
 "nbformat_minor": 5
}
