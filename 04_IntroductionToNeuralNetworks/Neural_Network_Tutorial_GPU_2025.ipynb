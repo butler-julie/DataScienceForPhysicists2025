{
  "nbformat": 4,
  "nbformat_minor": 0,
  "metadata": {
    "colab": {
      "provenance": [],
      "machine_shape": "hm"
    },
    "kernelspec": {
      "name": "python3",
      "display_name": "Python 3"
    },
    "accelerator": "GPU"
  },
  "cells": [
    {
      "cell_type": "markdown",
      "metadata": {
        "id": "xRrKEwNrogo1"
      },
      "source": [
        "This tutorial is based on the work of Chris Wang (who was in high school at the time), my colleague Paul Kienzle, and myself (William Ratcliff)"
      ]
    },
    {
      "cell_type": "code",
      "metadata": {
        "id": "tWrdH2t1XF0K"
      },
      "source": [],
      "execution_count": 1,
      "outputs": []
    },
    {
      "cell_type": "markdown",
      "metadata": {
        "id": "asoKRFkHnz4S"
      },
      "source": [
        "The first thing we will do is to add some modules to our environment.  We will also update tensorflow to the latest version"
      ]
    },
    {
      "cell_type": "code",
      "metadata": {
        "id": "RQyq98ESouju",
        "colab": {
          "base_uri": "https://localhost:8080/"
        },
        "outputId": "58a5ade1-fdfc-4c65-feb8-3fed0833c617"
      },
      "source": [
        "!pip install pybind11 appdirs decorator\n",
        "#!pip install opencl # somehow opencl doesn't seem to work\n",
        "#!pip uninstall tensorflow\n",
        "#!pip install tensorflow-gpu==2.1\n",
        "!pip install tensorflow\n"
      ],
      "execution_count": 2,
      "outputs": [
        {
          "output_type": "stream",
          "name": "stdout",
          "text": [
            "Collecting pybind11\n",
            "  Downloading pybind11-2.13.6-py3-none-any.whl.metadata (9.5 kB)\n",
            "Collecting appdirs\n",
            "  Downloading appdirs-1.4.4-py2.py3-none-any.whl.metadata (9.0 kB)\n",
            "Requirement already satisfied: decorator in /usr/local/lib/python3.11/dist-packages (4.4.2)\n",
            "Downloading pybind11-2.13.6-py3-none-any.whl (243 kB)\n",
            "\u001b[2K   \u001b[90m━━━━━━━━━━━━━━━━━━━━━━━━━━━━━━━━━━━━━━━━\u001b[0m \u001b[32m243.3/243.3 kB\u001b[0m \u001b[31m4.6 MB/s\u001b[0m eta \u001b[36m0:00:00\u001b[0m\n",
            "\u001b[?25hDownloading appdirs-1.4.4-py2.py3-none-any.whl (9.6 kB)\n",
            "Installing collected packages: appdirs, pybind11\n",
            "Successfully installed appdirs-1.4.4 pybind11-2.13.6\n",
            "Requirement already satisfied: tensorflow in /usr/local/lib/python3.11/dist-packages (2.18.0)\n",
            "Requirement already satisfied: absl-py>=1.0.0 in /usr/local/lib/python3.11/dist-packages (from tensorflow) (1.4.0)\n",
            "Requirement already satisfied: astunparse>=1.6.0 in /usr/local/lib/python3.11/dist-packages (from tensorflow) (1.6.3)\n",
            "Requirement already satisfied: flatbuffers>=24.3.25 in /usr/local/lib/python3.11/dist-packages (from tensorflow) (25.2.10)\n",
            "Requirement already satisfied: gast!=0.5.0,!=0.5.1,!=0.5.2,>=0.2.1 in /usr/local/lib/python3.11/dist-packages (from tensorflow) (0.6.0)\n",
            "Requirement already satisfied: google-pasta>=0.1.1 in /usr/local/lib/python3.11/dist-packages (from tensorflow) (0.2.0)\n",
            "Requirement already satisfied: libclang>=13.0.0 in /usr/local/lib/python3.11/dist-packages (from tensorflow) (18.1.1)\n",
            "Requirement already satisfied: opt-einsum>=2.3.2 in /usr/local/lib/python3.11/dist-packages (from tensorflow) (3.4.0)\n",
            "Requirement already satisfied: packaging in /usr/local/lib/python3.11/dist-packages (from tensorflow) (24.2)\n",
            "Requirement already satisfied: protobuf!=4.21.0,!=4.21.1,!=4.21.2,!=4.21.3,!=4.21.4,!=4.21.5,<6.0.0dev,>=3.20.3 in /usr/local/lib/python3.11/dist-packages (from tensorflow) (4.25.6)\n",
            "Requirement already satisfied: requests<3,>=2.21.0 in /usr/local/lib/python3.11/dist-packages (from tensorflow) (2.32.3)\n",
            "Requirement already satisfied: setuptools in /usr/local/lib/python3.11/dist-packages (from tensorflow) (75.1.0)\n",
            "Requirement already satisfied: six>=1.12.0 in /usr/local/lib/python3.11/dist-packages (from tensorflow) (1.17.0)\n",
            "Requirement already satisfied: termcolor>=1.1.0 in /usr/local/lib/python3.11/dist-packages (from tensorflow) (2.5.0)\n",
            "Requirement already satisfied: typing-extensions>=3.6.6 in /usr/local/lib/python3.11/dist-packages (from tensorflow) (4.12.2)\n",
            "Requirement already satisfied: wrapt>=1.11.0 in /usr/local/lib/python3.11/dist-packages (from tensorflow) (1.17.2)\n",
            "Requirement already satisfied: grpcio<2.0,>=1.24.3 in /usr/local/lib/python3.11/dist-packages (from tensorflow) (1.71.0)\n",
            "Requirement already satisfied: tensorboard<2.19,>=2.18 in /usr/local/lib/python3.11/dist-packages (from tensorflow) (2.18.0)\n",
            "Requirement already satisfied: keras>=3.5.0 in /usr/local/lib/python3.11/dist-packages (from tensorflow) (3.8.0)\n",
            "Requirement already satisfied: numpy<2.1.0,>=1.26.0 in /usr/local/lib/python3.11/dist-packages (from tensorflow) (1.26.4)\n",
            "Requirement already satisfied: h5py>=3.11.0 in /usr/local/lib/python3.11/dist-packages (from tensorflow) (3.12.1)\n",
            "Requirement already satisfied: ml-dtypes<0.5.0,>=0.4.0 in /usr/local/lib/python3.11/dist-packages (from tensorflow) (0.4.1)\n",
            "Requirement already satisfied: tensorflow-io-gcs-filesystem>=0.23.1 in /usr/local/lib/python3.11/dist-packages (from tensorflow) (0.37.1)\n",
            "Requirement already satisfied: wheel<1.0,>=0.23.0 in /usr/local/lib/python3.11/dist-packages (from astunparse>=1.6.0->tensorflow) (0.45.1)\n",
            "Requirement already satisfied: rich in /usr/local/lib/python3.11/dist-packages (from keras>=3.5.0->tensorflow) (13.9.4)\n",
            "Requirement already satisfied: namex in /usr/local/lib/python3.11/dist-packages (from keras>=3.5.0->tensorflow) (0.0.8)\n",
            "Requirement already satisfied: optree in /usr/local/lib/python3.11/dist-packages (from keras>=3.5.0->tensorflow) (0.14.1)\n",
            "Requirement already satisfied: charset-normalizer<4,>=2 in /usr/local/lib/python3.11/dist-packages (from requests<3,>=2.21.0->tensorflow) (3.4.1)\n",
            "Requirement already satisfied: idna<4,>=2.5 in /usr/local/lib/python3.11/dist-packages (from requests<3,>=2.21.0->tensorflow) (3.10)\n",
            "Requirement already satisfied: urllib3<3,>=1.21.1 in /usr/local/lib/python3.11/dist-packages (from requests<3,>=2.21.0->tensorflow) (2.3.0)\n",
            "Requirement already satisfied: certifi>=2017.4.17 in /usr/local/lib/python3.11/dist-packages (from requests<3,>=2.21.0->tensorflow) (2025.1.31)\n",
            "Requirement already satisfied: markdown>=2.6.8 in /usr/local/lib/python3.11/dist-packages (from tensorboard<2.19,>=2.18->tensorflow) (3.7)\n",
            "Requirement already satisfied: tensorboard-data-server<0.8.0,>=0.7.0 in /usr/local/lib/python3.11/dist-packages (from tensorboard<2.19,>=2.18->tensorflow) (0.7.2)\n",
            "Requirement already satisfied: werkzeug>=1.0.1 in /usr/local/lib/python3.11/dist-packages (from tensorboard<2.19,>=2.18->tensorflow) (3.1.3)\n",
            "Requirement already satisfied: MarkupSafe>=2.1.1 in /usr/local/lib/python3.11/dist-packages (from werkzeug>=1.0.1->tensorboard<2.19,>=2.18->tensorflow) (3.0.2)\n",
            "Requirement already satisfied: markdown-it-py>=2.2.0 in /usr/local/lib/python3.11/dist-packages (from rich->keras>=3.5.0->tensorflow) (3.0.0)\n",
            "Requirement already satisfied: pygments<3.0.0,>=2.13.0 in /usr/local/lib/python3.11/dist-packages (from rich->keras>=3.5.0->tensorflow) (2.18.0)\n",
            "Requirement already satisfied: mdurl~=0.1 in /usr/local/lib/python3.11/dist-packages (from markdown-it-py>=2.2.0->rich->keras>=3.5.0->tensorflow) (0.1.2)\n"
          ]
        }
      ]
    },
    {
      "cell_type": "code",
      "metadata": {
        "id": "5rptXysBYeUS",
        "colab": {
          "base_uri": "https://localhost:8080/"
        },
        "outputId": "1bcf0f2e-c368-45a2-921d-11a5ac788a64"
      },
      "source": [
        "from google.colab import drive\n",
        "drive.mount('/content/gdrive')"
      ],
      "execution_count": 3,
      "outputs": [
        {
          "output_type": "stream",
          "name": "stdout",
          "text": [
            "Mounted at /content/gdrive\n"
          ]
        }
      ]
    },
    {
      "cell_type": "markdown",
      "metadata": {
        "id": "SXWHiwHqoKK-"
      },
      "source": [
        "Please make sure that you have created an \"APS2025_Tutorial\" Folder in your Google Drive\n"
      ]
    },
    {
      "cell_type": "code",
      "metadata": {
        "id": "tGiw_wbymUMz",
        "colab": {
          "base_uri": "https://localhost:8080/"
        },
        "outputId": "3267756f-940c-46ad-b3cc-93b582ab3b3f"
      },
      "source": [
        "%cd \"/content/gdrive/My Drive/APS2025_Tutorial/\"\n",
        "!ls\n"
      ],
      "execution_count": 4,
      "outputs": [
        {
          "output_type": "stream",
          "name": "stdout",
          "text": [
            "/content/gdrive/My Drive/APS2025_Tutorial\n",
            "sasmodels  sasnets\n"
          ]
        }
      ]
    },
    {
      "cell_type": "markdown",
      "metadata": {
        "id": "rBTQgUb-oWul"
      },
      "source": [
        "The code for this tutorial lives on github.   You will only want to run this line when you are in the correct directory."
      ]
    },
    {
      "cell_type": "code",
      "metadata": {
        "id": "Xx0I_UAuoiHL",
        "colab": {
          "base_uri": "https://localhost:8080/"
        },
        "outputId": "7f597a11-b981-4e06-d673-94fa78952d7d"
      },
      "source": [
        "%cd \"/content/gdrive/My Drive/APS2025_Tutorial/\"\n",
        "!git clone https://github.com/scattering/sasnets.git\n",
        "!git clone https://github.com/pkienzle/sasmodels"
      ],
      "execution_count": 5,
      "outputs": [
        {
          "output_type": "stream",
          "name": "stdout",
          "text": [
            "/content/gdrive/My Drive/APS2025_Tutorial\n",
            "fatal: destination path 'sasnets' already exists and is not an empty directory.\n",
            "fatal: destination path 'sasmodels' already exists and is not an empty directory.\n"
          ]
        }
      ]
    },
    {
      "cell_type": "code",
      "metadata": {
        "id": "3OTw3omqd1YN",
        "colab": {
          "base_uri": "https://localhost:8080/"
        },
        "outputId": "c3092fdd-8e0d-41c5-d1c7-12f7990a4a5b"
      },
      "source": [
        "%cd \"/content/gdrive/My Drive/APS2025_Tutorial/sasnets\"\n",
        "!ls"
      ],
      "execution_count": 6,
      "outputs": [
        {
          "output_type": "stream",
          "name": "stdout",
          "text": [
            "/content/gdrive/My Drive/APS2025_Tutorial/sasnets\n",
            "bin   LICENSE\t rasmixed.db  run_range.sh  savenet   smallnet.db\n",
            "docs  model.png  README.md    sasnets\t    setup.py  tensorboard\n"
          ]
        }
      ]
    },
    {
      "cell_type": "markdown",
      "metadata": {
        "id": "dAdo1aVvo_P1"
      },
      "source": [
        "Now we will generate some sample SANS curves for samples that are either cylinders or spheres"
      ]
    },
    {
      "cell_type": "code",
      "metadata": {
        "id": "900btIIFd9Fe",
        "colab": {
          "base_uri": "https://localhost:8080/"
        },
        "outputId": "c67630b5-c2be-46bb-b570-7c7c2ffbc937"
      },
      "source": [
        "#Generate cylinders and spheres\n",
        "!ls\n",
        "!python bin/sasgen --count 2000  --database=smallnet.db cylinder sphere"
      ],
      "execution_count": 7,
      "outputs": [
        {
          "output_type": "stream",
          "name": "stdout",
          "text": [
            "bin   LICENSE\t rasmixed.db  run_range.sh  savenet   smallnet.db\n",
            "docs  model.png  README.md    sasnets\t    setup.py  tensorboard\n",
            "Selected models:\n",
            "   \n",
            "Total computation time (s): 0.11\n",
            "Total memory usage: 106056.00\n"
          ]
        }
      ]
    },
    {
      "cell_type": "markdown",
      "metadata": {
        "id": "XiF1Mzo6pKUU"
      },
      "source": [
        "The data was stored in a database (local).  Let's plot it up.  What do you notice?\n"
      ]
    },
    {
      "cell_type": "code",
      "metadata": {
        "id": "v9exChQTi3wt",
        "colab": {
          "base_uri": "https://localhost:8080/",
          "height": 555
        },
        "outputId": "f24d83fd-84fc-4901-878b-f157015920d6"
      },
      "source": [
        "#Let's see what the data looks like\n",
        "from sasnets.sas_io import sql_connect, sql_tables, read_sql\n",
        "\n",
        "conn=sql_connect(dbfile=r'smallnet.db')\n",
        "t_tables=sql_tables(conn)\n",
        "display(t_tables)\n",
        "iq, label = read_sql(conn, 'train')\n",
        "display(len(iq))\n",
        "display(set(label))\n",
        "\n",
        "import matplotlib.pyplot as plt\n",
        "\n",
        "fig=plt.figure()\n",
        "ax1=plt.subplot(2, 1, 1)\n",
        "plt.plot(iq[0])\n",
        "plt.title(label[0])\n",
        "plt.ylabel('Intensity')\n",
        "plt.xlabel('Q')\n",
        "\n",
        "ax1=plt.subplot(2, 1, 2)\n",
        "plt.plot(iq[3000])\n",
        "plt.title(label[3000])\n",
        "plt.ylabel('Intensity')\n",
        "plt.xlabel('Q')\n",
        "\n",
        "plt.tight_layout()\n"
      ],
      "execution_count": 8,
      "outputs": [
        {
          "output_type": "stream",
          "name": "stdout",
          "text": [
            "tables: [('train',)]\n"
          ]
        },
        {
          "output_type": "display_data",
          "data": {
            "text/plain": [
              "True"
            ]
          },
          "metadata": {}
        },
        {
          "output_type": "display_data",
          "data": {
            "text/plain": [
              "4000"
            ]
          },
          "metadata": {}
        },
        {
          "output_type": "display_data",
          "data": {
            "text/plain": [
              "{'cylinder', 'sphere'}"
            ]
          },
          "metadata": {}
        },
        {
          "output_type": "display_data",
          "data": {
            "text/plain": [
              "<Figure size 640x480 with 2 Axes>"
            ],
            "image/png": "[encoded data removed]"
          },
          "metadata": {}
        }
      ]
    },
    {
      "cell_type": "markdown",
      "metadata": {
        "id": "YM9-DsK3pUwd"
      },
      "source": [
        "The next set of code blocks will be useful for setting up our neural network"
      ]
    },
    {
      "cell_type": "code",
      "metadata": {
        "id": "XYcEHXdSLZcI"
      },
      "source": [
        "# System imports\n",
        "import argparse\n",
        "import logging\n",
        "import os\n",
        "import sys\n",
        "import time\n",
        "import random\n",
        "import json\n",
        "\n",
        "# Installed packages\n",
        "import numpy as np\n",
        "from sklearn.model_selection import train_test_split\n",
        "from sklearn.preprocessing import LabelEncoder\n",
        "from tensorflow import keras\n",
        "from tensorflow.keras.callbacks import TensorBoard, EarlyStopping, ModelCheckpoint\n",
        "from tensorflow.keras.layers import Conv1D, Dropout, Flatten, Dense, Embedding, \\\n",
        "    MaxPooling1D, InputLayer\n",
        "from tensorflow.keras.models import Sequential\n",
        "from tensorflow.keras.utils import to_categorical\n",
        "\n",
        "# SASNets packages\n",
        "from sasnets import sas_io\n",
        "from sasnets.util.utils import inepath\n"
      ],
      "execution_count": 9,
      "outputs": []
    },
    {
      "cell_type": "code",
      "metadata": {
        "id": "yXI90ucuhRVG",
        "colab": {
          "base_uri": "https://localhost:8080/"
        },
        "outputId": "3453e7e6-77cb-45dd-ccbc-33e2697794f8"
      },
      "source": [
        "# Define the argparser parameters\n",
        "parser = argparse.ArgumentParser(\n",
        "    description=\"Use neural nets to classify scattering data.\")\n",
        "parser.add_argument(\n",
        "    \"--train\", type=str, default=\"train\",\n",
        "    help=\"Training data table.\")\n",
        "parser.add_argument(\n",
        "    \"--validation\", type=str, default=\"30\",\n",
        "    help=\"Validation data table, or percent of training data.\")\n",
        "parser.add_argument(\n",
        "    \"--test\", type=str, default=\"10\",\n",
        "    help=\"Test data table, or percent of training data.\")\n",
        "parser.add_argument(\n",
        "    \"--database\", type=str, default=sas_io.DB_FILE,\n",
        "    help=\"Path to the sqlite database file.\")\n",
        "parser.add_argument(\n",
        "    \"--steps\", type=int, default=None,\n",
        "    help=\"Number of steps per epochs.\")\n",
        "parser.add_argument(\n",
        "    \"--epochs\", type=int, default=50,\n",
        "    help=\"Number of epochs.\")\n",
        "parser.add_argument(\n",
        "    \"--batch\", type=int, default=5,\n",
        "    help=\"Batch size.\")\n",
        "parser.add_argument(\n",
        "    \"--tensorboard\", type=str, default=\"tensorboard\",\n",
        "    help=\"Tensorboard directory.\")\n",
        "parser.add_argument(\n",
        "    \"-v\", \"--verbose\", action=\"store_true\",\n",
        "    help=\"Control output verbosity\")\n",
        "parser.add_argument(\n",
        "    \"-r\", \"--resume\", action='store_true', dest='resume',\n",
        "    help=\"resume fit stored in --save-path\")\n",
        "parser.add_argument(\n",
        "    \"--noresume\", action='store_false', dest='resume',\n",
        "    help=\"don't resume fit stored in --save-path\")\n",
        "parser.set_defaults(feature=True)\n",
        "parser.add_argument(\n",
        "    \"-s\", \"--save-path\", default=\"./savenet/out\",\n",
        "    help=\"Path to save model weights and info to\")\n"
      ],
      "execution_count": 10,
      "outputs": [
        {
          "output_type": "execute_result",
          "data": {
            "text/plain": [
              "_StoreAction(option_strings=['-s', '--save-path'], dest='save_path', nargs=None, const=None, default='./savenet/out', type=None, choices=None, required=False, help='Path to save model weights and info to', metavar=None)"
            ]
          },
          "metadata": {},
          "execution_count": 10
        }
      ]
    },
    {
      "cell_type": "code",
      "metadata": {
        "id": "FcIvJOt_8OmE"
      },
      "source": [
        "class OnehotEncoder:\n",
        "    def __init__(self, categories):\n",
        "        self.categories = sorted(categories)\n",
        "        self.label_encoder = LabelEncoder().fit(self.categories)\n",
        "        self.hotlen = len(categories)\n",
        "\n",
        "    def __call__(self, y):\n",
        "        return to_categorical(self.label_encoder.transform(y), self.hotlen)\n",
        "\n",
        "    def index(self, y):\n",
        "        return self.label_encoder.transform(y)\n",
        "\n",
        "    def label(self, index):\n",
        "        return self.label_encoder.inverse_transform(index)\n"
      ],
      "execution_count": 11,
      "outputs": []
    },
    {
      "cell_type": "code",
      "metadata": {
        "id": "tMBzJnhOCVFL"
      },
      "source": [
        "def reload_net(path):\n",
        "    \"\"\"\n",
        "    Loads a classifier saved by sasnets from *path*.\n",
        "\n",
        "    :param path: Relative or absolute path to the .h5 model file\n",
        "    :return: The loaded classifier.\n",
        "    \"\"\"\n",
        "    return keras.models.load_model(os.path.normpath(path))\n",
        "\n",
        "def save_output(save_path, model, encoder, history, seed, score):\n",
        "    # Create output directory.\n",
        "    basename = inepath(save_path)\n",
        "    if basename is not None:\n",
        "        model.save(basename + \".h5\")\n",
        "        out = {\n",
        "            'categories': encoder.categories,\n",
        "            'history': history.history,\n",
        "            # seed is used to split training and evaluation data.\n",
        "            # for sqlite it does nothing.\n",
        "            'seed': seed,\n",
        "            'score': score,\n",
        "        }\n",
        "        with open(basename + \".history.json\", 'w') as fd:\n",
        "            json.dump(out, fd, cls=sas_io.NpEncoder)\n",
        "        plot_history(history, basename=basename)\n",
        "\n",
        "def plot_history(history, basename=None):\n",
        "    import matplotlib.pyplot as plt\n",
        "    plt.plot(history.history['accuracy'])\n",
        "    plt.plot(history.history['val_accuracy'])\n",
        "    plt.title('model accuracy')\n",
        "    plt.ylabel('accuracy')\n",
        "    plt.xlabel('epoch')\n",
        "    plt.legend(['train', 'test'], loc='upper left')\n",
        "    with open(basename + \".svg\", 'w') as fd:\n",
        "        plt.savefig(fd, format='svg', bbox_inches='tight')\n",
        "\n",
        "def read_data(opts):\n",
        "    time_start = time.perf_counter()\n",
        "    #q, iq, label, n = sas_io.read_1d_seq(opts.path, tag=opts.train, verbose=verbose)\n",
        "    db = sas_io.sql_connect(opts.database)\n",
        "    iq, label = sas_io.read_sql(db, opts.train)\n",
        "    db.close()\n",
        "    time_end = time.perf_counter()\n",
        "    logging.info(f\"File I/O Took {time_end-time_start} seconds for {len(label)} points of data.\")\n",
        "    return np.asarray(iq), label\n"
      ],
      "execution_count": 12,
      "outputs": []
    },
    {
      "cell_type": "code",
      "metadata": {
        "id": "j_pJxiChCIG6"
      },
      "source": [
        "def sql_net(opts):\n",
        "    \"\"\"\n",
        "    A 1D convnet that uses a generator reading from a SQL database\n",
        "    instead of loading all files into memory at once.\n",
        "    \"\"\"\n",
        "    verbose = 1 if opts.verbose else 0\n",
        "    db = sas_io.sql_connect(opts.database)\n",
        "    counts = model_counts(db, tag=opts.train)\n",
        "    encoder = OnehotEncoder(counts.keys())\n",
        "    train_seq = sas_io.iread_sql(\n",
        "        db, opts.train, encoder=encoder, batch_size=opts.batch)\n",
        "    validation_seq = sas_io.iread_sql(\n",
        "        db, opts.validation, encoder=encoder, batch_size=opts.batch)\n",
        "\n",
        "    # Grab some training data so we can see how big it is\n",
        "    x, y = next(train_seq)\n",
        "\n",
        "    tb = TensorBoard(log_dir=opts.tensorboard, histogram_freq=1)\n",
        "    es = EarlyStopping(min_delta=0.001, patience=15, verbose=verbose)\n",
        "\n",
        "    # Begin model definitions\n",
        "    nq = len(x[0])\n",
        "    model = Sequential()\n",
        "    model.add(Conv1D(nq, kernel_size=8, activation='relu', input_shape=[nq, 1]))\n",
        "    model.add(MaxPooling1D(pool_size=4))\n",
        "    model.add(Dropout(.17676))\n",
        "    model.add(Conv1D(nq//2, kernel_size=6, activation='relu'))\n",
        "    model.add(MaxPooling1D(pool_size=3))\n",
        "    model.add(Dropout(.20782))\n",
        "    model.add(Flatten())\n",
        "    model.add(Dense(nq//4, activation='tanh'))\n",
        "    model.add(Dropout(.20582))\n",
        "    model.add(Dense(nq//4, activation='softmax'))\n",
        "    model.compile(loss=\"categorical_crossentropy\",\n",
        "                  optimizer=keras.optimizers.Adadelta(),\n",
        "                  metrics=['accuracy'])\n",
        "\n",
        "    # Model Run\n",
        "    if verbose > 0:\n",
        "        print(model.summary())\n",
        "    history = model.fit_generator(\n",
        "        train_seq, steps_per_epoch=opts.steps, epochs=opts.epochs,\n",
        "        workers=1, verbose=verbose, validation_data=validation_seq,\n",
        "        max_queue_size=1, callbacks=[tb, es])\n",
        "\n",
        "    score = None\n",
        "    if xval is not None and yval is not None:\n",
        "        score = model.evaluate(xval, yval, verbose=verbose)\n",
        "        print('\\nTest loss: ', score[0])\n",
        "        print('Test accuracy:', score[1])\n",
        "\n",
        "    save_output(\n",
        "        save_path=opts.save_path,\n",
        "        model=model,\n",
        "        encoder=encoder,\n",
        "        history=history,\n",
        "        seed=None,\n",
        "        score=score)\n",
        "    logging.info(\"Complete.\")"
      ],
      "execution_count": 13,
      "outputs": []
    },
    {
      "cell_type": "code",
      "metadata": {
        "id": "Dgn8KBtjMCs1"
      },
      "source": [
        "def trad_nn(x, y, xtest=None, ytest=None, seed=235):\n",
        "    \"\"\"\n",
        "    Runs a traditional MLP categorisation neural net on the input data x and y.\n",
        "\n",
        "    :param x: List of training data x.\n",
        "    :param y: List of corresponding categories for each vector in x.\n",
        "    :param seed: Random seed. Defaults to 235 for reproducibility purposes, but should be set randomly in an actual run.\n",
        "    :param xevl: Evaluation data for model.\n",
        "    :param yevl: Evaluation data for model.\n",
        "    :return: None\n",
        "    \"\"\"\n",
        "    verbose = 1\n",
        "\n",
        "    categories = sorted(set(y))\n",
        "    encoder = OnehotEncoder(categories)\n",
        "    xtrain, xval, ytrain, yval= train_test_split(\n",
        "        x, encoder(y), test_size=.25, random_state=seed)\n",
        "    model = Sequential()\n",
        "    model.add(Dense(128, activation='relu', input_dim=x.shape[1]))\n",
        "    model.add(Dropout(0.25))\n",
        "    model.add(Dense(256, activation='relu'))\n",
        "    model.add(Dropout(0.5))\n",
        "    model.add(Dense(256, activation='relu'))\n",
        "    model.add(Dropout(0.25))\n",
        "    model.add(Dense(512, activation='relu'))\n",
        "    model.add(Dropout(0.5))\n",
        "    model.add(Dense(len(set(y)), activation='softmax'))\n",
        "    model.compile(loss='categorical_crossentropy', optimizer=\"adam\",\n",
        "                  metrics=['accuracy'])\n",
        "    print(model.summary())\n",
        "    history = model.fit(xtrain, ytrain, batch_size=10, epochs=10,\n",
        "                        verbose=verbose, validation_data=(xval, yval))\n",
        "    if xtest and ytest:\n",
        "        score = model.evaluate(xtest, ytest, verbose=verbose)\n",
        "        print('Test loss: ', score[0])\n",
        "        print('Test accuracy:', score[1])\n",
        "\n",
        "    #plot_history(history, basename=basename)\n",
        "\n",
        "\n"
      ],
      "execution_count": 14,
      "outputs": []
    },
    {
      "cell_type": "code",
      "metadata": {
        "id": "YSOvhTsKTebV"
      },
      "source": [
        "def fix_dims(*args):\n",
        "    \"\"\"\n",
        "    Insert extra dimension on inputs for image channel.\n",
        "\n",
        "    Keras seems to require an extra dimension on the inputs, which is\n",
        "    either at the start or the end of the input item, depending on the\n",
        "    backend in use.  Usual is at the end?\n",
        "    \"\"\"\n",
        "    order = keras.backend.image_data_format()\n",
        "    if order == 'channels_last':\n",
        "        fixer = lambda x: np.asarray(x)[..., None]\n",
        "    elif order == 'channels_first':\n",
        "        fixer = lambda x: np.asarray(x)[:, None, ...]\n",
        "    else:\n",
        "        raise ValueError(f\"unknown image data format {order}\")\n",
        "    if len(args) == 0:\n",
        "        return fixer\n",
        "    if len(args) == 1:\n",
        "        return fixer(args[0])\n",
        "    return (fixer(v) for v in args)\n"
      ],
      "execution_count": 15,
      "outputs": []
    },
    {
      "cell_type": "markdown",
      "metadata": {
        "id": "yZqpeDn5pjdD"
      },
      "source": [
        "This is the actual example that we will work with"
      ]
    },
    {
      "cell_type": "code",
      "metadata": {
        "id": "9iK1BXkfBYI6"
      },
      "source": [
        "def oned_convnet(opts, x, y, test=None, seed=235):\n",
        "    \"\"\"\n",
        "    Runs a 1D convolutional classification neural net on the input data x and y.\n",
        "\n",
        "    :param x: List of training data x.\n",
        "    :param y: List of corresponding categories for each vector in x.\n",
        "    :param xtest: List of evaluation data.\n",
        "    :param ytest: List of corresponding categories for each vector in x.\n",
        "    :param seed: Random seed. Defaults to 235 for reproducibility purposes, but should be set randomly in an actual run.\n",
        "    :param verbose: Either true or false. Controls level of output.\n",
        "    :param save_path: The path to save the model to. If it points to a directory, writes to a file named the current unix time. If it points to a file, the file is overwritten.\n",
        "    :return: None.\n",
        "    \"\"\"\n",
        "    verbose = 1 if opts.verbose else 0\n",
        "\n",
        "    # 1-hot encoding.\n",
        "    categories = sorted(set(y))\n",
        "    encoder = OnehotEncoder(categories)\n",
        "\n",
        "    # Split data into train and validation.\n",
        "    test_size = float(opts.validation)/100\n",
        "    xtrain, xval, ytrain, yval = train_test_split(\n",
        "        x, encoder(y), test_size=test_size, random_state=seed)\n",
        "\n",
        "    # We need to poke an extra dimension into our input data for some reason.\n",
        "    if 1:\n",
        "      xtrain, xval = fix_dims(xtrain, xval) #change for embedding or not embedding?\n",
        "    nq, nlabels = x.shape[1], len(categories)\n",
        "\n",
        "    # Check that the validation data covers all the categories\n",
        "    #if categories != sorted(set(ytrain)):\n",
        "    #    raise ValueError(\"Training data is missing categories.\")\n",
        "    #if categories != sorted(set(yval)):\n",
        "    #    raise ValueError(\"Test data is missing categories.\")\n",
        "\n",
        "    tb = TensorBoard(log_dir=opts.tensorboard, histogram_freq=1)\n",
        "    #es = EarlyStopping(min_delta=0.005, patience=5, verbose=verbose)\n",
        "    basename = inepath(opts.save_path)\n",
        "    checkpoint = ModelCheckpoint(\n",
        "        filepath=basename+\"-check.h5\", # or \"-check{epoch:03d}.h5\",\n",
        "        ## To keep best loss, and not overwrite every epoch.\n",
        "        #monitor='loss', save_best_only=True, mode='auto',\n",
        "        )\n",
        "\n",
        "    if opts.resume:\n",
        "        model = reload_net(inepath(opts.save_path)+'.h5')\n",
        "        print(\"model resume shape\", model.layers[0].input_shape[1:] )\n",
        "    else:\n",
        "        # Begin model definitions\n",
        "        model = Sequential()\n",
        "        #model.add(Embedding(4000, 128, input_length=x.shape[1]))\n",
        "        if 0:\n",
        "          print('nq')\n",
        "          print(nq)\n",
        "          print('shape')\n",
        "          print(x.shape)\n",
        "          model.add(Embedding(2000, x.shape[0], input_length=nq))\n",
        "          model.add(Conv1D(2000, kernel_size=6, activation='relu'))\n",
        "        if 1:\n",
        "          model.add(InputLayer(input_shape=(nq,1)))\n",
        "          model.add(Conv1D(nq, kernel_size=6, activation='relu'))\n",
        "        model.add(MaxPooling1D(pool_size=4))\n",
        "        model.add(Dropout(.17676))\n",
        "        model.add(Conv1D(nq//2, kernel_size=6, activation='relu'))\n",
        "        model.add(MaxPooling1D(pool_size=4))\n",
        "        model.add(Dropout(.20782))\n",
        "        model.add(Flatten())\n",
        "        model.add(Dense(nq//4, activation='tanh'))\n",
        "        model.add(Dropout(.20582))\n",
        "        model.add(Dense(nlabels, activation='softmax'))\n",
        "        loss = ('binary_crossentropy' if nlabels == 2\n",
        "                else 'categorical_crossentropy')\n",
        "        model.compile(loss=loss, optimizer=keras.optimizers.Adadelta(),\n",
        "                    metrics=['accuracy'])\n",
        "    if verbose > 0:\n",
        "        print(model.summary())\n",
        "\n",
        "    # Model Run\n",
        "    history = model.fit(\n",
        "        xtrain, ytrain, batch_size=opts.batch,\n",
        "        steps_per_epoch=opts.steps, epochs=opts.epochs,\n",
        "        verbose=verbose, validation_data=(xval, yval),\n",
        "        #callbacks=[tb, es, checkpoint],\n",
        "        callbacks=[tb, checkpoint],\n",
        "        )\n",
        "\n",
        "    # Check the results against the validation data.\n",
        "    score = None\n",
        "    if test is not None:\n",
        "        if categories != sorted(set(test[1])):\n",
        "            raise ValueError(\"Validation data has missing categories.\")\n",
        "        score = model.evaluate(test[0], encoder(test[1]), verbose=verbose)\n",
        "        print('\\nTest loss: ', score[0])\n",
        "        print('Test accuracy:', score[1])\n",
        "\n",
        "    save_output(\n",
        "        save_path=opts.save_path,\n",
        "        model=model,\n",
        "        encoder=encoder,\n",
        "        history=history,\n",
        "        seed=seed,\n",
        "        score=score)\n",
        "    logging.info(\"Complete.\")"
      ],
      "execution_count": 16,
      "outputs": []
    },
    {
      "cell_type": "code",
      "metadata": {
        "id": "ZdCKMwnh8JuY"
      },
      "source": [
        "def main(args):\n",
        "    \"\"\"\n",
        "    Main method. Takes in arguments from command line and runs a model.\n",
        "\n",
        "    :param args: Command line args.\n",
        "    :return: None.\n",
        "    \"\"\"\n",
        "    opts = parser.parse_args(args)\n",
        "    data, label = read_data(opts)\n",
        "    #print(data.shape)\n",
        "    seed = random.randint(0, 2 ** 32 - 1)\n",
        "    logging.info(f\"Random seed for this iter is {seed}\")\n",
        "    oned_convnet(opts, data, label, seed=seed)"
      ],
      "execution_count": 17,
      "outputs": []
    },
    {
      "cell_type": "code",
      "metadata": {
        "id": "9M4fwa-ShKFe",
        "colab": {
          "base_uri": "https://localhost:8080/",
          "height": 1000
        },
        "outputId": "e16c49d6-adb1-455e-a3f7-4631affd084b"
      },
      "source": [
        "main(['-v','--epochs=50', '--database=smallnet.db'])\n",
        "#main(['-v','--epochs=50', '--database=rasmixed.db', '-r'])"
      ],
      "execution_count": 18,
      "outputs": [
        {
          "output_type": "stream",
          "name": "stderr",
          "text": [
            "/usr/local/lib/python3.11/dist-packages/keras/src/layers/core/input_layer.py:27: UserWarning: Argument `input_shape` is deprecated. Use `shape` instead.\n",
            "  warnings.warn(\n"
          ]
        },
        {
          "output_type": "display_data",
          "data": {
            "text/plain": [
              "\u001b[1mModel: \"sequential\"\u001b[0m\n"
            ],
            "text/html": [
              "<pre style=\"white-space:pre;overflow-x:auto;line-height:normal;font-family:Menlo,'DejaVu Sans Mono',consolas,'Courier New',monospace\"><span style=\"font-weight: bold\">Model: \"sequential\"</span>\n",
              "</pre>\n"
            ]
          },
          "metadata": {}
        },
        {
          "output_type": "display_data",
          "data": {
            "text/plain": [
              "┏━━━━━━━━━━━━━━━━━━━━━━━━━━━━━━━━━━━━━━┳━━━━━━━━━━━━━━━━━━━━━━━━━━━━━┳━━━━━━━━━━━━━━━━━┓\n",
              "┃\u001b[1m \u001b[0m\u001b[1mLayer (type)                        \u001b[0m\u001b[1m \u001b[0m┃\u001b[1m \u001b[0m\u001b[1mOutput Shape               \u001b[0m\u001b[1m \u001b[0m┃\u001b[1m \u001b[0m\u001b[1m        Param #\u001b[0m\u001b[1m \u001b[0m┃\n",
              "┡━━━━━━━━━━━━━━━━━━━━━━━━━━━━━━━━━━━━━━╇━━━━━━━━━━━━━━━━━━━━━━━━━━━━━╇━━━━━━━━━━━━━━━━━┩\n",
              "│ conv1d (\u001b[38;5;33mConv1D\u001b[0m)                      │ (\u001b[38;5;45mNone\u001b[0m, \u001b[38;5;34m123\u001b[0m, \u001b[38;5;34m128\u001b[0m)            │             \u001b[38;5;34m896\u001b[0m │\n",
              "├──────────────────────────────────────┼─────────────────────────────┼─────────────────┤\n",
              "│ max_pooling1d (\u001b[38;5;33mMaxPooling1D\u001b[0m)         │ (\u001b[38;5;45mNone\u001b[0m, \u001b[38;5;34m30\u001b[0m, \u001b[38;5;34m128\u001b[0m)             │               \u001b[38;5;34m0\u001b[0m │\n",
              "├──────────────────────────────────────┼─────────────────────────────┼─────────────────┤\n",
              "│ dropout (\u001b[38;5;33mDropout\u001b[0m)                    │ (\u001b[38;5;45mNone\u001b[0m, \u001b[38;5;34m30\u001b[0m, \u001b[38;5;34m128\u001b[0m)             │               \u001b[38;5;34m0\u001b[0m │\n",
              "├──────────────────────────────────────┼─────────────────────────────┼─────────────────┤\n",
              "│ conv1d_1 (\u001b[38;5;33mConv1D\u001b[0m)                    │ (\u001b[38;5;45mNone\u001b[0m, \u001b[38;5;34m25\u001b[0m, \u001b[38;5;34m64\u001b[0m)              │          \u001b[38;5;34m49,216\u001b[0m │\n",
              "├──────────────────────────────────────┼─────────────────────────────┼─────────────────┤\n",
              "│ max_pooling1d_1 (\u001b[38;5;33mMaxPooling1D\u001b[0m)       │ (\u001b[38;5;45mNone\u001b[0m, \u001b[38;5;34m6\u001b[0m, \u001b[38;5;34m64\u001b[0m)               │               \u001b[38;5;34m0\u001b[0m │\n",
              "├──────────────────────────────────────┼─────────────────────────────┼─────────────────┤\n",
              "│ dropout_1 (\u001b[38;5;33mDropout\u001b[0m)                  │ (\u001b[38;5;45mNone\u001b[0m, \u001b[38;5;34m6\u001b[0m, \u001b[38;5;34m64\u001b[0m)               │               \u001b[38;5;34m0\u001b[0m │\n",
              "├──────────────────────────────────────┼─────────────────────────────┼─────────────────┤\n",
              "│ flatten (\u001b[38;5;33mFlatten\u001b[0m)                    │ (\u001b[38;5;45mNone\u001b[0m, \u001b[38;5;34m384\u001b[0m)                 │               \u001b[38;5;34m0\u001b[0m │\n",
              "├──────────────────────────────────────┼─────────────────────────────┼─────────────────┤\n",
              "│ dense (\u001b[38;5;33mDense\u001b[0m)                        │ (\u001b[38;5;45mNone\u001b[0m, \u001b[38;5;34m32\u001b[0m)                  │          \u001b[38;5;34m12,320\u001b[0m │\n",
              "├──────────────────────────────────────┼─────────────────────────────┼─────────────────┤\n",
              "│ dropout_2 (\u001b[38;5;33mDropout\u001b[0m)                  │ (\u001b[38;5;45mNone\u001b[0m, \u001b[38;5;34m32\u001b[0m)                  │               \u001b[38;5;34m0\u001b[0m │\n",
              "├──────────────────────────────────────┼─────────────────────────────┼─────────────────┤\n",
              "│ dense_1 (\u001b[38;5;33mDense\u001b[0m)                      │ (\u001b[38;5;45mNone\u001b[0m, \u001b[38;5;34m2\u001b[0m)                   │              \u001b[38;5;34m66\u001b[0m │\n",
              "└──────────────────────────────────────┴─────────────────────────────┴─────────────────┘\n"
            ],
            "text/html": [
              "<pre style=\"white-space:pre;overflow-x:auto;line-height:normal;font-family:Menlo,'DejaVu Sans Mono',consolas,'Courier New',monospace\">┏━━━━━━━━━━━━━━━━━━━━━━━━━━━━━━━━━━━━━━┳━━━━━━━━━━━━━━━━━━━━━━━━━━━━━┳━━━━━━━━━━━━━━━━━┓\n",
              "┃<span style=\"font-weight: bold\"> Layer (type)                         </span>┃<span style=\"font-weight: bold\"> Output Shape                </span>┃<span style=\"font-weight: bold\">         Param # </span>┃\n",
              "┡━━━━━━━━━━━━━━━━━━━━━━━━━━━━━━━━━━━━━━╇━━━━━━━━━━━━━━━━━━━━━━━━━━━━━╇━━━━━━━━━━━━━━━━━┩\n",
              "│ conv1d (<span style=\"color: #0087ff; text-decoration-color: #0087ff\">Conv1D</span>)                      │ (<span style=\"color: #00d7ff; text-decoration-color: #00d7ff\">None</span>, <span style=\"color: #00af00; text-decoration-color: #00af00\">123</span>, <span style=\"color: #00af00; text-decoration-color: #00af00\">128</span>)            │             <span style=\"color: #00af00; text-decoration-color: #00af00\">896</span> │\n",
              "├──────────────────────────────────────┼─────────────────────────────┼─────────────────┤\n",
              "│ max_pooling1d (<span style=\"color: #0087ff; text-decoration-color: #0087ff\">MaxPooling1D</span>)         │ (<span style=\"color: #00d7ff; text-decoration-color: #00d7ff\">None</span>, <span style=\"color: #00af00; text-decoration-color: #00af00\">30</span>, <span style=\"color: #00af00; text-decoration-color: #00af00\">128</span>)             │               <span style=\"color: #00af00; text-decoration-color: #00af00\">0</span> │\n",
              "├──────────────────────────────────────┼─────────────────────────────┼─────────────────┤\n",
              "│ dropout (<span style=\"color: #0087ff; text-decoration-color: #0087ff\">Dropout</span>)                    │ (<span style=\"color: #00d7ff; text-decoration-color: #00d7ff\">None</span>, <span style=\"color: #00af00; text-decoration-color: #00af00\">30</span>, <span style=\"color: #00af00; text-decoration-color: #00af00\">128</span>)             │               <span style=\"color: #00af00; text-decoration-color: #00af00\">0</span> │\n",
              "├──────────────────────────────────────┼─────────────────────────────┼─────────────────┤\n",
              "│ conv1d_1 (<span style=\"color: #0087ff; text-decoration-color: #0087ff\">Conv1D</span>)                    │ (<span style=\"color: #00d7ff; text-decoration-color: #00d7ff\">None</span>, <span style=\"color: #00af00; text-decoration-color: #00af00\">25</span>, <span style=\"color: #00af00; text-decoration-color: #00af00\">64</span>)              │          <span style=\"color: #00af00; text-decoration-color: #00af00\">49,216</span> │\n",
              "├──────────────────────────────────────┼─────────────────────────────┼─────────────────┤\n",
              "│ max_pooling1d_1 (<span style=\"color: #0087ff; text-decoration-color: #0087ff\">MaxPooling1D</span>)       │ (<span style=\"color: #00d7ff; text-decoration-color: #00d7ff\">None</span>, <span style=\"color: #00af00; text-decoration-color: #00af00\">6</span>, <span style=\"color: #00af00; text-decoration-color: #00af00\">64</span>)               │               <span style=\"color: #00af00; text-decoration-color: #00af00\">0</span> │\n",
              "├──────────────────────────────────────┼─────────────────────────────┼─────────────────┤\n",
              "│ dropout_1 (<span style=\"color: #0087ff; text-decoration-color: #0087ff\">Dropout</span>)                  │ (<span style=\"color: #00d7ff; text-decoration-color: #00d7ff\">None</span>, <span style=\"color: #00af00; text-decoration-color: #00af00\">6</span>, <span style=\"color: #00af00; text-decoration-color: #00af00\">64</span>)               │               <span style=\"color: #00af00; text-decoration-color: #00af00\">0</span> │\n",
              "├──────────────────────────────────────┼─────────────────────────────┼─────────────────┤\n",
              "│ flatten (<span style=\"color: #0087ff; text-decoration-color: #0087ff\">Flatten</span>)                    │ (<span style=\"color: #00d7ff; text-decoration-color: #00d7ff\">None</span>, <span style=\"color: #00af00; text-decoration-color: #00af00\">384</span>)                 │               <span style=\"color: #00af00; text-decoration-color: #00af00\">0</span> │\n",
              "├──────────────────────────────────────┼─────────────────────────────┼─────────────────┤\n",
              "│ dense (<span style=\"color: #0087ff; text-decoration-color: #0087ff\">Dense</span>)                        │ (<span style=\"color: #00d7ff; text-decoration-color: #00d7ff\">None</span>, <span style=\"color: #00af00; text-decoration-color: #00af00\">32</span>)                  │          <span style=\"color: #00af00; text-decoration-color: #00af00\">12,320</span> │\n",
              "├──────────────────────────────────────┼─────────────────────────────┼─────────────────┤\n",
              "│ dropout_2 (<span style=\"color: #0087ff; text-decoration-color: #0087ff\">Dropout</span>)                  │ (<span style=\"color: #00d7ff; text-decoration-color: #00d7ff\">None</span>, <span style=\"color: #00af00; text-decoration-color: #00af00\">32</span>)                  │               <span style=\"color: #00af00; text-decoration-color: #00af00\">0</span> │\n",
              "├──────────────────────────────────────┼─────────────────────────────┼─────────────────┤\n",
              "│ dense_1 (<span style=\"color: #0087ff; text-decoration-color: #0087ff\">Dense</span>)                      │ (<span style=\"color: #00d7ff; text-decoration-color: #00d7ff\">None</span>, <span style=\"color: #00af00; text-decoration-color: #00af00\">2</span>)                   │              <span style=\"color: #00af00; text-decoration-color: #00af00\">66</span> │\n",
              "└──────────────────────────────────────┴─────────────────────────────┴─────────────────┘\n",
              "</pre>\n"
            ]
          },
          "metadata": {}
        },
        {
          "output_type": "display_data",
          "data": {
            "text/plain": [
              "\u001b[1m Total params: \u001b[0m\u001b[38;5;34m62,498\u001b[0m (244.13 KB)\n"
            ],
            "text/html": [
              "<pre style=\"white-space:pre;overflow-x:auto;line-height:normal;font-family:Menlo,'DejaVu Sans Mono',consolas,'Courier New',monospace\"><span style=\"font-weight: bold\"> Total params: </span><span style=\"color: #00af00; text-decoration-color: #00af00\">62,498</span> (244.13 KB)\n",
              "</pre>\n"
            ]
          },
          "metadata": {}
        },
        {
          "output_type": "display_data",
          "data": {
            "text/plain": [
              "\u001b[1m Trainable params: \u001b[0m\u001b[38;5;34m62,498\u001b[0m (244.13 KB)\n"
            ],
            "text/html": [
              "<pre style=\"white-space:pre;overflow-x:auto;line-height:normal;font-family:Menlo,'DejaVu Sans Mono',consolas,'Courier New',monospace\"><span style=\"font-weight: bold\"> Trainable params: </span><span style=\"color: #00af00; text-decoration-color: #00af00\">62,498</span> (244.13 KB)\n",
              "</pre>\n"
            ]
          },
          "metadata": {}
        },
        {
          "output_type": "display_data",
          "data": {
            "text/plain": [
              "\u001b[1m Non-trainable params: \u001b[0m\u001b[38;5;34m0\u001b[0m (0.00 B)\n"
            ],
            "text/html": [
              "<pre style=\"white-space:pre;overflow-x:auto;line-height:normal;font-family:Menlo,'DejaVu Sans Mono',consolas,'Courier New',monospace\"><span style=\"font-weight: bold\"> Non-trainable params: </span><span style=\"color: #00af00; text-decoration-color: #00af00\">0</span> (0.00 B)\n",
              "</pre>\n"
            ]
          },
          "metadata": {}
        },
        {
          "output_type": "stream",
          "name": "stdout",
          "text": [
            "None\n",
            "Epoch 1/50\n",
            "\u001b[1m544/560\u001b[0m \u001b[32m━━━━━━━━━━━━━━━━━━━\u001b[0m\u001b[37m━\u001b[0m \u001b[1m0s\u001b[0m 3ms/step - accuracy: 0.4913 - loss: 0.7395"
          ]
        },
        {
          "output_type": "stream",
          "name": "stderr",
          "text": [
            "WARNING:absl:You are saving your model as an HDF5 file via `model.save()` or `keras.saving.save_model(model)`. This file format is considered legacy. We recommend using instead the native Keras format, e.g. `model.save('my_model.keras')` or `keras.saving.save_model(model, 'my_model.keras')`. \n"
          ]
        },
        {
          "output_type": "stream",
          "name": "stdout",
          "text": [
            "\b\b\b\b\b\b\b\b\b\b\b\b\b\b\b\b\b\b\b\b\b\b\b\b\b\b\b\b\b\b\b\b\b\b\b\b\b\b\b\b\b\b\b\b\b\b\b\b\b\b\b\b\b\b\b\b\b\b\b\b\b\b\b\b\b\b\b\b\b\b\b\b\b\b\r\u001b[1m560/560\u001b[0m \u001b[32m━━━━━━━━━━━━━━━━━━━━\u001b[0m\u001b[37m\u001b[0m \u001b[1m9s\u001b[0m 6ms/step - accuracy: 0.4911 - loss: 0.7394 - val_accuracy: 0.3658 - val_loss: 0.7030\n",
            "Epoch 2/50\n",
            "\u001b[1m550/560\u001b[0m \u001b[32m━━━━━━━━━━━━━━━━━━━\u001b[0m\u001b[37m━\u001b[0m \u001b[1m0s\u001b[0m 3ms/step - accuracy: 0.4742 - loss: 0.7250"
          ]
        },
        {
          "output_type": "stream",
          "name": "stderr",
          "text": [
            "WARNING:absl:You are saving your model as an HDF5 file via `model.save()` or `keras.saving.save_model(model)`. This file format is considered legacy. We recommend using instead the native Keras format, e.g. `model.save('my_model.keras')` or `keras.saving.save_model(model, 'my_model.keras')`. \n"
          ]
        },
        {
          "output_type": "stream",
          "name": "stdout",
          "text": [
            "\b\b\b\b\b\b\b\b\b\b\b\b\b\b\b\b\b\b\b\b\b\b\b\b\b\b\b\b\b\b\b\b\b\b\b\b\b\b\b\b\b\b\b\b\b\b\b\b\b\b\b\b\b\b\b\b\b\b\b\b\b\b\b\b\b\b\b\b\b\b\b\b\b\b\r\u001b[1m560/560\u001b[0m \u001b[32m━━━━━━━━━━━━━━━━━━━━\u001b[0m\u001b[37m\u001b[0m \u001b[1m2s\u001b[0m 4ms/step - accuracy: 0.4744 - loss: 0.7249 - val_accuracy: 0.4083 - val_loss: 0.6971\n",
            "Epoch 3/50\n",
            "\u001b[1m552/560\u001b[0m \u001b[32m━━━━━━━━━━━━━━━━━━━\u001b[0m\u001b[37m━\u001b[0m \u001b[1m0s\u001b[0m 3ms/step - accuracy: 0.4783 - loss: 0.7202"
          ]
        },
        {
          "output_type": "stream",
          "name": "stderr",
          "text": [
            "WARNING:absl:You are saving your model as an HDF5 file via `model.save()` or `keras.saving.save_model(model)`. This file format is considered legacy. We recommend using instead the native Keras format, e.g. `model.save('my_model.keras')` or `keras.saving.save_model(model, 'my_model.keras')`. \n"
          ]
        },
        {
          "output_type": "stream",
          "name": "stdout",
          "text": [
            "\b\b\b\b\b\b\b\b\b\b\b\b\b\b\b\b\b\b\b\b\b\b\b\b\b\b\b\b\b\b\b\b\b\b\b\b\b\b\b\b\b\b\b\b\b\b\b\b\b\b\b\b\b\b\b\b\b\b\b\b\b\b\b\b\b\b\b\b\b\b\b\b\b\b\r\u001b[1m560/560\u001b[0m \u001b[32m━━━━━━━━━━━━━━━━━━━━\u001b[0m\u001b[37m\u001b[0m \u001b[1m2s\u001b[0m 4ms/step - accuracy: 0.4785 - loss: 0.7201 - val_accuracy: 0.4592 - val_loss: 0.6948\n",
            "Epoch 4/50\n",
            "\u001b[1m545/560\u001b[0m \u001b[32m━━━━━━━━━━━━━━━━━━━\u001b[0m\u001b[37m━\u001b[0m \u001b[1m0s\u001b[0m 3ms/step - accuracy: 0.4920 - loss: 0.7102"
          ]
        },
        {
          "output_type": "stream",
          "name": "stderr",
          "text": [
            "WARNING:absl:You are saving your model as an HDF5 file via `model.save()` or `keras.saving.save_model(model)`. This file format is considered legacy. We recommend using instead the native Keras format, e.g. `model.save('my_model.keras')` or `keras.saving.save_model(model, 'my_model.keras')`. \n"
          ]
        },
        {
          "output_type": "stream",
          "name": "stdout",
          "text": [
            "\b\b\b\b\b\b\b\b\b\b\b\b\b\b\b\b\b\b\b\b\b\b\b\b\b\b\b\b\b\b\b\b\b\b\b\b\b\b\b\b\b\b\b\b\b\b\b\b\b\b\b\b\b\b\b\b\b\b\b\b\b\b\b\b\b\b\b\b\b\b\b\b\b\b\r\u001b[1m560/560\u001b[0m \u001b[32m━━━━━━━━━━━━━━━━━━━━\u001b[0m\u001b[37m\u001b[0m \u001b[1m2s\u001b[0m 4ms/step - accuracy: 0.4923 - loss: 0.7102 - val_accuracy: 0.4558 - val_loss: 0.6940\n",
            "Epoch 5/50\n",
            "\u001b[1m546/560\u001b[0m \u001b[32m━━━━━━━━━━━━━━━━━━━\u001b[0m\u001b[37m━\u001b[0m \u001b[1m0s\u001b[0m 3ms/step - accuracy: 0.4997 - loss: 0.7152"
          ]
        },
        {
          "output_type": "stream",
          "name": "stderr",
          "text": [
            "WARNING:absl:You are saving your model as an HDF5 file via `model.save()` or `keras.saving.save_model(model)`. This file format is considered legacy. We recommend using instead the native Keras format, e.g. `model.save('my_model.keras')` or `keras.saving.save_model(model, 'my_model.keras')`. \n"
          ]
        },
        {
          "output_type": "stream",
          "name": "stdout",
          "text": [
            "\b\b\b\b\b\b\b\b\b\b\b\b\b\b\b\b\b\b\b\b\b\b\b\b\b\b\b\b\b\b\b\b\b\b\b\b\b\b\b\b\b\b\b\b\b\b\b\b\b\b\b\b\b\b\b\b\b\b\b\b\b\b\b\b\b\b\b\b\b\b\b\b\b\b\r\u001b[1m560/560\u001b[0m \u001b[32m━━━━━━━━━━━━━━━━━━━━\u001b[0m\u001b[37m\u001b[0m \u001b[1m2s\u001b[0m 4ms/step - accuracy: 0.4994 - loss: 0.7152 - val_accuracy: 0.4625 - val_loss: 0.6937\n",
            "Epoch 6/50\n",
            "\u001b[1m546/560\u001b[0m \u001b[32m━━━━━━━━━━━━━━━━━━━\u001b[0m\u001b[37m━\u001b[0m \u001b[1m0s\u001b[0m 3ms/step - accuracy: 0.4893 - loss: 0.7094"
          ]
        },
        {
          "output_type": "stream",
          "name": "stderr",
          "text": [
            "WARNING:absl:You are saving your model as an HDF5 file via `model.save()` or `keras.saving.save_model(model)`. This file format is considered legacy. We recommend using instead the native Keras format, e.g. `model.save('my_model.keras')` or `keras.saving.save_model(model, 'my_model.keras')`. \n"
          ]
        },
        {
          "output_type": "stream",
          "name": "stdout",
          "text": [
            "\b\b\b\b\b\b\b\b\b\b\b\b\b\b\b\b\b\b\b\b\b\b\b\b\b\b\b\b\b\b\b\b\b\b\b\b\b\b\b\b\b\b\b\b\b\b\b\b\b\b\b\b\b\b\b\b\b\b\b\b\b\b\b\b\b\b\b\b\b\b\b\b\b\b\r\u001b[1m560/560\u001b[0m \u001b[32m━━━━━━━━━━━━━━━━━━━━\u001b[0m\u001b[37m\u001b[0m \u001b[1m2s\u001b[0m 4ms/step - accuracy: 0.4895 - loss: 0.7094 - val_accuracy: 0.4700 - val_loss: 0.6935\n",
            "Epoch 7/50\n",
            "\u001b[1m544/560\u001b[0m \u001b[32m━━━━━━━━━━━━━━━━━━━\u001b[0m\u001b[37m━\u001b[0m \u001b[1m0s\u001b[0m 3ms/step - accuracy: 0.5111 - loss: 0.7029"
          ]
        },
        {
          "output_type": "stream",
          "name": "stderr",
          "text": [
            "WARNING:absl:You are saving your model as an HDF5 file via `model.save()` or `keras.saving.save_model(model)`. This file format is considered legacy. We recommend using instead the native Keras format, e.g. `model.save('my_model.keras')` or `keras.saving.save_model(model, 'my_model.keras')`. \n"
          ]
        },
        {
          "output_type": "stream",
          "name": "stdout",
          "text": [
            "\b\b\b\b\b\b\b\b\b\b\b\b\b\b\b\b\b\b\b\b\b\b\b\b\b\b\b\b\b\b\b\b\b\b\b\b\b\b\b\b\b\b\b\b\b\b\b\b\b\b\b\b\b\b\b\b\b\b\b\b\b\b\b\b\b\b\b\b\b\b\b\b\b\b\r\u001b[1m560/560\u001b[0m \u001b[32m━━━━━━━━━━━━━━━━━━━━\u001b[0m\u001b[37m\u001b[0m \u001b[1m2s\u001b[0m 4ms/step - accuracy: 0.5106 - loss: 0.7030 - val_accuracy: 0.4775 - val_loss: 0.6933\n",
            "Epoch 8/50\n",
            "\u001b[1m558/560\u001b[0m \u001b[32m━━━━━━━━━━━━━━━━━━━\u001b[0m\u001b[37m━\u001b[0m \u001b[1m0s\u001b[0m 3ms/step - accuracy: 0.5093 - loss: 0.7046"
          ]
        },
        {
          "output_type": "stream",
          "name": "stderr",
          "text": [
            "WARNING:absl:You are saving your model as an HDF5 file via `model.save()` or `keras.saving.save_model(model)`. This file format is considered legacy. We recommend using instead the native Keras format, e.g. `model.save('my_model.keras')` or `keras.saving.save_model(model, 'my_model.keras')`. \n"
          ]
        },
        {
          "output_type": "stream",
          "name": "stdout",
          "text": [
            "\b\b\b\b\b\b\b\b\b\b\b\b\b\b\b\b\b\b\b\b\b\b\b\b\b\b\b\b\b\b\b\b\b\b\b\b\b\b\b\b\b\b\b\b\b\b\b\b\b\b\b\b\b\b\b\b\b\b\b\b\b\b\b\b\b\b\b\b\b\b\b\b\b\b\r\u001b[1m560/560\u001b[0m \u001b[32m━━━━━━━━━━━━━━━━━━━━\u001b[0m\u001b[37m\u001b[0m \u001b[1m2s\u001b[0m 4ms/step - accuracy: 0.5093 - loss: 0.7046 - val_accuracy: 0.4733 - val_loss: 0.6930\n",
            "Epoch 9/50\n",
            "\u001b[1m554/560\u001b[0m \u001b[32m━━━━━━━━━━━━━━━━━━━\u001b[0m\u001b[37m━\u001b[0m \u001b[1m0s\u001b[0m 3ms/step - accuracy: 0.5070 - loss: 0.7075"
          ]
        },
        {
          "output_type": "stream",
          "name": "stderr",
          "text": [
            "WARNING:absl:You are saving your model as an HDF5 file via `model.save()` or `keras.saving.save_model(model)`. This file format is considered legacy. We recommend using instead the native Keras format, e.g. `model.save('my_model.keras')` or `keras.saving.save_model(model, 'my_model.keras')`. \n"
          ]
        },
        {
          "output_type": "stream",
          "name": "stdout",
          "text": [
            "\b\b\b\b\b\b\b\b\b\b\b\b\b\b\b\b\b\b\b\b\b\b\b\b\b\b\b\b\b\b\b\b\b\b\b\b\b\b\b\b\b\b\b\b\b\b\b\b\b\b\b\b\b\b\b\b\b\b\b\b\b\b\b\b\b\b\b\b\b\b\b\b\b\b\r\u001b[1m560/560\u001b[0m \u001b[32m━━━━━━━━━━━━━━━━━━━━\u001b[0m\u001b[37m\u001b[0m \u001b[1m2s\u001b[0m 4ms/step - accuracy: 0.5069 - loss: 0.7075 - val_accuracy: 0.4650 - val_loss: 0.6927\n",
            "Epoch 10/50\n",
            "\u001b[1m549/560\u001b[0m \u001b[32m━━━━━━━━━━━━━━━━━━━\u001b[0m\u001b[37m━\u001b[0m \u001b[1m0s\u001b[0m 3ms/step - accuracy: 0.4987 - loss: 0.7082"
          ]
        },
        {
          "output_type": "stream",
          "name": "stderr",
          "text": [
            "WARNING:absl:You are saving your model as an HDF5 file via `model.save()` or `keras.saving.save_model(model)`. This file format is considered legacy. We recommend using instead the native Keras format, e.g. `model.save('my_model.keras')` or `keras.saving.save_model(model, 'my_model.keras')`. \n"
          ]
        },
        {
          "output_type": "stream",
          "name": "stdout",
          "text": [
            "\b\b\b\b\b\b\b\b\b\b\b\b\b\b\b\b\b\b\b\b\b\b\b\b\b\b\b\b\b\b\b\b\b\b\b\b\b\b\b\b\b\b\b\b\b\b\b\b\b\b\b\b\b\b\b\b\b\b\b\b\b\b\b\b\b\b\b\b\b\b\b\b\b\b\r\u001b[1m560/560\u001b[0m \u001b[32m━━━━━━━━━━━━━━━━━━━━\u001b[0m\u001b[37m\u001b[0m \u001b[1m2s\u001b[0m 4ms/step - accuracy: 0.4987 - loss: 0.7081 - val_accuracy: 0.4675 - val_loss: 0.6923\n",
            "Epoch 11/50\n",
            "\u001b[1m553/560\u001b[0m \u001b[32m━━━━━━━━━━━━━━━━━━━\u001b[0m\u001b[37m━\u001b[0m \u001b[1m0s\u001b[0m 3ms/step - accuracy: 0.5087 - loss: 0.7045"
          ]
        },
        {
          "output_type": "stream",
          "name": "stderr",
          "text": [
            "WARNING:absl:You are saving your model as an HDF5 file via `model.save()` or `keras.saving.save_model(model)`. This file format is considered legacy. We recommend using instead the native Keras format, e.g. `model.save('my_model.keras')` or `keras.saving.save_model(model, 'my_model.keras')`. \n"
          ]
        },
        {
          "output_type": "stream",
          "name": "stdout",
          "text": [
            "\b\b\b\b\b\b\b\b\b\b\b\b\b\b\b\b\b\b\b\b\b\b\b\b\b\b\b\b\b\b\b\b\b\b\b\b\b\b\b\b\b\b\b\b\b\b\b\b\b\b\b\b\b\b\b\b\b\b\b\b\b\b\b\b\b\b\b\b\b\b\b\b\b\b\r\u001b[1m560/560\u001b[0m \u001b[32m━━━━━━━━━━━━━━━━━━━━\u001b[0m\u001b[37m\u001b[0m \u001b[1m2s\u001b[0m 4ms/step - accuracy: 0.5086 - loss: 0.7046 - val_accuracy: 0.4875 - val_loss: 0.6920\n",
            "Epoch 12/50\n",
            "\u001b[1m548/560\u001b[0m \u001b[32m━━━━━━━━━━━━━━━━━━━\u001b[0m\u001b[37m━\u001b[0m \u001b[1m0s\u001b[0m 3ms/step - accuracy: 0.4981 - loss: 0.7035"
          ]
        },
        {
          "output_type": "stream",
          "name": "stderr",
          "text": [
            "WARNING:absl:You are saving your model as an HDF5 file via `model.save()` or `keras.saving.save_model(model)`. This file format is considered legacy. We recommend using instead the native Keras format, e.g. `model.save('my_model.keras')` or `keras.saving.save_model(model, 'my_model.keras')`. \n"
          ]
        },
        {
          "output_type": "stream",
          "name": "stdout",
          "text": [
            "\b\b\b\b\b\b\b\b\b\b\b\b\b\b\b\b\b\b\b\b\b\b\b\b\b\b\b\b\b\b\b\b\b\b\b\b\b\b\b\b\b\b\b\b\b\b\b\b\b\b\b\b\b\b\b\b\b\b\b\b\b\b\b\b\b\b\b\b\b\b\b\b\b\b\r\u001b[1m560/560\u001b[0m \u001b[32m━━━━━━━━━━━━━━━━━━━━\u001b[0m\u001b[37m\u001b[0m \u001b[1m2s\u001b[0m 4ms/step - accuracy: 0.4981 - loss: 0.7036 - val_accuracy: 0.4967 - val_loss: 0.6916\n",
            "Epoch 13/50\n",
            "\u001b[1m547/560\u001b[0m \u001b[32m━━━━━━━━━━━━━━━━━━━\u001b[0m\u001b[37m━\u001b[0m \u001b[1m0s\u001b[0m 3ms/step - accuracy: 0.4931 - loss: 0.7088"
          ]
        },
        {
          "output_type": "stream",
          "name": "stderr",
          "text": [
            "WARNING:absl:You are saving your model as an HDF5 file via `model.save()` or `keras.saving.save_model(model)`. This file format is considered legacy. We recommend using instead the native Keras format, e.g. `model.save('my_model.keras')` or `keras.saving.save_model(model, 'my_model.keras')`. \n"
          ]
        },
        {
          "output_type": "stream",
          "name": "stdout",
          "text": [
            "\b\b\b\b\b\b\b\b\b\b\b\b\b\b\b\b\b\b\b\b\b\b\b\b\b\b\b\b\b\b\b\b\b\b\b\b\b\b\b\b\b\b\b\b\b\b\b\b\b\b\b\b\b\b\b\b\b\b\b\b\b\b\b\b\b\b\b\b\b\b\b\b\b\b\r\u001b[1m560/560\u001b[0m \u001b[32m━━━━━━━━━━━━━━━━━━━━\u001b[0m\u001b[37m\u001b[0m \u001b[1m2s\u001b[0m 4ms/step - accuracy: 0.4932 - loss: 0.7088 - val_accuracy: 0.5100 - val_loss: 0.6914\n",
            "Epoch 14/50\n",
            "\u001b[1m556/560\u001b[0m \u001b[32m━━━━━━━━━━━━━━━━━━━\u001b[0m\u001b[37m━\u001b[0m \u001b[1m0s\u001b[0m 3ms/step - accuracy: 0.5218 - loss: 0.7004"
          ]
        },
        {
          "output_type": "stream",
          "name": "stderr",
          "text": [
            "WARNING:absl:You are saving your model as an HDF5 file via `model.save()` or `keras.saving.save_model(model)`. This file format is considered legacy. We recommend using instead the native Keras format, e.g. `model.save('my_model.keras')` or `keras.saving.save_model(model, 'my_model.keras')`. \n"
          ]
        },
        {
          "output_type": "stream",
          "name": "stdout",
          "text": [
            "\b\b\b\b\b\b\b\b\b\b\b\b\b\b\b\b\b\b\b\b\b\b\b\b\b\b\b\b\b\b\b\b\b\b\b\b\b\b\b\b\b\b\b\b\b\b\b\b\b\b\b\b\b\b\b\b\b\b\b\b\b\b\b\b\b\b\b\b\b\b\b\b\b\b\r\u001b[1m560/560\u001b[0m \u001b[32m━━━━━━━━━━━━━━━━━━━━\u001b[0m\u001b[37m\u001b[0m \u001b[1m2s\u001b[0m 4ms/step - accuracy: 0.5218 - loss: 0.7004 - val_accuracy: 0.5133 - val_loss: 0.6909\n",
            "Epoch 15/50\n",
            "\u001b[1m544/560\u001b[0m \u001b[32m━━━━━━━━━━━━━━━━━━━\u001b[0m\u001b[37m━\u001b[0m \u001b[1m0s\u001b[0m 3ms/step - accuracy: 0.5087 - loss: 0.7024"
          ]
        },
        {
          "output_type": "stream",
          "name": "stderr",
          "text": [
            "WARNING:absl:You are saving your model as an HDF5 file via `model.save()` or `keras.saving.save_model(model)`. This file format is considered legacy. We recommend using instead the native Keras format, e.g. `model.save('my_model.keras')` or `keras.saving.save_model(model, 'my_model.keras')`. \n"
          ]
        },
        {
          "output_type": "stream",
          "name": "stdout",
          "text": [
            "\b\b\b\b\b\b\b\b\b\b\b\b\b\b\b\b\b\b\b\b\b\b\b\b\b\b\b\b\b\b\b\b\b\b\b\b\b\b\b\b\b\b\b\b\b\b\b\b\b\b\b\b\b\b\b\b\b\b\b\b\b\b\b\b\b\b\b\b\b\b\b\b\b\b\r\u001b[1m560/560\u001b[0m \u001b[32m━━━━━━━━━━━━━━━━━━━━\u001b[0m\u001b[37m\u001b[0m \u001b[1m2s\u001b[0m 4ms/step - accuracy: 0.5084 - loss: 0.7025 - val_accuracy: 0.5183 - val_loss: 0.6907\n",
            "Epoch 16/50\n",
            "\u001b[1m551/560\u001b[0m \u001b[32m━━━━━━━━━━━━━━━━━━━\u001b[0m\u001b[37m━\u001b[0m \u001b[1m0s\u001b[0m 3ms/step - accuracy: 0.5357 - loss: 0.6953"
          ]
        },
        {
          "output_type": "stream",
          "name": "stderr",
          "text": [
            "WARNING:absl:You are saving your model as an HDF5 file via `model.save()` or `keras.saving.save_model(model)`. This file format is considered legacy. We recommend using instead the native Keras format, e.g. `model.save('my_model.keras')` or `keras.saving.save_model(model, 'my_model.keras')`. \n"
          ]
        },
        {
          "output_type": "stream",
          "name": "stdout",
          "text": [
            "\b\b\b\b\b\b\b\b\b\b\b\b\b\b\b\b\b\b\b\b\b\b\b\b\b\b\b\b\b\b\b\b\b\b\b\b\b\b\b\b\b\b\b\b\b\b\b\b\b\b\b\b\b\b\b\b\b\b\b\b\b\b\b\b\b\b\b\b\b\b\b\b\b\b\r\u001b[1m560/560\u001b[0m \u001b[32m━━━━━━━━━━━━━━━━━━━━\u001b[0m\u001b[37m\u001b[0m \u001b[1m2s\u001b[0m 4ms/step - accuracy: 0.5353 - loss: 0.6954 - val_accuracy: 0.5317 - val_loss: 0.6903\n",
            "Epoch 17/50\n",
            "\u001b[1m558/560\u001b[0m \u001b[32m━━━━━━━━━━━━━━━━━━━\u001b[0m\u001b[37m━\u001b[0m \u001b[1m0s\u001b[0m 3ms/step - accuracy: 0.5173 - loss: 0.7025"
          ]
        },
        {
          "output_type": "stream",
          "name": "stderr",
          "text": [
            "WARNING:absl:You are saving your model as an HDF5 file via `model.save()` or `keras.saving.save_model(model)`. This file format is considered legacy. We recommend using instead the native Keras format, e.g. `model.save('my_model.keras')` or `keras.saving.save_model(model, 'my_model.keras')`. \n"
          ]
        },
        {
          "output_type": "stream",
          "name": "stdout",
          "text": [
            "\b\b\b\b\b\b\b\b\b\b\b\b\b\b\b\b\b\b\b\b\b\b\b\b\b\b\b\b\b\b\b\b\b\b\b\b\b\b\b\b\b\b\b\b\b\b\b\b\b\b\b\b\b\b\b\b\b\b\b\b\b\b\b\b\b\b\b\b\b\b\b\b\b\b\r\u001b[1m560/560\u001b[0m \u001b[32m━━━━━━━━━━━━━━━━━━━━\u001b[0m\u001b[37m\u001b[0m \u001b[1m2s\u001b[0m 4ms/step - accuracy: 0.5173 - loss: 0.7025 - val_accuracy: 0.5383 - val_loss: 0.6899\n",
            "Epoch 18/50\n",
            "\u001b[1m550/560\u001b[0m \u001b[32m━━━━━━━━━━━━━━━━━━━\u001b[0m\u001b[37m━\u001b[0m \u001b[1m0s\u001b[0m 3ms/step - accuracy: 0.4893 - loss: 0.7052"
          ]
        },
        {
          "output_type": "stream",
          "name": "stderr",
          "text": [
            "WARNING:absl:You are saving your model as an HDF5 file via `model.save()` or `keras.saving.save_model(model)`. This file format is considered legacy. We recommend using instead the native Keras format, e.g. `model.save('my_model.keras')` or `keras.saving.save_model(model, 'my_model.keras')`. \n"
          ]
        },
        {
          "output_type": "stream",
          "name": "stdout",
          "text": [
            "\b\b\b\b\b\b\b\b\b\b\b\b\b\b\b\b\b\b\b\b\b\b\b\b\b\b\b\b\b\b\b\b\b\b\b\b\b\b\b\b\b\b\b\b\b\b\b\b\b\b\b\b\b\b\b\b\b\b\b\b\b\b\b\b\b\b\b\b\b\b\b\b\b\b\r\u001b[1m560/560\u001b[0m \u001b[32m━━━━━━━━━━━━━━━━━━━━\u001b[0m\u001b[37m\u001b[0m \u001b[1m2s\u001b[0m 4ms/step - accuracy: 0.4894 - loss: 0.7052 - val_accuracy: 0.5392 - val_loss: 0.6896\n",
            "Epoch 19/50\n",
            "\u001b[1m555/560\u001b[0m \u001b[32m━━━━━━━━━━━━━━━━━━━\u001b[0m\u001b[37m━\u001b[0m \u001b[1m0s\u001b[0m 3ms/step - accuracy: 0.5064 - loss: 0.7029"
          ]
        },
        {
          "output_type": "stream",
          "name": "stderr",
          "text": [
            "WARNING:absl:You are saving your model as an HDF5 file via `model.save()` or `keras.saving.save_model(model)`. This file format is considered legacy. We recommend using instead the native Keras format, e.g. `model.save('my_model.keras')` or `keras.saving.save_model(model, 'my_model.keras')`. \n"
          ]
        },
        {
          "output_type": "stream",
          "name": "stdout",
          "text": [
            "\b\b\b\b\b\b\b\b\b\b\b\b\b\b\b\b\b\b\b\b\b\b\b\b\b\b\b\b\b\b\b\b\b\b\b\b\b\b\b\b\b\b\b\b\b\b\b\b\b\b\b\b\b\b\b\b\b\b\b\b\b\b\b\b\b\b\b\b\b\b\b\b\b\b\r\u001b[1m560/560\u001b[0m \u001b[32m━━━━━━━━━━━━━━━━━━━━\u001b[0m\u001b[37m\u001b[0m \u001b[1m2s\u001b[0m 4ms/step - accuracy: 0.5064 - loss: 0.7029 - val_accuracy: 0.5433 - val_loss: 0.6895\n",
            "Epoch 20/50\n",
            "\u001b[1m546/560\u001b[0m \u001b[32m━━━━━━━━━━━━━━━━━━━\u001b[0m\u001b[37m━\u001b[0m \u001b[1m0s\u001b[0m 3ms/step - accuracy: 0.5200 - loss: 0.6994"
          ]
        },
        {
          "output_type": "stream",
          "name": "stderr",
          "text": [
            "WARNING:absl:You are saving your model as an HDF5 file via `model.save()` or `keras.saving.save_model(model)`. This file format is considered legacy. We recommend using instead the native Keras format, e.g. `model.save('my_model.keras')` or `keras.saving.save_model(model, 'my_model.keras')`. \n"
          ]
        },
        {
          "output_type": "stream",
          "name": "stdout",
          "text": [
            "\b\b\b\b\b\b\b\b\b\b\b\b\b\b\b\b\b\b\b\b\b\b\b\b\b\b\b\b\b\b\b\b\b\b\b\b\b\b\b\b\b\b\b\b\b\b\b\b\b\b\b\b\b\b\b\b\b\b\b\b\b\b\b\b\b\b\b\b\b\b\b\b\b\b\r\u001b[1m560/560\u001b[0m \u001b[32m━━━━━━━━━━━━━━━━━━━━\u001b[0m\u001b[37m\u001b[0m \u001b[1m2s\u001b[0m 4ms/step - accuracy: 0.5198 - loss: 0.6994 - val_accuracy: 0.5542 - val_loss: 0.6892\n",
            "Epoch 21/50\n",
            "\u001b[1m545/560\u001b[0m \u001b[32m━━━━━━━━━━━━━━━━━━━\u001b[0m\u001b[37m━\u001b[0m \u001b[1m0s\u001b[0m 3ms/step - accuracy: 0.4908 - loss: 0.7023"
          ]
        },
        {
          "output_type": "stream",
          "name": "stderr",
          "text": [
            "WARNING:absl:You are saving your model as an HDF5 file via `model.save()` or `keras.saving.save_model(model)`. This file format is considered legacy. We recommend using instead the native Keras format, e.g. `model.save('my_model.keras')` or `keras.saving.save_model(model, 'my_model.keras')`. \n"
          ]
        },
        {
          "output_type": "stream",
          "name": "stdout",
          "text": [
            "\b\b\b\b\b\b\b\b\b\b\b\b\b\b\b\b\b\b\b\b\b\b\b\b\b\b\b\b\b\b\b\b\b\b\b\b\b\b\b\b\b\b\b\b\b\b\b\b\b\b\b\b\b\b\b\b\b\b\b\b\b\b\b\b\b\b\b\b\b\b\b\b\b\b\r\u001b[1m560/560\u001b[0m \u001b[32m━━━━━━━━━━━━━━━━━━━━\u001b[0m\u001b[37m\u001b[0m \u001b[1m2s\u001b[0m 4ms/step - accuracy: 0.4914 - loss: 0.7022 - val_accuracy: 0.5625 - val_loss: 0.6889\n",
            "Epoch 22/50\n",
            "\u001b[1m549/560\u001b[0m \u001b[32m━━━━━━━━━━━━━━━━━━━\u001b[0m\u001b[37m━\u001b[0m \u001b[1m0s\u001b[0m 3ms/step - accuracy: 0.5009 - loss: 0.6991"
          ]
        },
        {
          "output_type": "stream",
          "name": "stderr",
          "text": [
            "WARNING:absl:You are saving your model as an HDF5 file via `model.save()` or `keras.saving.save_model(model)`. This file format is considered legacy. We recommend using instead the native Keras format, e.g. `model.save('my_model.keras')` or `keras.saving.save_model(model, 'my_model.keras')`. \n"
          ]
        },
        {
          "output_type": "stream",
          "name": "stdout",
          "text": [
            "\b\b\b\b\b\b\b\b\b\b\b\b\b\b\b\b\b\b\b\b\b\b\b\b\b\b\b\b\b\b\b\b\b\b\b\b\b\b\b\b\b\b\b\b\b\b\b\b\b\b\b\b\b\b\b\b\b\b\b\b\b\b\b\b\b\b\b\b\b\b\b\b\b\b\r\u001b[1m560/560\u001b[0m \u001b[32m━━━━━━━━━━━━━━━━━━━━\u001b[0m\u001b[37m\u001b[0m \u001b[1m2s\u001b[0m 4ms/step - accuracy: 0.5010 - loss: 0.6991 - val_accuracy: 0.5725 - val_loss: 0.6888\n",
            "Epoch 23/50\n",
            "\u001b[1m544/560\u001b[0m \u001b[32m━━━━━━━━━━━━━━━━━━━\u001b[0m\u001b[37m━\u001b[0m \u001b[1m0s\u001b[0m 3ms/step - accuracy: 0.5063 - loss: 0.6982"
          ]
        },
        {
          "output_type": "stream",
          "name": "stderr",
          "text": [
            "WARNING:absl:You are saving your model as an HDF5 file via `model.save()` or `keras.saving.save_model(model)`. This file format is considered legacy. We recommend using instead the native Keras format, e.g. `model.save('my_model.keras')` or `keras.saving.save_model(model, 'my_model.keras')`. \n"
          ]
        },
        {
          "output_type": "stream",
          "name": "stdout",
          "text": [
            "\b\b\b\b\b\b\b\b\b\b\b\b\b\b\b\b\b\b\b\b\b\b\b\b\b\b\b\b\b\b\b\b\b\b\b\b\b\b\b\b\b\b\b\b\b\b\b\b\b\b\b\b\b\b\b\b\b\b\b\b\b\b\b\b\b\b\b\b\b\b\b\b\b\b\r\u001b[1m560/560\u001b[0m \u001b[32m━━━━━━━━━━━━━━━━━━━━\u001b[0m\u001b[37m\u001b[0m \u001b[1m2s\u001b[0m 4ms/step - accuracy: 0.5065 - loss: 0.6982 - val_accuracy: 0.5817 - val_loss: 0.6884\n",
            "Epoch 24/50\n",
            "\u001b[1m555/560\u001b[0m \u001b[32m━━━━━━━━━━━━━━━━━━━\u001b[0m\u001b[37m━\u001b[0m \u001b[1m0s\u001b[0m 3ms/step - accuracy: 0.5145 - loss: 0.7006"
          ]
        },
        {
          "output_type": "stream",
          "name": "stderr",
          "text": [
            "WARNING:absl:You are saving your model as an HDF5 file via `model.save()` or `keras.saving.save_model(model)`. This file format is considered legacy. We recommend using instead the native Keras format, e.g. `model.save('my_model.keras')` or `keras.saving.save_model(model, 'my_model.keras')`. \n"
          ]
        },
        {
          "output_type": "stream",
          "name": "stdout",
          "text": [
            "\b\b\b\b\b\b\b\b\b\b\b\b\b\b\b\b\b\b\b\b\b\b\b\b\b\b\b\b\b\b\b\b\b\b\b\b\b\b\b\b\b\b\b\b\b\b\b\b\b\b\b\b\b\b\b\b\b\b\b\b\b\b\b\b\b\b\b\b\b\b\b\b\b\b\r\u001b[1m560/560\u001b[0m \u001b[32m━━━━━━━━━━━━━━━━━━━━\u001b[0m\u001b[37m\u001b[0m \u001b[1m2s\u001b[0m 4ms/step - accuracy: 0.5145 - loss: 0.7006 - val_accuracy: 0.5900 - val_loss: 0.6882\n",
            "Epoch 25/50\n",
            "\u001b[1m549/560\u001b[0m \u001b[32m━━━━━━━━━━━━━━━━━━━\u001b[0m\u001b[37m━\u001b[0m \u001b[1m0s\u001b[0m 3ms/step - accuracy: 0.4817 - loss: 0.7049"
          ]
        },
        {
          "output_type": "stream",
          "name": "stderr",
          "text": [
            "WARNING:absl:You are saving your model as an HDF5 file via `model.save()` or `keras.saving.save_model(model)`. This file format is considered legacy. We recommend using instead the native Keras format, e.g. `model.save('my_model.keras')` or `keras.saving.save_model(model, 'my_model.keras')`. \n"
          ]
        },
        {
          "output_type": "stream",
          "name": "stdout",
          "text": [
            "\b\b\b\b\b\b\b\b\b\b\b\b\b\b\b\b\b\b\b\b\b\b\b\b\b\b\b\b\b\b\b\b\b\b\b\b\b\b\b\b\b\b\b\b\b\b\b\b\b\b\b\b\b\b\b\b\b\b\b\b\b\b\b\b\b\b\b\b\b\b\b\b\b\b\r\u001b[1m560/560\u001b[0m \u001b[32m━━━━━━━━━━━━━━━━━━━━\u001b[0m\u001b[37m\u001b[0m \u001b[1m2s\u001b[0m 4ms/step - accuracy: 0.4822 - loss: 0.7048 - val_accuracy: 0.5967 - val_loss: 0.6879\n",
            "Epoch 26/50\n",
            "\u001b[1m547/560\u001b[0m \u001b[32m━━━━━━━━━━━━━━━━━━━\u001b[0m\u001b[37m━\u001b[0m \u001b[1m0s\u001b[0m 3ms/step - accuracy: 0.5287 - loss: 0.6959"
          ]
        },
        {
          "output_type": "stream",
          "name": "stderr",
          "text": [
            "WARNING:absl:You are saving your model as an HDF5 file via `model.save()` or `keras.saving.save_model(model)`. This file format is considered legacy. We recommend using instead the native Keras format, e.g. `model.save('my_model.keras')` or `keras.saving.save_model(model, 'my_model.keras')`. \n"
          ]
        },
        {
          "output_type": "stream",
          "name": "stdout",
          "text": [
            "\b\b\b\b\b\b\b\b\b\b\b\b\b\b\b\b\b\b\b\b\b\b\b\b\b\b\b\b\b\b\b\b\b\b\b\b\b\b\b\b\b\b\b\b\b\b\b\b\b\b\b\b\b\b\b\b\b\b\b\b\b\b\b\b\b\b\b\b\b\b\b\b\b\b\r\u001b[1m560/560\u001b[0m \u001b[32m━━━━━━━━━━━━━━━━━━━━\u001b[0m\u001b[37m\u001b[0m \u001b[1m2s\u001b[0m 4ms/step - accuracy: 0.5286 - loss: 0.6959 - val_accuracy: 0.6008 - val_loss: 0.6876\n",
            "Epoch 27/50\n",
            "\u001b[1m544/560\u001b[0m \u001b[32m━━━━━━━━━━━━━━━━━━━\u001b[0m\u001b[37m━\u001b[0m \u001b[1m0s\u001b[0m 3ms/step - accuracy: 0.5453 - loss: 0.6951"
          ]
        },
        {
          "output_type": "stream",
          "name": "stderr",
          "text": [
            "WARNING:absl:You are saving your model as an HDF5 file via `model.save()` or `keras.saving.save_model(model)`. This file format is considered legacy. We recommend using instead the native Keras format, e.g. `model.save('my_model.keras')` or `keras.saving.save_model(model, 'my_model.keras')`. \n"
          ]
        },
        {
          "output_type": "stream",
          "name": "stdout",
          "text": [
            "\b\b\b\b\b\b\b\b\b\b\b\b\b\b\b\b\b\b\b\b\b\b\b\b\b\b\b\b\b\b\b\b\b\b\b\b\b\b\b\b\b\b\b\b\b\b\b\b\b\b\b\b\b\b\b\b\b\b\b\b\b\b\b\b\b\b\b\b\b\b\b\b\b\b\r\u001b[1m560/560\u001b[0m \u001b[32m━━━━━━━━━━━━━━━━━━━━\u001b[0m\u001b[37m\u001b[0m \u001b[1m2s\u001b[0m 4ms/step - accuracy: 0.5451 - loss: 0.6952 - val_accuracy: 0.6058 - val_loss: 0.6875\n",
            "Epoch 28/50\n",
            "\u001b[1m545/560\u001b[0m \u001b[32m━━━━━━━━━━━━━━━━━━━\u001b[0m\u001b[37m━\u001b[0m \u001b[1m0s\u001b[0m 3ms/step - accuracy: 0.4825 - loss: 0.7053"
          ]
        },
        {
          "output_type": "stream",
          "name": "stderr",
          "text": [
            "WARNING:absl:You are saving your model as an HDF5 file via `model.save()` or `keras.saving.save_model(model)`. This file format is considered legacy. We recommend using instead the native Keras format, e.g. `model.save('my_model.keras')` or `keras.saving.save_model(model, 'my_model.keras')`. \n"
          ]
        },
        {
          "output_type": "stream",
          "name": "stdout",
          "text": [
            "\b\b\b\b\b\b\b\b\b\b\b\b\b\b\b\b\b\b\b\b\b\b\b\b\b\b\b\b\b\b\b\b\b\b\b\b\b\b\b\b\b\b\b\b\b\b\b\b\b\b\b\b\b\b\b\b\b\b\b\b\b\b\b\b\b\b\b\b\b\b\b\b\b\b\r\u001b[1m560/560\u001b[0m \u001b[32m━━━━━━━━━━━━━━━━━━━━\u001b[0m\u001b[37m\u001b[0m \u001b[1m2s\u001b[0m 4ms/step - accuracy: 0.4836 - loss: 0.7051 - val_accuracy: 0.6117 - val_loss: 0.6873\n",
            "Epoch 29/50\n",
            "\u001b[1m556/560\u001b[0m \u001b[32m━━━━━━━━━━━━━━━━━━━\u001b[0m\u001b[37m━\u001b[0m \u001b[1m0s\u001b[0m 3ms/step - accuracy: 0.5402 - loss: 0.6952"
          ]
        },
        {
          "output_type": "stream",
          "name": "stderr",
          "text": [
            "WARNING:absl:You are saving your model as an HDF5 file via `model.save()` or `keras.saving.save_model(model)`. This file format is considered legacy. We recommend using instead the native Keras format, e.g. `model.save('my_model.keras')` or `keras.saving.save_model(model, 'my_model.keras')`. \n"
          ]
        },
        {
          "output_type": "stream",
          "name": "stdout",
          "text": [
            "\b\b\b\b\b\b\b\b\b\b\b\b\b\b\b\b\b\b\b\b\b\b\b\b\b\b\b\b\b\b\b\b\b\b\b\b\b\b\b\b\b\b\b\b\b\b\b\b\b\b\b\b\b\b\b\b\b\b\b\b\b\b\b\b\b\b\b\b\b\b\b\b\b\b\r\u001b[1m560/560\u001b[0m \u001b[32m━━━━━━━━━━━━━━━━━━━━\u001b[0m\u001b[37m\u001b[0m \u001b[1m2s\u001b[0m 4ms/step - accuracy: 0.5403 - loss: 0.6951 - val_accuracy: 0.6167 - val_loss: 0.6868\n",
            "Epoch 30/50\n",
            "\u001b[1m557/560\u001b[0m \u001b[32m━━━━━━━━━━━━━━━━━━━\u001b[0m\u001b[37m━\u001b[0m \u001b[1m0s\u001b[0m 3ms/step - accuracy: 0.5286 - loss: 0.6987"
          ]
        },
        {
          "output_type": "stream",
          "name": "stderr",
          "text": [
            "WARNING:absl:You are saving your model as an HDF5 file via `model.save()` or `keras.saving.save_model(model)`. This file format is considered legacy. We recommend using instead the native Keras format, e.g. `model.save('my_model.keras')` or `keras.saving.save_model(model, 'my_model.keras')`. \n"
          ]
        },
        {
          "output_type": "stream",
          "name": "stdout",
          "text": [
            "\b\b\b\b\b\b\b\b\b\b\b\b\b\b\b\b\b\b\b\b\b\b\b\b\b\b\b\b\b\b\b\b\b\b\b\b\b\b\b\b\b\b\b\b\b\b\b\b\b\b\b\b\b\b\b\b\b\b\b\b\b\b\b\b\b\b\b\b\b\b\b\b\b\b\r\u001b[1m560/560\u001b[0m \u001b[32m━━━━━━━━━━━━━━━━━━━━\u001b[0m\u001b[37m\u001b[0m \u001b[1m2s\u001b[0m 4ms/step - accuracy: 0.5287 - loss: 0.6987 - val_accuracy: 0.6158 - val_loss: 0.6865\n",
            "Epoch 31/50\n",
            "\u001b[1m554/560\u001b[0m \u001b[32m━━━━━━━━━━━━━━━━━━━\u001b[0m\u001b[37m━\u001b[0m \u001b[1m0s\u001b[0m 3ms/step - accuracy: 0.5381 - loss: 0.6930"
          ]
        },
        {
          "output_type": "stream",
          "name": "stderr",
          "text": [
            "WARNING:absl:You are saving your model as an HDF5 file via `model.save()` or `keras.saving.save_model(model)`. This file format is considered legacy. We recommend using instead the native Keras format, e.g. `model.save('my_model.keras')` or `keras.saving.save_model(model, 'my_model.keras')`. \n"
          ]
        },
        {
          "output_type": "stream",
          "name": "stdout",
          "text": [
            "\b\b\b\b\b\b\b\b\b\b\b\b\b\b\b\b\b\b\b\b\b\b\b\b\b\b\b\b\b\b\b\b\b\b\b\b\b\b\b\b\b\b\b\b\b\b\b\b\b\b\b\b\b\b\b\b\b\b\b\b\b\b\b\b\b\b\b\b\b\b\b\b\b\b\r\u001b[1m560/560\u001b[0m \u001b[32m━━━━━━━━━━━━━━━━━━━━\u001b[0m\u001b[37m\u001b[0m \u001b[1m2s\u001b[0m 4ms/step - accuracy: 0.5382 - loss: 0.6929 - val_accuracy: 0.6217 - val_loss: 0.6862\n",
            "Epoch 32/50\n",
            "\u001b[1m543/560\u001b[0m \u001b[32m━━━━━━━━━━━━━━━━━━━\u001b[0m\u001b[37m━\u001b[0m \u001b[1m0s\u001b[0m 3ms/step - accuracy: 0.5382 - loss: 0.6941"
          ]
        },
        {
          "output_type": "stream",
          "name": "stderr",
          "text": [
            "WARNING:absl:You are saving your model as an HDF5 file via `model.save()` or `keras.saving.save_model(model)`. This file format is considered legacy. We recommend using instead the native Keras format, e.g. `model.save('my_model.keras')` or `keras.saving.save_model(model, 'my_model.keras')`. \n"
          ]
        },
        {
          "output_type": "stream",
          "name": "stdout",
          "text": [
            "\b\b\b\b\b\b\b\b\b\b\b\b\b\b\b\b\b\b\b\b\b\b\b\b\b\b\b\b\b\b\b\b\b\b\b\b\b\b\b\b\b\b\b\b\b\b\b\b\b\b\b\b\b\b\b\b\b\b\b\b\b\b\b\b\b\b\b\b\b\b\b\b\b\b\r\u001b[1m560/560\u001b[0m \u001b[32m━━━━━━━━━━━━━━━━━━━━\u001b[0m\u001b[37m\u001b[0m \u001b[1m2s\u001b[0m 4ms/step - accuracy: 0.5382 - loss: 0.6940 - val_accuracy: 0.6242 - val_loss: 0.6858\n",
            "Epoch 33/50\n",
            "\u001b[1m560/560\u001b[0m \u001b[32m━━━━━━━━━━━━━━━━━━━━\u001b[0m\u001b[37m\u001b[0m \u001b[1m0s\u001b[0m 3ms/step - accuracy: 0.5251 - loss: 0.6964"
          ]
        },
        {
          "output_type": "stream",
          "name": "stderr",
          "text": [
            "WARNING:absl:You are saving your model as an HDF5 file via `model.save()` or `keras.saving.save_model(model)`. This file format is considered legacy. We recommend using instead the native Keras format, e.g. `model.save('my_model.keras')` or `keras.saving.save_model(model, 'my_model.keras')`. \n"
          ]
        },
        {
          "output_type": "stream",
          "name": "stdout",
          "text": [
            "\b\b\b\b\b\b\b\b\b\b\b\b\b\b\b\b\b\b\b\b\b\b\b\b\b\b\b\b\b\b\b\b\b\b\b\b\b\b\b\b\b\b\b\b\b\b\b\b\b\b\b\b\b\b\b\b\b\b\b\b\b\b\b\b\b\b\b\b\b\b\b\b\b\b\r\u001b[1m560/560\u001b[0m \u001b[32m━━━━━━━━━━━━━━━━━━━━\u001b[0m\u001b[37m\u001b[0m \u001b[1m2s\u001b[0m 4ms/step - accuracy: 0.5252 - loss: 0.6963 - val_accuracy: 0.6275 - val_loss: 0.6856\n",
            "Epoch 34/50\n",
            "\u001b[1m548/560\u001b[0m \u001b[32m━━━━━━━━━━━━━━━━━━━\u001b[0m\u001b[37m━\u001b[0m \u001b[1m0s\u001b[0m 3ms/step - accuracy: 0.5241 - loss: 0.6963"
          ]
        },
        {
          "output_type": "stream",
          "name": "stderr",
          "text": [
            "WARNING:absl:You are saving your model as an HDF5 file via `model.save()` or `keras.saving.save_model(model)`. This file format is considered legacy. We recommend using instead the native Keras format, e.g. `model.save('my_model.keras')` or `keras.saving.save_model(model, 'my_model.keras')`. \n"
          ]
        },
        {
          "output_type": "stream",
          "name": "stdout",
          "text": [
            "\b\b\b\b\b\b\b\b\b\b\b\b\b\b\b\b\b\b\b\b\b\b\b\b\b\b\b\b\b\b\b\b\b\b\b\b\b\b\b\b\b\b\b\b\b\b\b\b\b\b\b\b\b\b\b\b\b\b\b\b\b\b\b\b\b\b\b\b\b\b\b\b\b\b\r\u001b[1m560/560\u001b[0m \u001b[32m━━━━━━━━━━━━━━━━━━━━\u001b[0m\u001b[37m\u001b[0m \u001b[1m2s\u001b[0m 4ms/step - accuracy: 0.5243 - loss: 0.6963 - val_accuracy: 0.6300 - val_loss: 0.6855\n",
            "Epoch 35/50\n",
            "\u001b[1m543/560\u001b[0m \u001b[32m━━━━━━━━━━━━━━━━━━━\u001b[0m\u001b[37m━\u001b[0m \u001b[1m0s\u001b[0m 3ms/step - accuracy: 0.5268 - loss: 0.6942"
          ]
        },
        {
          "output_type": "stream",
          "name": "stderr",
          "text": [
            "WARNING:absl:You are saving your model as an HDF5 file via `model.save()` or `keras.saving.save_model(model)`. This file format is considered legacy. We recommend using instead the native Keras format, e.g. `model.save('my_model.keras')` or `keras.saving.save_model(model, 'my_model.keras')`. \n"
          ]
        },
        {
          "output_type": "stream",
          "name": "stdout",
          "text": [
            "\b\b\b\b\b\b\b\b\b\b\b\b\b\b\b\b\b\b\b\b\b\b\b\b\b\b\b\b\b\b\b\b\b\b\b\b\b\b\b\b\b\b\b\b\b\b\b\b\b\b\b\b\b\b\b\b\b\b\b\b\b\b\b\b\b\b\b\b\b\b\b\b\b\b\r\u001b[1m560/560\u001b[0m \u001b[32m━━━━━━━━━━━━━━━━━━━━\u001b[0m\u001b[37m\u001b[0m \u001b[1m2s\u001b[0m 4ms/step - accuracy: 0.5268 - loss: 0.6943 - val_accuracy: 0.6308 - val_loss: 0.6855\n",
            "Epoch 36/50\n",
            "\u001b[1m543/560\u001b[0m \u001b[32m━━━━━━━━━━━━━━━━━━━\u001b[0m\u001b[37m━\u001b[0m \u001b[1m0s\u001b[0m 3ms/step - accuracy: 0.5501 - loss: 0.6912"
          ]
        },
        {
          "output_type": "stream",
          "name": "stderr",
          "text": [
            "WARNING:absl:You are saving your model as an HDF5 file via `model.save()` or `keras.saving.save_model(model)`. This file format is considered legacy. We recommend using instead the native Keras format, e.g. `model.save('my_model.keras')` or `keras.saving.save_model(model, 'my_model.keras')`. \n"
          ]
        },
        {
          "output_type": "stream",
          "name": "stdout",
          "text": [
            "\b\b\b\b\b\b\b\b\b\b\b\b\b\b\b\b\b\b\b\b\b\b\b\b\b\b\b\b\b\b\b\b\b\b\b\b\b\b\b\b\b\b\b\b\b\b\b\b\b\b\b\b\b\b\b\b\b\b\b\b\b\b\b\b\b\b\b\b\b\b\b\b\b\b\r\u001b[1m560/560\u001b[0m \u001b[32m━━━━━━━━━━━━━━━━━━━━\u001b[0m\u001b[37m\u001b[0m \u001b[1m2s\u001b[0m 4ms/step - accuracy: 0.5496 - loss: 0.6913 - val_accuracy: 0.6375 - val_loss: 0.6852\n",
            "Epoch 37/50\n",
            "\u001b[1m550/560\u001b[0m \u001b[32m━━━━━━━━━━━━━━━━━━━\u001b[0m\u001b[37m━\u001b[0m \u001b[1m0s\u001b[0m 3ms/step - accuracy: 0.5604 - loss: 0.6947"
          ]
        },
        {
          "output_type": "stream",
          "name": "stderr",
          "text": [
            "WARNING:absl:You are saving your model as an HDF5 file via `model.save()` or `keras.saving.save_model(model)`. This file format is considered legacy. We recommend using instead the native Keras format, e.g. `model.save('my_model.keras')` or `keras.saving.save_model(model, 'my_model.keras')`. \n"
          ]
        },
        {
          "output_type": "stream",
          "name": "stdout",
          "text": [
            "\b\b\b\b\b\b\b\b\b\b\b\b\b\b\b\b\b\b\b\b\b\b\b\b\b\b\b\b\b\b\b\b\b\b\b\b\b\b\b\b\b\b\b\b\b\b\b\b\b\b\b\b\b\b\b\b\b\b\b\b\b\b\b\b\b\b\b\b\b\b\b\b\b\b\r\u001b[1m560/560\u001b[0m \u001b[32m━━━━━━━━━━━━━━━━━━━━\u001b[0m\u001b[37m\u001b[0m \u001b[1m2s\u001b[0m 4ms/step - accuracy: 0.5605 - loss: 0.6947 - val_accuracy: 0.6383 - val_loss: 0.6849\n",
            "Epoch 38/50\n",
            "\u001b[1m548/560\u001b[0m \u001b[32m━━━━━━━━━━━━━━━━━━━\u001b[0m\u001b[37m━\u001b[0m \u001b[1m0s\u001b[0m 3ms/step - accuracy: 0.5483 - loss: 0.6909"
          ]
        },
        {
          "output_type": "stream",
          "name": "stderr",
          "text": [
            "WARNING:absl:You are saving your model as an HDF5 file via `model.save()` or `keras.saving.save_model(model)`. This file format is considered legacy. We recommend using instead the native Keras format, e.g. `model.save('my_model.keras')` or `keras.saving.save_model(model, 'my_model.keras')`. \n"
          ]
        },
        {
          "output_type": "stream",
          "name": "stdout",
          "text": [
            "\b\b\b\b\b\b\b\b\b\b\b\b\b\b\b\b\b\b\b\b\b\b\b\b\b\b\b\b\b\b\b\b\b\b\b\b\b\b\b\b\b\b\b\b\b\b\b\b\b\b\b\b\b\b\b\b\b\b\b\b\b\b\b\b\b\b\b\b\b\b\b\b\b\b\r\u001b[1m560/560\u001b[0m \u001b[32m━━━━━━━━━━━━━━━━━━━━\u001b[0m\u001b[37m\u001b[0m \u001b[1m2s\u001b[0m 4ms/step - accuracy: 0.5480 - loss: 0.6910 - val_accuracy: 0.6308 - val_loss: 0.6846\n",
            "Epoch 39/50\n",
            "\u001b[1m556/560\u001b[0m \u001b[32m━━━━━━━━━━━━━━━━━━━\u001b[0m\u001b[37m━\u001b[0m \u001b[1m0s\u001b[0m 3ms/step - accuracy: 0.5506 - loss: 0.6884"
          ]
        },
        {
          "output_type": "stream",
          "name": "stderr",
          "text": [
            "WARNING:absl:You are saving your model as an HDF5 file via `model.save()` or `keras.saving.save_model(model)`. This file format is considered legacy. We recommend using instead the native Keras format, e.g. `model.save('my_model.keras')` or `keras.saving.save_model(model, 'my_model.keras')`. \n"
          ]
        },
        {
          "output_type": "stream",
          "name": "stdout",
          "text": [
            "\b\b\b\b\b\b\b\b\b\b\b\b\b\b\b\b\b\b\b\b\b\b\b\b\b\b\b\b\b\b\b\b\b\b\b\b\b\b\b\b\b\b\b\b\b\b\b\b\b\b\b\b\b\b\b\b\b\b\b\b\b\b\b\b\b\b\b\b\b\b\b\b\b\b\r\u001b[1m560/560\u001b[0m \u001b[32m━━━━━━━━━━━━━━━━━━━━\u001b[0m\u001b[37m\u001b[0m \u001b[1m2s\u001b[0m 4ms/step - accuracy: 0.5507 - loss: 0.6884 - val_accuracy: 0.6350 - val_loss: 0.6841\n",
            "Epoch 40/50\n",
            "\u001b[1m551/560\u001b[0m \u001b[32m━━━━━━━━━━━━━━━━━━━\u001b[0m\u001b[37m━\u001b[0m \u001b[1m0s\u001b[0m 3ms/step - accuracy: 0.5652 - loss: 0.6857"
          ]
        },
        {
          "output_type": "stream",
          "name": "stderr",
          "text": [
            "WARNING:absl:You are saving your model as an HDF5 file via `model.save()` or `keras.saving.save_model(model)`. This file format is considered legacy. We recommend using instead the native Keras format, e.g. `model.save('my_model.keras')` or `keras.saving.save_model(model, 'my_model.keras')`. \n"
          ]
        },
        {
          "output_type": "stream",
          "name": "stdout",
          "text": [
            "\b\b\b\b\b\b\b\b\b\b\b\b\b\b\b\b\b\b\b\b\b\b\b\b\b\b\b\b\b\b\b\b\b\b\b\b\b\b\b\b\b\b\b\b\b\b\b\b\b\b\b\b\b\b\b\b\b\b\b\b\b\b\b\b\b\b\b\b\b\b\b\b\b\b\r\u001b[1m560/560\u001b[0m \u001b[32m━━━━━━━━━━━━━━━━━━━━\u001b[0m\u001b[37m\u001b[0m \u001b[1m2s\u001b[0m 4ms/step - accuracy: 0.5649 - loss: 0.6857 - val_accuracy: 0.6583 - val_loss: 0.6840\n",
            "Epoch 41/50\n",
            "\u001b[1m550/560\u001b[0m \u001b[32m━━━━━━━━━━━━━━━━━━━\u001b[0m\u001b[37m━\u001b[0m \u001b[1m0s\u001b[0m 3ms/step - accuracy: 0.5778 - loss: 0.6838"
          ]
        },
        {
          "output_type": "stream",
          "name": "stderr",
          "text": [
            "WARNING:absl:You are saving your model as an HDF5 file via `model.save()` or `keras.saving.save_model(model)`. This file format is considered legacy. We recommend using instead the native Keras format, e.g. `model.save('my_model.keras')` or `keras.saving.save_model(model, 'my_model.keras')`. \n"
          ]
        },
        {
          "output_type": "stream",
          "name": "stdout",
          "text": [
            "\b\b\b\b\b\b\b\b\b\b\b\b\b\b\b\b\b\b\b\b\b\b\b\b\b\b\b\b\b\b\b\b\b\b\b\b\b\b\b\b\b\b\b\b\b\b\b\b\b\b\b\b\b\b\b\b\b\b\b\b\b\b\b\b\b\b\b\b\b\b\b\b\b\b\r\u001b[1m560/560\u001b[0m \u001b[32m━━━━━━━━━━━━━━━━━━━━\u001b[0m\u001b[37m\u001b[0m \u001b[1m2s\u001b[0m 4ms/step - accuracy: 0.5777 - loss: 0.6838 - val_accuracy: 0.6600 - val_loss: 0.6837\n",
            "Epoch 42/50\n",
            "\u001b[1m559/560\u001b[0m \u001b[32m━━━━━━━━━━━━━━━━━━━\u001b[0m\u001b[37m━\u001b[0m \u001b[1m0s\u001b[0m 3ms/step - accuracy: 0.5354 - loss: 0.6932"
          ]
        },
        {
          "output_type": "stream",
          "name": "stderr",
          "text": [
            "WARNING:absl:You are saving your model as an HDF5 file via `model.save()` or `keras.saving.save_model(model)`. This file format is considered legacy. We recommend using instead the native Keras format, e.g. `model.save('my_model.keras')` or `keras.saving.save_model(model, 'my_model.keras')`. \n"
          ]
        },
        {
          "output_type": "stream",
          "name": "stdout",
          "text": [
            "\b\b\b\b\b\b\b\b\b\b\b\b\b\b\b\b\b\b\b\b\b\b\b\b\b\b\b\b\b\b\b\b\b\b\b\b\b\b\b\b\b\b\b\b\b\b\b\b\b\b\b\b\b\b\b\b\b\b\b\b\b\b\b\b\b\b\b\b\b\b\b\b\b\b\r\u001b[1m560/560\u001b[0m \u001b[32m━━━━━━━━━━━━━━━━━━━━\u001b[0m\u001b[37m\u001b[0m \u001b[1m2s\u001b[0m 4ms/step - accuracy: 0.5355 - loss: 0.6932 - val_accuracy: 0.6650 - val_loss: 0.6835\n",
            "Epoch 43/50\n",
            "\u001b[1m555/560\u001b[0m \u001b[32m━━━━━━━━━━━━━━━━━━━\u001b[0m\u001b[37m━\u001b[0m \u001b[1m0s\u001b[0m 3ms/step - accuracy: 0.5572 - loss: 0.6884"
          ]
        },
        {
          "output_type": "stream",
          "name": "stderr",
          "text": [
            "WARNING:absl:You are saving your model as an HDF5 file via `model.save()` or `keras.saving.save_model(model)`. This file format is considered legacy. We recommend using instead the native Keras format, e.g. `model.save('my_model.keras')` or `keras.saving.save_model(model, 'my_model.keras')`. \n"
          ]
        },
        {
          "output_type": "stream",
          "name": "stdout",
          "text": [
            "\b\b\b\b\b\b\b\b\b\b\b\b\b\b\b\b\b\b\b\b\b\b\b\b\b\b\b\b\b\b\b\b\b\b\b\b\b\b\b\b\b\b\b\b\b\b\b\b\b\b\b\b\b\b\b\b\b\b\b\b\b\b\b\b\b\b\b\b\b\b\b\b\b\b\r\u001b[1m560/560\u001b[0m \u001b[32m━━━━━━━━━━━━━━━━━━━━\u001b[0m\u001b[37m\u001b[0m \u001b[1m2s\u001b[0m 4ms/step - accuracy: 0.5570 - loss: 0.6884 - val_accuracy: 0.6675 - val_loss: 0.6832\n",
            "Epoch 44/50\n",
            "\u001b[1m544/560\u001b[0m \u001b[32m━━━━━━━━━━━━━━━━━━━\u001b[0m\u001b[37m━\u001b[0m \u001b[1m0s\u001b[0m 3ms/step - accuracy: 0.5542 - loss: 0.6878"
          ]
        },
        {
          "output_type": "stream",
          "name": "stderr",
          "text": [
            "WARNING:absl:You are saving your model as an HDF5 file via `model.save()` or `keras.saving.save_model(model)`. This file format is considered legacy. We recommend using instead the native Keras format, e.g. `model.save('my_model.keras')` or `keras.saving.save_model(model, 'my_model.keras')`. \n"
          ]
        },
        {
          "output_type": "stream",
          "name": "stdout",
          "text": [
            "\b\b\b\b\b\b\b\b\b\b\b\b\b\b\b\b\b\b\b\b\b\b\b\b\b\b\b\b\b\b\b\b\b\b\b\b\b\b\b\b\b\b\b\b\b\b\b\b\b\b\b\b\b\b\b\b\b\b\b\b\b\b\b\b\b\b\b\b\b\b\b\b\b\b\r\u001b[1m560/560\u001b[0m \u001b[32m━━━━━━━━━━━━━━━━━━━━\u001b[0m\u001b[37m\u001b[0m \u001b[1m2s\u001b[0m 4ms/step - accuracy: 0.5540 - loss: 0.6878 - val_accuracy: 0.6700 - val_loss: 0.6830\n",
            "Epoch 45/50\n",
            "\u001b[1m555/560\u001b[0m \u001b[32m━━━━━━━━━━━━━━━━━━━\u001b[0m\u001b[37m━\u001b[0m \u001b[1m0s\u001b[0m 3ms/step - accuracy: 0.5936 - loss: 0.6824"
          ]
        },
        {
          "output_type": "stream",
          "name": "stderr",
          "text": [
            "WARNING:absl:You are saving your model as an HDF5 file via `model.save()` or `keras.saving.save_model(model)`. This file format is considered legacy. We recommend using instead the native Keras format, e.g. `model.save('my_model.keras')` or `keras.saving.save_model(model, 'my_model.keras')`. \n"
          ]
        },
        {
          "output_type": "stream",
          "name": "stdout",
          "text": [
            "\b\b\b\b\b\b\b\b\b\b\b\b\b\b\b\b\b\b\b\b\b\b\b\b\b\b\b\b\b\b\b\b\b\b\b\b\b\b\b\b\b\b\b\b\b\b\b\b\b\b\b\b\b\b\b\b\b\b\b\b\b\b\b\b\b\b\b\b\b\b\b\b\b\b\r\u001b[1m560/560\u001b[0m \u001b[32m━━━━━━━━━━━━━━━━━━━━\u001b[0m\u001b[37m\u001b[0m \u001b[1m2s\u001b[0m 4ms/step - accuracy: 0.5935 - loss: 0.6824 - val_accuracy: 0.6725 - val_loss: 0.6826\n",
            "Epoch 46/50\n",
            "\u001b[1m550/560\u001b[0m \u001b[32m━━━━━━━━━━━━━━━━━━━\u001b[0m\u001b[37m━\u001b[0m \u001b[1m0s\u001b[0m 3ms/step - accuracy: 0.5697 - loss: 0.6873"
          ]
        },
        {
          "output_type": "stream",
          "name": "stderr",
          "text": [
            "WARNING:absl:You are saving your model as an HDF5 file via `model.save()` or `keras.saving.save_model(model)`. This file format is considered legacy. We recommend using instead the native Keras format, e.g. `model.save('my_model.keras')` or `keras.saving.save_model(model, 'my_model.keras')`. \n"
          ]
        },
        {
          "output_type": "stream",
          "name": "stdout",
          "text": [
            "\b\b\b\b\b\b\b\b\b\b\b\b\b\b\b\b\b\b\b\b\b\b\b\b\b\b\b\b\b\b\b\b\b\b\b\b\b\b\b\b\b\b\b\b\b\b\b\b\b\b\b\b\b\b\b\b\b\b\b\b\b\b\b\b\b\b\b\b\b\b\b\b\b\b\r\u001b[1m560/560\u001b[0m \u001b[32m━━━━━━━━━━━━━━━━━━━━\u001b[0m\u001b[37m\u001b[0m \u001b[1m2s\u001b[0m 4ms/step - accuracy: 0.5697 - loss: 0.6872 - val_accuracy: 0.6750 - val_loss: 0.6823\n",
            "Epoch 47/50\n",
            "\u001b[1m556/560\u001b[0m \u001b[32m━━━━━━━━━━━━━━━━━━━\u001b[0m\u001b[37m━\u001b[0m \u001b[1m0s\u001b[0m 3ms/step - accuracy: 0.5659 - loss: 0.6837"
          ]
        },
        {
          "output_type": "stream",
          "name": "stderr",
          "text": [
            "WARNING:absl:You are saving your model as an HDF5 file via `model.save()` or `keras.saving.save_model(model)`. This file format is considered legacy. We recommend using instead the native Keras format, e.g. `model.save('my_model.keras')` or `keras.saving.save_model(model, 'my_model.keras')`. \n"
          ]
        },
        {
          "output_type": "stream",
          "name": "stdout",
          "text": [
            "\b\b\b\b\b\b\b\b\b\b\b\b\b\b\b\b\b\b\b\b\b\b\b\b\b\b\b\b\b\b\b\b\b\b\b\b\b\b\b\b\b\b\b\b\b\b\b\b\b\b\b\b\b\b\b\b\b\b\b\b\b\b\b\b\b\b\b\b\b\b\b\b\b\b\r\u001b[1m560/560\u001b[0m \u001b[32m━━━━━━━━━━━━━━━━━━━━\u001b[0m\u001b[37m\u001b[0m \u001b[1m2s\u001b[0m 4ms/step - accuracy: 0.5658 - loss: 0.6837 - val_accuracy: 0.6808 - val_loss: 0.6820\n",
            "Epoch 48/50\n",
            "\u001b[1m545/560\u001b[0m \u001b[32m━━━━━━━━━━━━━━━━━━━\u001b[0m\u001b[37m━\u001b[0m \u001b[1m0s\u001b[0m 3ms/step - accuracy: 0.5512 - loss: 0.6865"
          ]
        },
        {
          "output_type": "stream",
          "name": "stderr",
          "text": [
            "WARNING:absl:You are saving your model as an HDF5 file via `model.save()` or `keras.saving.save_model(model)`. This file format is considered legacy. We recommend using instead the native Keras format, e.g. `model.save('my_model.keras')` or `keras.saving.save_model(model, 'my_model.keras')`. \n"
          ]
        },
        {
          "output_type": "stream",
          "name": "stdout",
          "text": [
            "\b\b\b\b\b\b\b\b\b\b\b\b\b\b\b\b\b\b\b\b\b\b\b\b\b\b\b\b\b\b\b\b\b\b\b\b\b\b\b\b\b\b\b\b\b\b\b\b\b\b\b\b\b\b\b\b\b\b\b\b\b\b\b\b\b\b\b\b\b\b\b\b\b\b\r\u001b[1m560/560\u001b[0m \u001b[32m━━━━━━━━━━━━━━━━━━━━\u001b[0m\u001b[37m\u001b[0m \u001b[1m2s\u001b[0m 4ms/step - accuracy: 0.5514 - loss: 0.6865 - val_accuracy: 0.6758 - val_loss: 0.6816\n",
            "Epoch 49/50\n",
            "\u001b[1m554/560\u001b[0m \u001b[32m━━━━━━━━━━━━━━━━━━━\u001b[0m\u001b[37m━\u001b[0m \u001b[1m0s\u001b[0m 3ms/step - accuracy: 0.5511 - loss: 0.6861"
          ]
        },
        {
          "output_type": "stream",
          "name": "stderr",
          "text": [
            "WARNING:absl:You are saving your model as an HDF5 file via `model.save()` or `keras.saving.save_model(model)`. This file format is considered legacy. We recommend using instead the native Keras format, e.g. `model.save('my_model.keras')` or `keras.saving.save_model(model, 'my_model.keras')`. \n"
          ]
        },
        {
          "output_type": "stream",
          "name": "stdout",
          "text": [
            "\b\b\b\b\b\b\b\b\b\b\b\b\b\b\b\b\b\b\b\b\b\b\b\b\b\b\b\b\b\b\b\b\b\b\b\b\b\b\b\b\b\b\b\b\b\b\b\b\b\b\b\b\b\b\b\b\b\b\b\b\b\b\b\b\b\b\b\b\b\b\b\b\b\b\r\u001b[1m560/560\u001b[0m \u001b[32m━━━━━━━━━━━━━━━━━━━━\u001b[0m\u001b[37m\u001b[0m \u001b[1m2s\u001b[0m 4ms/step - accuracy: 0.5512 - loss: 0.6861 - val_accuracy: 0.6808 - val_loss: 0.6812\n",
            "Epoch 50/50\n",
            "\u001b[1m548/560\u001b[0m \u001b[32m━━━━━━━━━━━━━━━━━━━\u001b[0m\u001b[37m━\u001b[0m \u001b[1m0s\u001b[0m 3ms/step - accuracy: 0.5639 - loss: 0.6882"
          ]
        },
        {
          "output_type": "stream",
          "name": "stderr",
          "text": [
            "WARNING:absl:You are saving your model as an HDF5 file via `model.save()` or `keras.saving.save_model(model)`. This file format is considered legacy. We recommend using instead the native Keras format, e.g. `model.save('my_model.keras')` or `keras.saving.save_model(model, 'my_model.keras')`. \n"
          ]
        },
        {
          "output_type": "stream",
          "name": "stdout",
          "text": [
            "\b\b\b\b\b\b\b\b\b\b\b\b\b\b\b\b\b\b\b\b\b\b\b\b\b\b\b\b\b\b\b\b\b\b\b\b\b\b\b\b\b\b\b\b\b\b\b\b\b\b\b\b\b\b\b\b\b\b\b\b\b\b\b\b\b\b\b\b\b\b\b\b\b\b\r\u001b[1m560/560\u001b[0m \u001b[32m━━━━━━━━━━━━━━━━━━━━\u001b[0m\u001b[37m\u001b[0m \u001b[1m2s\u001b[0m 4ms/step - accuracy: 0.5640 - loss: 0.6881 - val_accuracy: 0.6842 - val_loss: 0.6810\n"
          ]
        },
        {
          "output_type": "stream",
          "name": "stderr",
          "text": [
            "WARNING:absl:You are saving your model as an HDF5 file via `model.save()` or `keras.saving.save_model(model)`. This file format is considered legacy. We recommend using instead the native Keras format, e.g. `model.save('my_model.keras')` or `keras.saving.save_model(model, 'my_model.keras')`. \n"
          ]
        },
        {
          "output_type": "display_data",
          "data": {
            "text/plain": [
              "<Figure size 640x480 with 1 Axes>"
            ],
            "image/png": "[encoded data removed]"
          },
          "metadata": {}
        }
      ]
    },
    {
      "cell_type": "code",
      "metadata": {
        "id": "n3GEHTmVnPZt",
        "colab": {
          "base_uri": "https://localhost:8080/"
        },
        "outputId": "ac634f8b-eb42-4db3-ef88-c0673a2c6b28"
      },
      "source": [
        "!pwd\n",
        "!ls\n",
        "!python bin/sasanal --database smallnet.db  -c savenet/out.h5\n",
        "#!python bin/sasanal --database rasmixed.db savenet/out.h5"
      ],
      "execution_count": 22,
      "outputs": [
        {
          "output_type": "stream",
          "name": "stdout",
          "text": [
            "/content/gdrive/MyDrive/APS2025_Tutorial/sasnets\n",
            "bin   LICENSE\t rasmixed.db  run_range.sh  savenet   smallnet.db  testdb.db\n",
            "docs  model.png  README.md    sasnets\t    setup.py  tensorboard\n",
            "2025-03-15 14:45:34.064714: E external/local_xla/xla/stream_executor/cuda/cuda_fft.cc:477] Unable to register cuFFT factory: Attempting to register factory for plugin cuFFT when one has already been registered\n",
            "WARNING: All log messages before absl::InitializeLog() is called are written to STDERR\n",
            "E0000 00:00:1742049934.086865   12330 cuda_dnn.cc:8310] Unable to register cuDNN factory: Attempting to register factory for plugin cuDNN when one has already been registered\n",
            "E0000 00:00:1742049934.093675   12330 cuda_blas.cc:1418] Unable to register cuBLAS factory: Attempting to register factory for plugin cuBLAS when one has already been registered\n",
            "2025-03-15 14:45:37.566720: W tensorflow/core/common_runtime/gpu/gpu_bfc_allocator.cc:47] Overriding orig_value setting because the TF_FORCE_GPU_ALLOW_GROWTH environment variable is set. Original config value was 0.\n",
            "I0000 00:00:1742049937.566903   12330 gpu_device.cc:2022] Created device /job:localhost/replica:0/task:0/device:GPU:0 with 13564 MB memory:  -> device: 0, name: Tesla T4, pci bus id: 0000:00:04.0, compute capability: 7.5\n",
            "WARNING:absl:Compiled the loaded model, but the compiled metrics have yet to be built. `model.compile_metrics` will be empty until you train or evaluate the model.\n",
            "['cylinder', 'sphere']\n",
            "WARNING: All log messages before absl::InitializeLog() is called are written to STDERR\n",
            "I0000 00:00:1742049938.602271   12394 service.cc:148] XLA service 0x7f9138004da0 initialized for platform CUDA (this does not guarantee that XLA will be used). Devices:\n",
            "I0000 00:00:1742049938.602311   12394 service.cc:156]   StreamExecutor device (0): Tesla T4, Compute Capability 7.5\n",
            "I0000 00:00:1742049938.635880   12394 cuda_dnn.cc:529] Loaded cuDNN version 90300\n",
            "I0000 00:00:1742049939.169161   12394 device_compiler.h:188] Compiled cluster using XLA!  This line is logged at most once for the lifetime of the process.\n",
            "\u001b[1m63/63\u001b[0m \u001b[32m━━━━━━━━━━━━━━━━━━━━\u001b[0m\u001b[37m\u001b[0m \u001b[1m1s\u001b[0m 8ms/step\n",
            "arr\n",
            "cylinder\n",
            "/usr/local/lib/python3.11/dist-packages/sklearn/manifold/_t_sne.py:1164: FutureWarning: 'n_iter' was renamed to 'max_iter' in version 1.5 and will be removed in 1.7.\n",
            "  warnings.warn(\n",
            "[t-SNE] Computing 166 nearest neighbors...\n",
            "[t-SNE] Indexed 2000 samples in 0.000s...\n",
            "[t-SNE] Computed neighbors for 2000 samples in 0.104s...\n",
            "[t-SNE] Computed conditional probabilities for sample 1000 / 2000\n",
            "[t-SNE] Computed conditional probabilities for sample 2000 / 2000\n",
            "[t-SNE] Mean sigma: 2.151825\n",
            "[t-SNE] Computed conditional probabilities in 0.085s\n",
            "[t-SNE] Iteration 50: error = 60.5410004, gradient norm = 0.0374276 (50 iterations in 0.418s)\n",
            "[t-SNE] Iteration 100: error = 55.6221008, gradient norm = 0.0079610 (50 iterations in 0.299s)\n",
            "[t-SNE] Iteration 150: error = 54.6984711, gradient norm = 0.0026930 (50 iterations in 0.303s)\n",
            "[t-SNE] Iteration 200: error = 54.4276428, gradient norm = 0.0014195 (50 iterations in 0.302s)\n",
            "[t-SNE] Iteration 250: error = 54.3394623, gradient norm = 0.0011012 (50 iterations in 0.302s)\n",
            "[t-SNE] KL divergence after 250 iterations with early exaggeration: 54.339462\n",
            "[t-SNE] Iteration 300: error = 0.8844981, gradient norm = 0.0209972 (50 iterations in 0.280s)\n",
            "[t-SNE] Iteration 350: error = 0.5723558, gradient norm = 0.0158666 (50 iterations in 0.251s)\n",
            "[t-SNE] Iteration 400: error = 0.4608127, gradient norm = 0.0130855 (50 iterations in 0.248s)\n",
            "[t-SNE] Iteration 450: error = 0.4063523, gradient norm = 0.0106502 (50 iterations in 0.298s)\n",
            "[t-SNE] Iteration 500: error = 0.3787897, gradient norm = 0.0084290 (50 iterations in 0.372s)\n",
            "[t-SNE] Iteration 550: error = 0.3650586, gradient norm = 0.0060169 (50 iterations in 0.378s)\n",
            "[t-SNE] Iteration 600: error = 0.3578039, gradient norm = 0.0040854 (50 iterations in 0.346s)\n",
            "[t-SNE] Iteration 650: error = 0.3541647, gradient norm = 0.0022524 (50 iterations in 0.336s)\n",
            "[t-SNE] Iteration 700: error = 0.3524217, gradient norm = 0.0016086 (50 iterations in 0.333s)\n",
            "[t-SNE] Iteration 750: error = 0.3511360, gradient norm = 0.0015444 (50 iterations in 0.377s)\n",
            "[t-SNE] Iteration 800: error = 0.3498592, gradient norm = 0.0014745 (50 iterations in 0.331s)\n",
            "[t-SNE] Iteration 850: error = 0.3492109, gradient norm = 0.0012544 (50 iterations in 0.334s)\n",
            "[t-SNE] Iteration 900: error = 0.3484120, gradient norm = 0.0010483 (50 iterations in 0.263s)\n",
            "[t-SNE] Iteration 950: error = 0.3477496, gradient norm = 0.0011640 (50 iterations in 0.250s)\n",
            "[t-SNE] Iteration 1000: error = 0.3469020, gradient norm = 0.0012825 (50 iterations in 0.254s)\n",
            "[t-SNE] Iteration 1050: error = 0.3460134, gradient norm = 0.0013753 (50 iterations in 0.258s)\n",
            "[t-SNE] Iteration 1100: error = 0.3451576, gradient norm = 0.0011632 (50 iterations in 0.248s)\n",
            "[t-SNE] Iteration 1150: error = 0.3445234, gradient norm = 0.0011631 (50 iterations in 0.247s)\n",
            "[t-SNE] Iteration 1200: error = 0.3437854, gradient norm = 0.0012292 (50 iterations in 0.247s)\n",
            "[t-SNE] Iteration 1250: error = 0.3431535, gradient norm = 0.0009927 (50 iterations in 0.257s)\n",
            "[t-SNE] Iteration 1300: error = 0.3427718, gradient norm = 0.0010129 (50 iterations in 0.248s)\n",
            "[t-SNE] Iteration 1350: error = 0.3421602, gradient norm = 0.0011165 (50 iterations in 0.250s)\n",
            "[t-SNE] Iteration 1400: error = 0.3415397, gradient norm = 0.0008730 (50 iterations in 0.242s)\n",
            "[t-SNE] Iteration 1450: error = 0.3412501, gradient norm = 0.0007539 (50 iterations in 0.247s)\n",
            "[t-SNE] Iteration 1500: error = 0.3409619, gradient norm = 0.0007100 (50 iterations in 0.243s)\n",
            "[t-SNE] Iteration 1550: error = 0.3406096, gradient norm = 0.0007943 (50 iterations in 0.244s)\n",
            "[t-SNE] Iteration 1600: error = 0.3400969, gradient norm = 0.0008592 (50 iterations in 0.245s)\n",
            "[t-SNE] Iteration 1650: error = 0.3397760, gradient norm = 0.0007243 (50 iterations in 0.242s)\n",
            "[t-SNE] Iteration 1700: error = 0.3394216, gradient norm = 0.0006671 (50 iterations in 0.250s)\n",
            "[t-SNE] Iteration 1750: error = 0.3391864, gradient norm = 0.0008089 (50 iterations in 0.245s)\n",
            "[t-SNE] Iteration 1800: error = 0.3389254, gradient norm = 0.0008384 (50 iterations in 0.240s)\n",
            "[t-SNE] Iteration 1850: error = 0.3388378, gradient norm = 0.0006869 (50 iterations in 0.241s)\n",
            "[t-SNE] Iteration 1900: error = 0.3385792, gradient norm = 0.0006358 (50 iterations in 0.251s)\n",
            "[t-SNE] Iteration 1950: error = 0.3384092, gradient norm = 0.0005722 (50 iterations in 0.243s)\n",
            "[t-SNE] Iteration 2000: error = 0.3381501, gradient norm = 0.0006046 (50 iterations in 0.245s)\n",
            "[t-SNE] Iteration 2050: error = 0.3379153, gradient norm = 0.0007067 (50 iterations in 0.250s)\n",
            "[t-SNE] Iteration 2100: error = 0.3376123, gradient norm = 0.0005917 (50 iterations in 0.257s)\n",
            "[t-SNE] Iteration 2150: error = 0.3373822, gradient norm = 0.0008272 (50 iterations in 0.242s)\n",
            "[t-SNE] Iteration 2200: error = 0.3372517, gradient norm = 0.0005463 (50 iterations in 0.243s)\n",
            "[t-SNE] Iteration 2250: error = 0.3372490, gradient norm = 0.0005923 (50 iterations in 0.241s)\n",
            "[t-SNE] Iteration 2300: error = 0.3370635, gradient norm = 0.0005990 (50 iterations in 0.248s)\n",
            "[t-SNE] Iteration 2350: error = 0.3368356, gradient norm = 0.0006203 (50 iterations in 0.244s)\n",
            "[t-SNE] Iteration 2400: error = 0.3366720, gradient norm = 0.0005746 (50 iterations in 0.243s)\n",
            "[t-SNE] Iteration 2450: error = 0.3366183, gradient norm = 0.0004669 (50 iterations in 0.256s)\n",
            "[t-SNE] Iteration 2500: error = 0.3364997, gradient norm = 0.0006113 (50 iterations in 0.249s)\n",
            "[t-SNE] Iteration 2550: error = 0.3363387, gradient norm = 0.0005382 (50 iterations in 0.245s)\n",
            "[t-SNE] Iteration 2600: error = 0.3362606, gradient norm = 0.0005044 (50 iterations in 0.244s)\n",
            "[t-SNE] Iteration 2650: error = 0.3360544, gradient norm = 0.0004961 (50 iterations in 0.243s)\n",
            "[t-SNE] Iteration 2700: error = 0.3358605, gradient norm = 0.0003867 (50 iterations in 0.252s)\n",
            "[t-SNE] Iteration 2750: error = 0.3357661, gradient norm = 0.0003747 (50 iterations in 0.243s)\n",
            "[t-SNE] Iteration 2800: error = 0.3357117, gradient norm = 0.0004293 (50 iterations in 0.240s)\n",
            "[t-SNE] Iteration 2850: error = 0.3356273, gradient norm = 0.0003675 (50 iterations in 0.240s)\n",
            "[t-SNE] Iteration 2900: error = 0.3356311, gradient norm = 0.0003376 (50 iterations in 0.288s)\n",
            "[t-SNE] Iteration 2950: error = 0.3355340, gradient norm = 0.0003675 (50 iterations in 0.317s)\n",
            "[t-SNE] Iteration 3000: error = 0.3353398, gradient norm = 0.0003890 (50 iterations in 0.316s)\n",
            "[t-SNE] KL divergence after 3000 iterations: 0.335340\n",
            "sns\n",
            "/content/gdrive/MyDrive/APS2025_Tutorial/sasnets/sasnets/analysis.py:249: FutureWarning: factorize with argument that is not not a Series, Index, ExtensionArray, or np.ndarray is deprecated and will raise in a future version.\n",
            "  c=p[np.asarray(factorize(arr)[0]).astype(int)])\n",
            "Figure(640x480)\n",
            "\u001b[1m125/125\u001b[0m \u001b[32m━━━━━━━━━━━━━━━━━━━━\u001b[0m\u001b[37m\u001b[0m \u001b[1m0s\u001b[0m 1ms/step\n",
            "Figure(640x480)\n"
          ]
        }
      ]
    },
    {
      "cell_type": "code",
      "metadata": {
        "id": "-jif59Giu5B9",
        "colab": {
          "base_uri": "https://localhost:8080/"
        },
        "outputId": "91847da4-39d5-456b-a534-5bedb7d34f05"
      },
      "source": [
        "%cd ../sasnets/\n",
        "!ls\n",
        "!python bin/sasgen cylinder --database testdb.db"
      ],
      "execution_count": 20,
      "outputs": [
        {
          "output_type": "stream",
          "name": "stdout",
          "text": [
            "/content/gdrive/My Drive/APS2025_Tutorial/sasnets\n",
            "bin   LICENSE\t rasmixed.db  run_range.sh  savenet   smallnet.db\n",
            "docs  model.png  README.md    sasnets\t    setup.py  tensorboard\n",
            "Selected models:\n",
            "   \n",
            "INFO:root:cc -std=c99 -O2 -Wall -fPIC -shared /tmp/sas64_cylinder_BC70FC69_0wrl3myr.c -o /root/.sasmodels/compiled_models/sas64_cylinder_BC70FC69.so -lm\n",
            "generating cylinder 1 of 1000\n",
            "Complete cylinder\n",
            "Total computation time (s): 0.65\n",
            "Total memory usage: 1503288.00\n"
          ]
        }
      ]
    },
    {
      "cell_type": "code",
      "metadata": {
        "id": "jZ2fiArQi3PI",
        "colab": {
          "base_uri": "https://localhost:8080/"
        },
        "outputId": "275b93ab-6624-4ed4-a0c7-547b3c50afac"
      },
      "source": [
        "%cd \"/content/gdrive/My Drive/APS2025_Tutorial/\"\n",
        "%cd sasnets\n",
        "!ls\n",
        "!git pull"
      ],
      "execution_count": 21,
      "outputs": [
        {
          "output_type": "stream",
          "name": "stdout",
          "text": [
            "/content/gdrive/My Drive/APS2025_Tutorial\n",
            "/content/gdrive/My Drive/APS2025_Tutorial/sasnets\n",
            "bin   LICENSE\t rasmixed.db  run_range.sh  savenet   smallnet.db  testdb.db\n",
            "docs  model.png  README.md    sasnets\t    setup.py  tensorboard\n",
            "Already up to date.\n"
          ]
        }
      ]
    }
  ]
}