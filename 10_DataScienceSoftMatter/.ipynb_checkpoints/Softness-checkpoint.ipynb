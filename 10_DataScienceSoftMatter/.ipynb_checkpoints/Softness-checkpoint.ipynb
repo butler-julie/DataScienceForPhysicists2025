{
 "cells": [
  {
   "cell_type": "markdown",
   "metadata": {},
   "source": [
    "<a href=\"https://colab.research.google.com/github/butler-julie/DataScienceForPhysicists2025/blob/main/10_DataScienceSoftMatter/Softness.ipynb\" target=\"_parent\"><img src=\"https://colab.research.google.com/assets/colab-badge.svg\" alt=\"Open In Colab\"/></a>\n",
    "\n",
    "# Data Science for Soft Matter"
   ]
  },
  {
   "cell_type": "code",
   "execution_count": null,
   "metadata": {
    "id": "vPN8YWg0HF_Z"
   },
   "outputs": [],
   "source": [
    "import gdown #download from google drive\n",
    "import pickle\n",
    "\n",
    "\n",
    "import numpy as np\n",
    "from matplotlib import pyplot as plt\n",
    "import pandas as pd\n",
    "\n",
    "\n",
    "import sklearn.preprocessing as prep\n",
    "import sklearn.pipeline as pipeline\n",
    "import sklearn.model_selection as modsel\n",
    "import sklearn.svm as svm"
   ]
  },
  {
   "cell_type": "markdown",
   "metadata": {
    "id": "QTmy_MpZs0JE"
   },
   "source": [
    "Soft matter systems are ones where the interaction energies are comparable to the thermal energy. As a result, these systems have complex structures and dynamics. They are often not ordered, and it can be challenging to infer how their structure relates to their properties and dynamics.\n",
    "\n",
    "A variety of machine learning approaches have been used to study soft matter systems. Some work uses unsupervised methods to try to detect hidden ordering in complex states. Some work uses ML to try to learn the interaction potentials between particles from complex dynamics.\n",
    "\n",
    "In this brief workshop, I'm going to guide you through one example of one particular approach. We take a system where the connection between the structure and the dynamics isn't obvious: in this case, a molecular dynamics simulation of a \"supercooled liquid\", or a \"glass forming liquid\".\n",
    "\n",
    "Unlike say, water, which crystallizes at low enough temperature $T$, these liquids show no obvious change in their structure as $T$ decreases. Despite this, they show dramatic behaviors in their *dynamics* as $T$ is decreased. For example, we can look at a characteritic relaxation time $\\tau_\\alpha$ as a function of $1/T$, and we can see the dynamics slowing down dramatically:\n",
    "\n",
    "![sketch.png](data:image/png;base64,iVBORw0KGgoAAAANSUhEUgAAAlgAAAEsCAIAAACQX1rBAAAEC2lDQ1BHZW5lcmljIFJHQiBQcm9maWxlAAA4y41VXWgcVRQ+m7mzKyTOg9SmppIO/jWUtGxS0YTa6P5ls23cLJNstEEok9m7O9NMdsaZ2TQtxYciCCIYFXwS/H8r+CREbbV9sUWUFkqUYCgV+tD6R6HSFwnruTOzO7Nhl3iXufPNOd/9zr3n3L0XIHZFNk29SwRYrDqWlE2KLx+bE2Pr0AWPQDf0Qbes2GaiUJgEbIwLrS0CcP9n1gNc39/Gv13rLlFbQZkHEBslW1lEvAzAv6mYlgMQI2gfOemYDD+HeIeFE0RcYLji4RLD8x5edjkzUgrxW4gFRZXRH/sA8eB8yF4JYW8ObtuRpVVqaYrIclGwjLKm09B0t3H/z7ao1xrx9uDTYy9MH8X3AK799ZKcZvgJxOcUOTPt42tL2mzex/+YTlJC/BRA167aQjGBeB/isbI1XvR0ulS1NtHAK6fVmZcQP4R4dcE4ysbuRPxDdT4/5evcVOwU5g8eA+CiKs2xevcjHrAMacqLy42XaDrD8oj4hObkZjx97n17aTrT0DmtpvJeLO7bE/IRVqc+xNeonpV8/d9Np+DHJT1VPT/p6ZBharvrde2OOjPhxSVzDhbUG0teK2vjOZ//kWpNSD6+YuruHsW5kbtWTSp6fP5RWi36mvyYbGWyPi7BbEQGCgbMY69AFTZBBAmykMS3CRZ6yqCBjhaKXooWil8Nzv4WTsH1ezhQqbgjb6NHwwip/s+hhlYV/kSrGuKl8KuGtkoHHW8Gd3wdg/SSODmIzyEySQ6TETIKInmevEDGSBqto+RQc2whNEc2nztNnVcxInV5s8i7hH4HZOx/Q4YBdvtcrPTVBjz7Weu4plx9++7lM+d3Bdw1svrK9Z7LZ0I501BroUPWprbLPX+Lv82vYb/ObwQM/ld+A3/rW1bXmnXqZyuBPt21LeKjuR47NJ9CSxUDbHRUNMrVlT7PxzJA38jfz8PZwYAf/yX+V3wt/nH8s/gf3Hvcl9wF7ivua+5HELmL3CXuO+577gvum1CNOu+dZs3ddTRWwTztMor7U0gKu4XHhbSwR3hSmAz0hF5hSJgQ9qJnd7M64XjhtWtwDPtGttrH8nihOkcexDprHf5DRWRpcNJl2u4+q8KpLRx/JOknQyS3ZVePsL3e1M621KP9Gmg0E01HEyBG90VHo0PRIww3mNG96BvFHk8thy477CBOGeYpS6uojjgcjz8rJvAqo2KuqhwYFGVdF12XLVrUptYSLR0Adk96R/g9yb3/IjuvBjbnRYDDf7NzL7DN1QDO2QC9Twe2ATwbH/4QYPUZpWYtNe7UyE8AdvngsPfVk8Tz6ka9fg/Prdi7AJvv1Ov/flKvb36K+hsAF/X/AAa5eAwFQsP5AAAACXBIWXMAAAsTAAALEwEAmpwYAAAE9GlUWHRYTUw6Y29tLmFkb2JlLnhtcAAAAAAAPD94cGFja2V0IGJlZ2luPSLvu78iIGlkPSJXNU0wTXBDZWhpSHpyZVN6TlRjemtjOWQiPz4gPHg6eG1wbWV0YSB4bWxuczp4PSJhZG9iZTpuczptZXRhLyIgeDp4bXB0az0iQWRvYmUgWE1QIENvcmUgOS4xLWMwMDIgNzkuYTFjZDEyZjQxLCAyMDI0LzExLzA4LTE2OjA5OjIwICAgICAgICAiPiA8cmRmOlJERiB4bWxuczpyZGY9Imh0dHA6Ly93d3cudzMub3JnLzE5OTkvMDIvMjItcmRmLXN5bnRheC1ucyMiPiA8cmRmOkRlc2NyaXB0aW9uIHJkZjphYm91dD0iIiB4bWxuczp4bXA9Imh0dHA6Ly9ucy5hZG9iZS5jb20veGFwLzEuMC8iIHhtbG5zOmRjPSJodHRwOi8vcHVybC5vcmcvZGMvZWxlbWVudHMvMS4xLyIgeG1sbnM6cGhvdG9zaG9wPSJodHRwOi8vbnMuYWRvYmUuY29tL3Bob3Rvc2hvcC8xLjAvIiB4bWxuczp4bXBNTT0iaHR0cDovL25zLmFkb2JlLmNvbS94YXAvMS4wL21tLyIgeG1sbnM6c3RFdnQ9Imh0dHA6Ly9ucy5hZG9iZS5jb20veGFwLzEuMC9zVHlwZS9SZXNvdXJjZUV2ZW50IyIgeG1wOkNyZWF0b3JUb29sPSJBZG9iZSBQaG90b3Nob3AgMjYuNCAoTWFjaW50b3NoKSIgeG1wOkNyZWF0ZURhdGU9IjIwMjUtMDMtMTBUMTY6MjE6NTUtMDQ6MDAiIHhtcDpNb2RpZnlEYXRlPSIyMDI1LTAzLTEwVDE2OjIzOjQ4LTA0OjAwIiB4bXA6TWV0YWRhdGFEYXRlPSIyMDI1LTAzLTEwVDE2OjIzOjQ4LTA0OjAwIiBkYzpmb3JtYXQ9ImltYWdlL3BuZyIgcGhvdG9zaG9wOkNvbG9yTW9kZT0iMyIgeG1wTU06SW5zdGFuY2VJRD0ieG1wLmlpZDpmYzNhMGY5Ny0wNDVmLTQ2N2QtYmU1Mi1iNWU4OGIzNWU1MmYiIHhtcE1NOkRvY3VtZW50SUQ9InhtcC5kaWQ6ZmMzYTBmOTctMDQ1Zi00NjdkLWJlNTItYjVlODhiMzVlNTJmIiB4bXBNTTpPcmlnaW5hbERvY3VtZW50SUQ9InhtcC5kaWQ6ZmMzYTBmOTctMDQ1Zi00NjdkLWJlNTItYjVlODhiMzVlNTJmIj4gPHhtcE1NOkhpc3Rvcnk+IDxyZGY6U2VxPiA8cmRmOmxpIHN0RXZ0OmFjdGlvbj0iY3JlYXRlZCIgc3RFdnQ6aW5zdGFuY2VJRD0ieG1wLmlpZDpmYzNhMGY5Ny0wNDVmLTQ2N2QtYmU1Mi1iNWU4OGIzNWU1MmYiIHN0RXZ0OndoZW49IjIwMjUtMDMtMTBUMTY6MjE6NTUtMDQ6MDAiIHN0RXZ0OnNvZnR3YXJlQWdlbnQ9IkFkb2JlIFBob3Rvc2hvcCAyNi40IChNYWNpbnRvc2gpIi8+IDwvcmRmOlNlcT4gPC94bXBNTTpIaXN0b3J5PiA8L3JkZjpEZXNjcmlwdGlvbj4gPC9yZGY6UkRGPiA8L3g6eG1wbWV0YT4gPD94cGFja2V0IGVuZD0iciI/PgPFilAAAEt2SURBVHja7b13XBRX2P5tpPeiIggIqNhBxdi7RMVoLNHEShJNjMYSNXYTxSSixgIajQU1do29N4pip0jvVUB6Z+lLed77ZR73N88iyCwLbrm+f+xnWGZnd8+eOdd9nXa3+B8AAABAjmmBIgAAAAAhBAAAACCEAAAAAIQQAAAAgBACAAAAEEIAAAAAQggAAABACAEAAAAIIQAAAAAhBAAAACCEAAAAAIQQAAAAgBACAAAAEEIAAAAAQggAAABACAEAAAAIIQAAAAAhBAAAACCEAAAAAIRQ1qiuri4rK8vLy0tPT8/MzCwoKCgvL0exAAAAhFAu4PF4r1+/3rdvn729va2trZ2d3Y8//vjvv/9GRESUlJSgfAAAAEIos1RVVSUnJzs5OVlZWamqqiooKHxSQ8uWLdXV1UeOHHn+/Pns7GwUFAAAQAhlk8TExDVr1rRp04bEr0UtSA47dOjwzz//5OTkoKwAQNxcVlZWVENJSUlFRQXKBEIo9fB4vN27d5MKtqgbEsiuXbteuXKFbgCUGADySWVlJUXD/v7+Fy9e3Ldvn7Oz84kTJzw8PJKSktAyQAilmOrqai8vr169erX4EOQLp06dGhsbi0IDQA4hqQsODnZ0dBw9erSZmVmrVq309PRMTEwGDhy4bNmyBw8e5ObmUnuCgoIQSmXlppqtpqbWogEYGhpSJEhRIcoNALmitLT0yZMn06ZN09XVFRpAoT/V1dWHDx9O7pC0EGUFIZQ+srOz7ezs3js0WBslJaWVK1cWFxej3ACQHyj29fX1HT9+PLUAdTUOCgoKn3766bVr10gyUWIQQikjLi6uU6dOLRoG6SWpJqaPAiBXZGRk/Pjjj/WoIIOysvKUKVOio6NRYhBCKSM0NLRVq1YtGkzv3r1TUlJQbgDICVVVVeTz9PX1G9I+GBkZnTlzBvNIIYRSRkBAgIaGRsOFkOxjQkICyg0AOaGgoODLL79s4OiJiorKsmXLeDweyg1CKE28fv26gTNlGMzNzd+8eYNyA0BO8Pb21tPTa2D70LJly88//zwjIwPlBiGUJnx9fTkJoZmZGYQQADmBz+dv2LCh4e0DGceRI0di9ARCKH2OUF1dveEVvX379vHx8Sg3AOSBpKSkbt26teAC5tNBCOXCEWKMEAA54cyZMx+cLCrkCBcuXIgVVhBC6RNCVVVVOEIAgBCFhYUTJ07kZAcVFRUPHz6MPTcghNInhA3vGqVwj4QQY4QAyAOvX79u+DQZBgMDA39/fxQdhFD6hJBT1yiEEAAB1dXV5eXlPB4vJycnLy+vuLi4oqJCNvbbpC/yxx9/NHDVhIDJkycXFBSgYkAIpQw/Pz+uQogxQgD+p2aBHbkfFxeXVatWzZs376effnJ0dLxz5w7dIDKQiiEtLa0he/ELbcF47tw57LsNIZQ+fHx8OAmhqakpHCGQc8gthYSErF27tkuXLhoaGoqKigoKCiQD2tra9MwPP/zg5uZGBlGqJeHmzZsqKiqchJC+e2JiIqoHhFD2hRDrCIGcU1pa+t9//1lbW5P4vXccnW4oW1vbq1evSm8nYUlJyTfffNOCIxs2bODz+aghEELpg+vOMlg+AeSZzMzM33//XUdH54OdhBMmTHj69Gl5ebk0fs2wsLC2bdtyUkFyw76+vqghEEKpRIQxQjhCIIdUV1fHxcXNmTOngevqNDU1ySFJ4x4rlZWVzs7OXKfJ2NnZFRYWop5ACOVCCNE1CuSQqqoqb2/vESNGNFwe6Ew6//nz51K3qC4rK2vIkCFclw/++++/qCcQQmlFhK5RjIcDuYKU7M6dO5aWllxNkqmp6fnz56VuBqmbmxunbReZZgH7bEAIpRh/f38snwCgLkpKSo4fP25gYNCCO7q6ugcOHJCu/cZKS0sXL17M6WtSfEAvkYEVIxBCOEIOQS6EEMgJOTk5W7Zs4WqP2EJ46NAhklIp+spxcXFk7zh9TWpA3N3dUVsghNIthJzuc4wRAjmBJOGbb77htOW0EMbGxpcvX5aiiaPV1dUHDx5877KQehg8eDBFDKgwEEIphtNeo4wjxBghkG2qqqr8/f1Hjx7NdVBQiEGDBtF16GrS8sWzs7PpM3P6jqSae/fuxS7bEELpxs/Pj9P+EZgsA2QbatM9PDysrKwaqYJ0W23cuDE3N1eK7ODNmzc55aIhjIyMwsLCUG0ghPLlCDFZBsgwFRUVd+/eNTc3b9E4SEQHDBjg4+MjRVapsLBw2rRpXL+mvb29dA2CQggBhBCAOuHz+ZcuXTI0NGzRaExMTC5fvlxaWipFX//Fixcf3DGntuslE4maAyGUekSYLIOuUSBLVFVVkRkKDg5es2aNpqZm41WQpPTMmTPStWqCXN2iRYu4ftM+ffqkpaWhCkEIpR4/Pz+uQghHCGSGoqIib2/vVatWtWvXrmXLlo1Xwa5du96+fVvqthgNCQkxMjLi9E2puP766y9Mk4EQygJcE/Oam5tDCIEMUF1dnZWVdeLEiW7dujVyXoxAGEaNGvX69WspmibKQLK9ZcsWroVAoQPJJyoShFAW4LqgHptuA9kgNzfXxcXF1NS0hThQVFScP39+UlKSNBZFXFxcly5duH7lRYsWSdcgKIQQ1CeEnCZMIzEvkAHIA3l4ePTt21csKqihoeHo6ChFKyXYkH+lgIBrt7C2tvazZ89QkSCEMgLXxLyYNQqknerq6tTU1LVr1zZm1xgBbdu2PXXqlHRNjWGTmZk5cOBArt96ypQpSLoEIZQpR4iuUSBXVFZWUrUfNWqUWKbGuLu7V1RUSG9pXLt2TVlZGasmIIRwhMhHCOSI8vLyBw8eWFpaNnJqzPDhw/38/KRuagyb/Pz8zz//nOt3HzZsWHZ2NioShFCuHSG6RoG0CyEZGqrJIquggoLCnDlz4uLiqqurpbooKCDgmluDvvuxY8ekWv4hhEAYrssn0DUKpB0+n+/q6irCPEkGZWXltWvXyoAlKioq+vrrr7l+/W7duiEUhhDKGn5+fpxmjZIQYmcZINWQmwkICBgzZowIKkj+ydHRsaCgQAbKQYQ91Vq2bElfX6rHRCGEQDyOEPEgkHYyMjJ+++03TrNGP/nkE01Nzb1795KRkoESKC0t/fHHH7kuojc2Ng4NDUX9gRDKGhgjBHJIeXn506dPhwwZ0kAloNPatWt34sQJmcm0QDd+27ZtuRri5cuXYxE9hFAG4brXKIQQyAYFBQVnz561tLT8oBYqKCgMGDDA1dWVz+fLxncvKytbsWIFVzuoq6vr5eWFmgMhhCOEEALZIS8v79KlS/3791dUVKxLAk1NTTdu3BgXFydLu0uHhISQweVqB+fOnSsb3cIQQvAeIeTkCM3NzTFZBsgM5I3Cw8P37NkzfPjwNm3aqKqqkihSaGhoaDhy5Mjt27f7+fnJWOJZ8rW//vor1z3VNDQ03N3dUWEghHCEcIRANiFtyM7OjoyM9PLyevz4MT1GRUXl5ubKTF8oG/pqImw1PnHiRB6Ph6oCIYQj/F8hjI+PR7kBII1UVFT8/vvvXO0gxcq3bt2S9t0DIISgTnx9fbmuI4QQAiClxMTEWFhYcLWDI0eOxJ5qEEIIIXaWAUDq4fP5jo6OXO2gkpLSqVOnYAchhLIM13yE2HQbACklOjq6c+fOXO1g//793759i9KDEMoyImyxhskyAEgdFRUVf/31l4KCAtcttl1cXLDFNoRQxsGm2wDIA3FxcV27duVqB/v06QM7CCGEEMIRAiD1kKXbtWsX19FBsoNHjhyBHYQQyoUQIvsEALINBa8i2MGePXumpKSg9CCEciGEnNYRmpmZwREC8ZqVkpISHo9XUFBQXFzM5/MxQVG8VFZWbtu2TQQ7uG/fPvwWEEK5gOtkGVNTUwghEAukeYmJiXfv3t25c+e6des2bNjg5OR0+/bt2NhYkkY0weIiJiamQ4cOIiTgxYphCKEcOUJOY4RwhEAsHiUuLm737t0DBgzQ1dVVUlJSVFSkR21tbWp/586de/Xq1czMTGihWKKNLVu2iGAHd+zYgQS8EEJ5gesWaySEGCMEIlNVVZWRkXHo0KHu3bvXNZWfFPHTTz89ePAgtLDxhISEiLCzqKWlZVRUFEoPQghHWGfXKJZPANHg8Xg3btwYMWLEB1PDk4Oxtra+dOlScXExyk1kSktLV61axTXvIBX+1q1bZXLDcQghqFMIMVkGNDUVFRVBQUHfffedpqZmw3f2mjRpUmRkJEyhyPj4+BgYGHC1g506dYqNjUXpQQjlCBF2lsEQOuBEfn7+4cOHzc3NuVoTIyOjc+fOlZeXowxF898UeXBVQbKDu3btwugghFC+4LrXKBbUA05GkCrYl19+qays3II7ampqq1evRho80bh//37D/Td7sigmAUAI5Q5/f39OXaMYIwQNJCsra//+/SYmJlyNoABFRcXZs2cjAZBohW9nZ8e1wBUUFPbu3YutZCCEcISYNQoaC5/P9/LymjhxomhGEELYSEjJzp49y+m+Fmwlk5ycjAKEEModIqwjxBghqAfSrX379hkbG7doNKSjq1atQtcoVyhU7d+/vwhhx4EDByorK1GAEEJ5dITIPgHEQkVFhY+Pz+TJk6lJbSEO9PT0yNlgHj/XX8HJyYnrCnri008/xc6iEEIIYUPHCOEIQW3y8vLIT5iYmLQQHyNHjsTyCa6Eh4eLsKEame9///0XRQ0hhBAiQz0Q0YIEBgZ+/fXXKioqYlRBAwODU6dOlZSUoIQbTllZ2YoVK7jOTqLzR4wYkZGRgQKEEMopfn5+2FkGiEx+fj45iY4dO7YQK5qamg4ODllZWShhTnh6eurr64uwTOXmzZuwgxBCOELkIwTcqKqqCg8P//bbb8VrBMmdUFO+devW9PR0NM2cyMnJmTRpkgiLVaZPn56Xl4cChBBCCOEIAQcKCwvPnj3buXNn8RrBli1b9uvXj9wJXR+FzInKysqTJ0+KEJTo6uo+ffoUBQghlHch5LSgHrNG5Rw+n+/n5zd37lzxGkHCxMRk+/btiYmJWNAtAjExMT179hTBfy9btqy0tBQFCCGUa7juNYrJMvJDdXU1yV5xcXFBDenp6d7e3mvWrDEyMhJ5s5j3oqGhsWDBgqCgIGxxKRqkZKtXrxZhyQQFH8HBwShACKG8g8S84L2UlJTExcXduXNn586dixYtmjBhQpcuXTQ1NcUrgXS1gQMH3r59G7NDG4Obm5uurq4IG6r9+eef2NMcQgg4p2HCZBl5MIJZWVnXrl2zt7fv1KmTqqqqeMWPPTq1adMmLOJuJGlpacOGDROh/Hv16oXeHQghEMURIvuEzJOZmfnPP/9QK1lXBnmxTIoZPHjww4cPMTrVSMrKysjVidApqqKicurUKczLhRACUYQQe43KNsXFxWfPnrW0tGwiF8hsnPbbb78lJSWhFW48jx49atWqlQg90hMmTMjNzUUBQgjB/w/XBfUYI5RhSJnCwsJGjRrVRCpIxmXIkCGurq4YERQLb9++HTp0qGixyOPHj1GAEELwv4iQhglCKKuUl5cfP35chGyuDYGMy5YtW2AExQWPx1u1apUInaL0khUrVpSVlaEMIYTg/zlCrpNl0DUqq+Tn5y9YsEBcuSPYLS8Zl0ePHqHxFRcVFRWnT5/W0NAQ4efo3LlzREQEyhBCCP4fvr6+nBwhZo3KMJmZmXZ2diKYjPp3DV23bh3VGRhBMeLt7W1hYSFaiscjR44g6SCEEAg7QswaBQwZGRljxowRoxD26tXrxo0bxcXFKFsxkpSUNHbsWNF+kSlTpmRnZ6MMIYRAWAgxRggY8vPzv/vuO7EIoYaGxtKlS+Pj42EExQuPx/v5559FW9liYmLy6tUrlCGEEAiDnWWAgLKysv3793MKjN47Nb9Hjx5XrlzB1FCxU1FRcfDgQdF2eSXtdHZ25vP5KEYIIRAGm24DAeTe/P39ra2tGzMiuHjx4oiICGyc3RS/zoMHD1q3bi1adDJ+/PjMzEwUI4QQvAcR1hFisowMU1hY+Pfff4uwcaWSktKgQYOuXbtWUFCAYmyiW7VLly6iBSjt2rV7+fIlyhBCCOp0hJgsA9i2IyUlZc2aNTo6Og2XQDKRJJ+pqakYEWwi3rx5M3r0aNFUUFlZed++fegUhRAC8QjhJ598gq5RCYHatdzc3KSkpJiYmPj4+MzMzNLSUrHoUFVV1du3b//6669OnTrVMymDKgOJ5ahRo44ePUpVAkkMmo6srKyZM2eKvN0PvZaugGKEEII68fHxQT5C6YIkJzIy8siRI9TA2djYkFyRIZs6derevXuDgoKKiooaL4d0hcLCwpcvX27YsKFfv36tWrVSUVEh50feQktLq2PHjpMmTdq1a5eXlxeJMYYDm5T8/Pzly5eLNk2UmbgUEhKCYoQQgvrgurMMhPDjQs7v0KFDvXv3Jk0S+mkUFRUHDhx4+vRpCv/FYg3pIuQy09LSwsLCXrx44ebm5unpGRgYSH6Rx+MhiW4zQOX8+++/UwgicqKr69evI1IBEMIPgDRM0gLJUnh4uL29ff2/F9m1Y8eOIbGADFBSUuLs7CzyahaSzz///BOJrgCEsEmEEI6w+SH79fTp0/79+zdktfunn36KVH/SDv18Bw8eFG03UaZTdMaMGRkZGShJACH8MFzHCCGEH6VNvHTpkpmZWQN/I0VFxZUrV6akpGAOp5RSVlZGtr7hE3drq2Dfvn2xszaAEDYUrssnTE1NIYTNSX5+/u7du7m2iUOHDn358iX2VpZGysvLT548KcJSTgGGhoYeHh4IgwCEsKGIkH0CY4TNRmpq6uLFi0WYK0E/09WrV5H2SBpV8MyZM/r6+o3Z5fXEiROYygQghNyEEI5QAiEzFxAQIHJSpDZt2pw7dw5CKF3Q73X69OnGeEEFBYVNmzbxeDwUJoAQcgA7y0ggRUVF58+f79Spk8hrqA0NDa9cuYJF7lJEaWmpi4tLY1SQYiZ7e3usnQcQwiZ3hCYmJnFxcSi3JqKqqioyMvKnn37itLizNtbW1s+ePcMCMilSwf3792tpaTXmRx87dmxMTAwKE0AIOcN1QT2EsOnIyMg4evRot27dGpkLkHzk7NmzsTe6FHUAODk5cYpHa2NjYxMYGIgJMgBCKKIQclqr1K5dO0SdYqekpOTJkyeTJ0+uvV+MCBgYGGCAUFrIz8/funVrIzsAOnXq9Pz5c3QAAFkTQorsqHFMS0uLj48nBxYbGxsdHU3HJEKxNURFRYWHh/v7+4eEhERGRtJ/mXOY/yYnJxcWFjbkxqArcBJCQ0NDehdULHFRXl4eGhq6cuXKxkwUFNpPZOnSpampqShbySc3N3fjxo2NzIRsbGx8//59LJUBsiaETCqc/fv3jx07tnv37h1roKCPfWBhYUGBv66ubqtWrdq3b9/xHZaWll26dBk+fLiDg0NERMQHZ1EHBwdzGpmgNyUNRsVqPHw+n36gLVu20E8p8qSY2pMGp06dSj8Qusgkn/T09BUrVoi8j6hgevDly5eRYgnIoBCSFzx06JCZmRmz5fwnNbAP6hoZYs8fI4exfv36D+6xRIaSkxC2bt2anCgqViMDnezs7HPnztnY2CgqKrYQE1Rbpk+fHhMTAxWUChVcuHBhI399PT29s2fPQgUBZyEkh0QyU1paKsk9CdRKfv3116IlXmEzYMCAsLCw+jtI6QS6nRp+TdLX0NBQVKzGqGBqaurWrVvJyrcQHyoqKsuWLUOPqFSQnJw8b968Rt7gdNseP34cI8GAsxAWFha+evXqxIkTFIyTAEjsrsS5ubnz589vZJ8JYWtr+8FessjISE4tso6OTlBQECqWyOTk5Ozevbsxy8Xe+6PQNZFxQiqIi4ubOXNmI1VQW1v72LFjFNOjPAE3ISQv6ObmNnnyZGNjYzMzs59++okadMn0heXl5bdu3Ro8eLCamlrLGj755BPBAXNcu19UAP1XWVm5S5cuhw8fzs/Pr/+9YmJiDAwMGn4HamlpBQQEoGKJ/Ms+ePCga9euYlRBU1PT//77D22iVBAdHT1x4sRG/uKkgnRr4xcHoghhXl7eokWLBDMkqfXft29fcXGxZH5uEjCS7d9++83e3n7atGnTp0//8ssvmUf6c8yYMex59iR+3bt3nzJlyrQaZs2a9csvv1y6dCk1NfWDE0djY2NNTEwafhOqq6u/fv0aFUsEyJqnpaWtXLmy8Z3egt+9X79+T548wYxBqfj1Q0NDP/vsM9H2zGOroIuLC3JsARGFMDk5eeDAgYIZJUpKSgsWLJDk3iQ+n8/j8XJycrLekZ2dzTw+ffqUPdueGtaNGzempKQITiYdLSsra8ikicTERAsLi4bfh6qqql5eXqhYIkBy5efnN3z4cLGoILWnM2fOjIyMRMFKPhSP0k/fv3//Rv7oGBcEjRXCN2/edOvWTSCE1I6QecrMzJTGbxUSEsIe2CMh/PPPP0XrKnn79i2nrUxUVFSeP3+OiiUC5eXlDx8+7NSpU+NVUFNT08HBAbtKSksA5OHh0aVLl0b+6HTLnzx5El4QNFYI2XWRFHHy5MlS2pSEhoa2bt2abQ5EFsL09PS+ffs2/G5UVFQkP4qKJZoQ3r5929TUtJENYvfu3a9cuYIGUVp+dPqxGv+jGxgYXLhwAV4QNFYI4+PjSQgFjpAOJk2aJKVCGBQUxBZCEieRhTA3N3fkyJGceuQovEXFEgE+n+/u7t4YZ6Curm5vb0+/PjbTkgqKiooOHz7MaXlSXfsaXrt2DesFgXgcIXu2nlQ7wuDgYLYQNqZrlMfjffXVV5wmaJCtQcUSAVKvwMDA8ePHi7CPDL2kZ8+ep0+fzsvLQ0lKBdnZ2Zs3b+a0f+F7MTc3v3PnDhLtArEJYe2uUYwR0qsWLlzIqUU+f/48KpZoUH37/fffOe2sTQVOlmLVqlVRUVEwgtICtTbz5s1r/FLgzp07u7m5YVYwEJsQJiQkCAnhpEmTpFQIyREKCeHWrVtFE0KKNClu5dQu79+/HxVLNPh8/suXL21tbRs4h15FRWXcuHEeHh5YNCZFvj8gIGDMmDGNXCZBN1qPHj2ePHmC6AeIUwiZMULZEMKgoCC2ECoqKv7xxx+itZXV1dWHDh3idItu2LABN6fI8Hi8S5cuURtXf0NJv2mfPn2OHTuWnp6OvUOlBbJud+7caXxGSYJ+fYqZcKMBMQvhmzdvOnfuLBtjhCEhIQYGBoKhJmYdocibA1y8eJHTqJW9vT1mrzWGvLy869evjx49WlVVtXbJ05M2NjbOzs5UY9EnJl0hzsGDBznt01QXgwYNIluJAAiIXwiZrlH2rFHpFcKIiAj2djDkLX744Qe6D0W72v379zl149ja2or8XoCBIonIyMgjR45Mmzate/fu7du3t7CwGDhw4KJFiyguefv2LSZHSBfJycnLly9vZGZB5l6m+ys0NBQqCJrKEcrM8gkSdWo92e72s88+S09PF+1qz5494zSqb21tnZaWhrrVePh8PrlDqplRUVGxsbH0C5KtR2+YdEGu3dfXd+zYsY3fOY+JzqkmQAVB0wohu85NmTLlY40RUntHISTpmWjWKiMjw87Ojt2rZmpq+vr1a9HaUHohp0iW3os+OeoWACUlJdeuXbO0tGx8amXS0Tlz5uDOAk0rhEKzRlu2bPmxukZTUlL27NkzZMiQ3r17//zzz5GRkVwFjG6/DRs2sLN6MklZr169+urVKz8/v4CAgMAawsLC3r59W/88mqCgIE5ZgfT19ZGbF4Ds7OwtW7ZwymtdF0pKStQUUMuAUgVN7gjZk2VICD+KIyRNOnLkiKGhIRNCkphRGEh3FKeLkHDevXtXaMcKJvuSZg10c2pra+vo6LRu3bpPnz67du2q5x6Li4ujz9Pwm1ZNTQ0JKIA8U1lZGRwcPGnSJLEkElFVVXVwcMBWCaCZhFDIEU6dOvWDjrC6urqqhsb32tMViouLY2NjhXZyUVdXF2GvFvJ5tra2tTtk3vtM+/btXVxc6vKFycnJnPb9ougV+24DuaWgoODs2bMdO3ZsfHcok1Din3/+kdh8cEA2HSE7+0T9O8uUlZUlJSU9ffr0xo0bd+7c8fX1Jd/GTGenRzpmJjjk5uY2ZA9AUkEyXjt37qQoUij/AH0kkkaug4Xl5eUXLlxooJMjrV2xYkVdISd9hREjRnAa0r916xbqFpA36C6Oj49fsmRJ4zdOE2wievHiRSxGAs0nhO/dWaYuR5ifn3/q1Klhw4ZRvKampkb1nkR08+bNdBHyVY8fPyY3aW5uThckDTt58iSJYmlpaT2ukTR1/vz5Wlpa9L7ssT0GXV3dZ8+ecTWdJGzOzs7k9pjM9fXcb61bt6Yz64o6i4qKZs+ezUkIjx49iroF5Aq6fa5du9arV69GbhkjoGvXrq6urlgqCppbCNk7PlBrPnHixPcKITm8EydOCIbxBJDk/Pvvv6GhoaSCbGdJSkm3h4ODw+vXr9/b/UjuzcXFhT2oLnRl+nPZsmUizCAtKCi4f//+vHnz6KYiNaVPoqKioqysrKSkpFwDPWNqarp8+XKS6rqElr7vr7/+yuke/u2337DQDcgJVVVVdPvQHaqpqSkWCaT7ffjw4SJP8wagUULYo0cP9jpCOzu79wphTEyMjY1N7eqrra1Naufh4cGedCO4GqlOz549Dxw4UPua6enpY8eOZYtf7aDSwsLCx8dHhG9IESXJYWxsrLe398OHDy9evEgOlQT72LFjx48fP3/+/JMnT1JSUurRLRF2WZs1axb5SFQvIPNQPb98+bKVlZVYRgSZ+XGzZ8/GYkHw0YSwd+/e7Bo5atSo1NTU2vbowoUL6urqtaWO9I/+RY5w/PjxddXyNm3aHD58WChp6qtXr+h5IU0Vuq/Iw5HKNlJd6NYiXSTN47OgZz54y926dYtTh8+QIUOQHh3INnTjUEy8dOlSsSyQEIzWb9y4EfcO+GhCmJycPGDAALb8DBo0qPaigsLCwl9++YWtCvQS0q3+/fuT28vIyCguLibZ+PTTT+tKptOvX783b96wlfXo0aPskxUUFNjTdgSQoSSV/SjF9OLFC06by3To0CEpKQnVC8gqJSUlt2/ftrGxEdeIIDM1xsXFBV0p4GMKYVpa2siRI9nyQwaR1FHoBdnZ2ewhQMLIyOjatWvU7gvG/+ggMDDwjz/+IHWsPWygr6/v7+8vuGBBQcHChQvZt5Ourm7fvn1rC6GKisru3buF3GTzQF+H00S4Vq1aRUZGykD9oDAlJyeHAn9y7Q8fPrz9jnv37nl6egYFBVENwbZn8kZCQsL69esp/G0hPuiWf/ToEbLMg48shKRwEydOZI8RduvWLT4+XugFpJfDhw9nq1SXLl2Cg4OFJndVV1eTHFIDunfvXnayeMLExCQkJERwJpnOwYMHs0/o3r07Gcq63GRsbGzzFxN9EU5r6lVVVf38/KS6ZpSVldG3PnTo0Lhx49q2bUvfiJl8y0DHZJG1tLTox1q8eLGbm1teXh4GdWQeqhX0Ww8aNEiMRlBRUXHmzJlhYWGYIAo+vhBSQzZ37lx2/e7YsWN0dLTQC1JTU4cOHcoWQmVl5SlTply9epVModAaCTIKFy9eFPJSX3zxBXt5YlRUlJmZGXuazPjx462srOratIWa5uZfV0Tfuq6PVNe+iNReSG+14PF4d+7cGT16dEOSxVNlIKUki0BhE6yhrEL3Nbl/BwcHfX19MRpBspV//PFHVlYWoiggEUJYWFi4du1a9khY165da9uvnJycr7/+WigepKZQU1OT4kRHR8enT5++ffu2qKiI2kSq3zNmzGCrJhmLY8eOsTtAfHx8dHR02BKyfPny2vNOBW9E9jEuLq6Zi4m+Tj0zgN77OU+fPi2ldYK+rAgLwqgC/PjjjwkJCWjRZI/y8nIK7EaMGFF7jW9joNv8ypUrGBQEEiSEVNfPnDlDob1glubEiRNrpy4iN3b48OG6hgfoVa1btybLuGbNmvPnzzs5ObHjR5IH8lVkAdlh5r1798jnsQcC9+7da2pqWs+8soMHD9Knbc5iqqioWLJkCSch/PXXX6VxKSF9Zl9f3zFjxojQ90W/9Y4dOwoKCnBfyRLUCGzdulVogKPxqSSoefHz88NyWyBZQkiaRBL1008/tWvXTk9Pr2/fvuRp3rv+PTExcd68efVkJiIZoIrOrFgXGgwQyhRPtwEZRPZpZCxOnTrVqlUr9tXYcSj9SZEpe95p8/QLOTs7c1opNWvWrPqTWkgm5Pj/+usv0RKoUvn07t2bLD46SGUDPp///Pnzzz77TLxGUEdHh8JE0ld0HgCJE0LGFIaGhh45cmTbtm03b96sq+OeniQd+u2339q3b8/pDunYseOrV6/Y1yR/SR6C3R+roaFBbpL9DGmqmZkZW4TIj/7333/NHEteuXKFk0kaNGgQ16QZHx0SsLCwsEmTJoncxpEp3L9//0eZ2QvEG/mlpKRs375daIFv47eMsbKyunHjhmh5RgFoDiH8n5pFsuRjqJqSKNYTr9G/6BxStXXr1nXr1k1FRaUhEynXr18vdAPQe5H/YMseiY1Q8j8tLa1ly5axXSOdM2PGjGZedUuhMaelhBQlkHWWrtpAscWTJ0969OjRmIw5S5Ysyc/Px60lvdC9/+jRo9GjR4sliRK7bnz//fcRERHoDgWSLoRcKSoqIg/xzz//kI0wMjIiRWSm19ceO6QT6B6o3fJeuHChni0K6VLdu3d3c3MTmrRpbGz89OnT5uxaCQkJ4bRwiuT8Yy3/F80BUAxUXFx8584dc3PzxiRQtbe3lzorDAQkJyf/8ccfYjeCXbp0OX36NEVI6A4FMiiEDHw+PyMj4+XLl87OztOmTaNKr6OjQwEgM0xoaGg4f/58Pz+/2uuE6K4IDw8X2tFGaFhxzZo1ZP42bNjANmR0WUdHx+bsgktISKhnCk9t6BOSVEuFBJIvT01NDQoK8vDwcHJyYq9mESHqX7hwIXKoSiMUBj18+HDEiBHiNYJqamp0+1O4DCMIZFwIBU1qWVkZuYHIyMgnT56cP3+enOK///5LekBP1hUJkpidPHmSNOa9KXP79esXGBhYVVX1+PFjAwMDdu+ora1tWlpas5UUifGgQYMafv/TJ7x06ZKE//zUNqWnp7u6um7ZsmXy5Ml9+/bt3Lmznp5eY+ZB7Ny5UxpnCckzdH/FxsYuX76cvZBJXKmUzp49i65yIEdCKCSKZBNJF8vLyz84h5AMBN0tpHkUPAr2LiFHRU7R3d2d8ZHUXo8bN459j5HR9PLyas54edasWZxagR07dkjy/ElSwcTExEOHDg0dOrQho7wN6QEjHaWQBVuESJEEUpB6/PjxulbuigzVKHt7+9DQUFQGIL9CyBXSy4iIiAMHDsyYMYOMl52dnYODQ0BAgGDpPWnqrl272FNmVFVVjx492mybE9L9TB+JU1vwww8/SGxybYpUyE8fPHiQYnYxpg745Zdf2NsGAUmGjNrdu3fFPimG4iELC4tjx46hhxxACEWUw5ycnKSkJGqjyYEJ9aZ6enqye+1atmxJStOcy7dPnTrFaSnhyJEjJbZTqLS09MGDB+QFxdX8MfOhKHaBA5B8CgsL6W6aOXMmp63kG1gNZs+eHRgYiBFBACFsEhISEtj5P+lg4MCBtfNjNB2PHj3itG6yU6dOb9++lUw7SOW2efNmsfSIMl5wzpw5Pj4+zbzjD+AKn8/39/dfuHBhY0aC68LU1PTw4cMUy6KcAYSwCXtyKIZlezK68cLDw5vtA/j5+dWz0uO9KyhqrxiRBMi0UWs4efLkBsb4hIKCAjsEEez407p163Hjxh05ciQ2NhY5dCRcAqOiotavX29kZCR2CaSIatKkSV5eXjCCAELYtJDbEFp9r6Wl9eTJk2b7ANTWt2vXjtMKihcvXkhmm0ju1sbGpoFyPnHixB07dmzatGnVqlXLly9fsWLF2rVrt23bduLECSp/cuq1+7GBRMU98fHx27dv79ixI6e+/QZiaGjo5OSUlpaGOgAghE0O3Wa3bt0S2qH71KlTzTYoRbd67969Oa2guHjxomQKoaurawMTS5EQLly4MD09vaysrJQF/UnXocJH8yexVFVVJSYm7t27t0ePHk0hgRSVTpgwgYwgusQBhLD5eP36NTudhaKiooODA3sX7yaFx+NNnTqVU0tBFlYCV1BUVFQ8f/68gTNlDAwMNm7ciJwSUucCSQIPHDhgbW0t3kmh7CSUu3fvzsjIQCQEIITNSkxMDHt7F7Jcs2fPbrZZ2qQf69at49RefPfddxK4goK0OTIycv78+R/cRpzau06dOpHtRsgvLZBZDw8P37ZtW9euXZtCApl98MePH//s2TOJXR0EgCwLIQW5QhNHR48e3Zz7y5w8eZJTF9PgwYMlc+PNnJycw4cPGxoafnB/rM8//zw4OBhRv4RDwQ1FhJ6enkuXLjU2Nm6KjlAGMoLbt29PTk5GlQAQwo9DRkbGqFGj2Dd5r1694uPjm+0DPHr0iGsOiqSkJAksSXK3QUFB33//vZaWVj0jQBR2HD16tLCwELeKZEJqRGY9Njb2+PHjY8aM0dTUbDoJVFRUHDdu3NOnT9E9ACCEHxNyV19//TX75rSwsIiOjm62D0DeqB7lqI22trafn59kFmZxcTHp+pdfftmqVSuhPjRqTFVVVUkFHR0d3759i9hfMkOZzMxMV1fXxYsXm5mZNVEvqKA+UEi3Z88eZNMFEMKPD4/H++GHH9j3vImJSVhYWLN9AFIFkl5Ooyl3796V2PIsKip6/vz58uXLra2tjYyMdHV1dXR0Wrdu3aFDBzs7O/KCycnJSDcvUVRWVubn5/v4+Gzfvr1fv34UrzSdBRR0j3/zzTcUz8EIAgihRJCXlzdjxgz2FA9TU9OoqKhm+wC5ubnDhg3jFEofOnRIkrWEz+eT2j148OCvv/5asmQJxRnr1q07ceJEUFAQhR0I/yUBZgv7nJwcUiNnZ2dbW1sKWT440anx0Fv0798fCeUBhFCyCAgIsLS0ZE+W6d2795s3b5rtA5SWln7//fechHDp0qWSH0pXVFSQOySZz87OLigoKCsrgxGUBPNH9S0hIeHhw4ebNm0aPHgw+fWm9n/sEHPXrl0pKSmoCQBCKEGkpqYuWLCAvdsnRaxz586l5rs5Y/M9e/ZwaozGjh2LfGyg4RWMopCsrKzg4OCjR4/OmTOHIr9m6P8U2kJh8eLFgYGB2DMPQAglKzQm27dmzRqhzfK1tbXPnDnTzLfr9evXOfVKderUqTl3BgfSCDnywsLC6OjoGzdu/PLLL/379yfzR9WsOfWPSW02ffp0T0/PoqIi/CgAQigRkMLxeDySwCtXrnz++edCqRKomfjiiy+af3GCr68ve5u3hsTXFN2jqoH3ih9Vb3d3d0dHx7FjxxoaGnJKbyLezdJGjBhx8+ZNDAcCCOHHV77s7GxqGkJDQx8/fnz06NGFCxf27t1bS0urdmjcoUMHNze35h/AiI+PNzY25tTEPHjwAFUN/E/NsvfS0tKUlJRnz545OTl9+eWX5ubm5MNafDwooOzVq9fx48ezsrIwHAgghB+ZvLy869ev29vbW1tbt2vXTlNTk6LjulZHUex87NgxalOa/3OSVPfr14/TfJnDhw+jqsm5+GVkZPj5+ZHefPvtt127dlVTU2uGaZ8flMBOnTrt2LGDYjukUwYQwo9PeXn53bt3Bw8e/MFUsaQrRkZGe/fubbYtRoUoLi4mtebU4ixbtgxrsOQKplc/KSmJnN/BgwepwlhZWWlpaTX/sF9dN5GZmdmmTZtCQ0NRMwGQFCEsKCig2/KDm7YoKSn16dPnwoULH3EeJsXOFERzandsbW0xcVTmbV9ZWVl2dnZYWNjNmzd///33CRMmkNhQYCcJysd2gfSpNm/eTBL4UTpUAIAQ1gmFz9R26Ojo1HX3qqqqdu3adf369YGBgR89hr169SqnHa0sLCwwcVTGoHiouLiYlC8mJubJkyfHjh1bvHjxgAED2rRpw2k32mZDUVGR7qCtW7fSB0bWCAAkUQj5fL67u7udnR2ZQoUa6L5VU1Nr1aqVtbX1N9984+LiEhwcXFhYKAl7nfj6+qqrqze8DdLU1JTYHUdBAw1fSUlJTk5OQkLC69evb9y4sXPnTqqW/fr1MzQ0lDTbV3uPtMGDBx86dCg+Pr6iogK/JgASKoT/U9M76uHhsXnz5vnz5y9btmzPnj03b94k/Xjz5k1ubq5Ere2l1pCdFrEhO47eunULtU1aNK+8vJxqY2pqanR0tLe3N/12Tk5OP/7447Bhw9q3b8/EapKsfALIns6YMePq1atpaWmYEQqAFAgh4wupAZL8Xb7oEw4dOrThTSGduWvXro/7dchJV8kxlTWQwpGx4/F4FFplZmampKRQmEVqFxYWRj7v8ePH169f379//8qVKydMmGBtbd22bVuy/k2a2KEpJsKoqqr26tXrzz//9Pf3LywshAQCIE1CKC1QY7pgwQKuqeo/ytwEav2p3Y+Pj3/27NmlS5dcXFz+/vtv8jfOzs579+6lA3oUHDuzYJ5/7zOCVzHH7BPoz301sM9knhG8ZO876JOwz2TOEXwe9sWZ02p/JPaHEVxKcAXmrel49+7d27Ztc3BwWL169cKFC2fOnDlu3LhBgwaR1HXo0MHQ0FBHR4fEQ0lJSbo0r/ZQurGx8bx588jCkgXEdFAAIIRN666okeXUSA0YMCAnJ6eZPyRJ4KtXr9auXduzZ09NTU1Bhx5713K2kxAcMNS2GkIvqX1C/f9tyJP1X6Se1wp9KanouhSXBdTV1R07duyhQ4ciIyMpSkPOEAAghM3B3bt3OU0OJNsRFxfXnCqYnp5OLWO3bt0++sJt0ET+j/Rv+PDhO3bs8PHxyc3NRRcoABDCZiU0NLSuxR51bWf84sWLZlPBzMxM8qxGRkYQDBlDUVGRftZJkybt27fP19eX9A8TQQGAEH4ckpOTO3fuzKn/6tSpU83TZ1VaWnr79u2ePXtCNmTG/GlpafXp0+fnn3++cuVKVFQUj8fDpmgAQAg/MtQSTZgwgVNztm7dumaYv0Bam5iY+NNPP0n1vA9AkZOKioqFhcXMmTMPHjzo4+OTkZFRVlaG8T8AIISSAp/PX79+PaemjYSzGTZaq6ioeP78+aBBg6Al0ih+ioqKBgYGI0eO3LJly/379+Pj40tKSmD+AIAQSihnzpzhNA/F0tIyLS2tqT8VmYarV6+Sk4CuSNGwn76+/sCBA1etWnX58uXw8HAKmCjSgvkDAEIo6bx48eKDuTLYaGtrBwUFNfWnKi0tPXv2LKbJSP6wH9WH3r17L1q06Ny5c8HBwdnZ2eXl5Zj5CQCEUJqIi4szNDTkFPjfvHmzqT8VNabXr183NzeH2EgaCgoKOjo6VlZW8+bNO3LkiLe3d3p6uiTvoAQAhBB8gKysrIEDB3JqCv/666+mbvUqKytfvnw5dOhQCI8koKKiQtHSqFGjfvnll/Pnz/v7+5P4kWuH+AEAIZQFSkpK5s+fz6lZtLe3p1c19QdLTk5euXIlGVDoUPPPdiHbp66ubmlpOW3aNEdHx/v370dFReXl5WHMDwAIoQxCQb2zszOnrbz69euXmZnZDL2jrq6uffv2lZ9txj7iUB8FHNra2l26dPn888/Xr19Pts/Hx4dikcLCQix1BwBCKPtQvM9po7V27drFxsY2wwfLzc09evSoubk5tFC8ho9+bg0NDTMzsxEjRixcuHDfvn337t0LCgoi5SsoKKAQBLYPAAihfBESEsJpozV1dXVfX9/m+Ww5OTlnzpzp3bs3VtaLZvUIVVXVVq1akdsbM2bM0qVLDxw4cPv2bfoFExISKNQoKSnBUB8AEEJ5Jz09ndNGa6RJrq6uzfbxqKUODg7etm3boEGD9PT0yM2Qp6H2XZCfgZ2ogZ10gn0Oc/zec+q/iNCxQGCYJwUHQskuhE4Qeov3HrBfLvSOjJ4JvSMd0A9Bj8rKyiR1mpqaVDhk1rt27Tps2LDZs2dv2LDh8OHDd+7c8fLyioiIILdHsocZLgBACMF7KCws5LTRGrXC586da85PWF1dXVZWlpWVRQ36s2fP7t69e+3atRs3bly9evX69es3b96kR+YZ5uD6O5hjOoH+xTwy5xDMAfP8tRqYZ5g/BWferOHGOwSvFRyzPwBzpuB9mYuz30vwyL6I4B3ZV6M/2RcRfAA6vnXrFsnb/fv33dzcPD09X7586e3t7e/vHx4eHhsbm5SUlJmZWVRUhB5OACCEoKFUVlauXr2akxAePHgQjSwAoIEtDIVlpaWlxcXFPB4vtwYK1zIyMtLS0lJSUpKTk5nHNzXE1hAXFxcdHR1VQ2RkJMV5YTWEhoaG1EAHwcHBdBBUQ0BAAD0GBgZSUEjH/jX4+fn5+vrSn6/fQc8wzwfU4PcOem1MTAx9HgoipXQ7QAhhYzlw4EDDJ6TQmbt27UIPGwDyBt31JGkkFTk5OampqSRXpFIkSKQo3t7eL1++9PT0fPTo0YMHD+7evXv9+vXz588fPXp0z549mzZtWr58+bx582bMmPHFF1+MGTNm+PDhAwcOtLGxsbKy6tGjR5cuXTp27GhhYWFmZmZqampsbNyuXTtDQ8O2bdsaGBi0foeurq6enp6Ojo5uDdrvoGfoUasGzXdoaGjQI/OMeg0a76BjNTU1wTPMyEL79u2HDBny888/37hx4+3bt3w+H0IoX/z333+chNDR0RFCCIDsUV1dTX6opKQkOzubxIA8GVklUjhXV9eLFy/u379/3bp1c+fOtbW17dWrF+kWqRQJEmmJqqqqsrKyQg3MqDZ70L0hrYrkbBlvYmKyYMGC58+fk4WFEMoRN2/e5CSEf/75J4QQAKkWPPJ2BQUF6enpb968IVfn4+NDanfmzJlt27Z9//33n332Wffu3cmTkaNiFE4w80seIL84YcIEd3f3Ztg8BEIoKdy4cYNTFXdwcIAQAiD50H1aVlaWl5eXlpYWExMTHBz84sULCnwPHTpE3m769On9+vUzNzfX09MjS8dMyca6I8HOgrNmzQoMDJSWPSUghI3l1q1bnG6AzZs3QwgBkBCpo5a6uLg4JyeH7F1cXFxYWJivr+/jx48vX768d+/eZcuWTZw4sVevXsbGxtra2oy9k5zeSElGX1+fCjA3NxdCKBdw6hplhBB5VgFoaoXj8/lFRUX5+fmkcElJSWTpwsPDAwICvLy8nj9//uDBg2vXrh0+fHjTpk3ffffd2LFjra2t27dvr6urS/ZOUVFRaH0qEGHIkEwzBRZSEfdDCCGEAEiTwpWXlxcWFpKHS0lJiY+Pp6bW39+fkTd3d3e6H0+fPu3k5LRu3bpvvvnGzs6uX79+lpaWZOnIo2hqajI6J2/jdh8FKysrNzc3qZhBCiFs7q7R3377DUIIQF1UVFSUlJQUFBSkpqYmJCSQjfPz8yORu3fv3rlz5/bs2bNq1aoZM2YMHz68R48epqamAnlTUlKCk5MoyGFfvXq1rKwMQgghhCMEQBi6BUpLS/Py8kjtYmJimGUGJHWnTp1ydHRcuHDhuHHjrK2tSef09PTU1NRI5MjDQeGkCzMzs2vXrkEI5UUIOVUOOEIgV92Y5O0yMzPfvHkTEhLi5eXl6up6+vTpbdu2kdqNGTPGysrKyMhIW1ubLJ1gCR2QDfr27fv48WN0jcIRvocNGzZACIGMeTtSu4yMDFK78PDw169fM7MunZ2dly1bNmnSJBsbG/J2zDwU9mbrkArZzt9ib28fFRWFyTIQwvfMpNq4cSOEEEgL1dXVFNEXFxfn5uampqbGx8cLBu3u379/9uzZ3bt3s9VOX19fXV1dUVFRKDkJkDeMjY2PHz/O4/Gkop5DCBvL7du3OdUPEkIkLgeSoHBUD8nM5efn5+TkJCUlxcXFUfweGBjo5eX17NkzNze3q1evHj58eMuWLd9///24ceN69+5tbm7eqlUrDQ0NDNqBetDU1Fy6dGl0dLS0rJmGEIpBCDkNbPz6668QQiBemNE48m0FBQXM2vC3b98mJCRQS0QGjrTt9evXL1++JHnz8PAgJ/fff/8dOHDAwcFh0aJFkydPHjJkSLdu3cjPtWnTRktLi5mBKZTPGYIHGoienh5FTr6+vlIxTQZCKB7u3LnDqY34+eefU2qgGJxaK3pMTExkUqjE1RATE8PkUqHwnI4jWQjyqhARERHMY1hYWHgNzIFQmhV6ZBKsMPlWmD8JQQYW9gmBNTA5Vvz9/QXH7CcFpwmeZHK4BLAQJHNhX4H9EiZ7iyDhiyDtC7XXzLHgQHAa80ImF4wgKQyTKab2AUEnMI/M+YITfHx86Gq+LOi/9CRzPgPzp+AK9CdzwD7T29tbcFnBSwRvIXiSeRRcgQ4EL2FfXHAyXZYeyZN510DqRccvXrx4+vSpp6fn48eP3d3dXV1dHzx4cO/evRs3bly8ePHo0aM7d+5cv379ggULpk+fbmtr279//x49epB7a9u2rb6+Pmmburq6iooKs34ONg6IHSbfNRnBvn37/vnnn9QWUWQmRc04hLBZxwiJdu3a2djYWFtbUwzepUsXS0tLJoUKNVvt27enqNzExIRJpGJkZGT4DoMa2rBo9Y7WrVvTo34NTKYVNvQMk2aFSbyiU4Mg94rgTwYmFQsdMBlYBGlZamdpYWBOFuRnYSdwYQ7qgUnjIsjwIjhf/R3Mk4JsL4Lz2eeo1aDOgv1fwZ+Cc4RSyRCCawrOIT/E/Mk8o/YOwTsKvbXgOgy1Xy70OelAtQb2J2f+ZCDFYtIRMNCfSu9glEywGBySJsO6wj5oyYKpAIo1MNWDeSQE2ZGYe5MOmNtW9x1Mm0ANBdNo0CPTmDDNS9samAOm2TF6B9MoMe0S+4CeNzMz69q166BBg+bMmbNnzx4K2rKzs6VuGgSEsLmFEHzw5gdAtp0TxTSkWyRXpEkkMxQHW1lZDR48ePz48bNmzVqyZImDgwOJiouLy4ULF8j3371790ENHh4ebm5unp6eT2p4/vz5yxqYLgSms4HpqGD33zDdP8HBwaGhoUx6XnqMiIgIZyHoc4qOjo6JiYmuQXDAHAv+pNNiY2MFfVfx8fHJycm5ubmlpaVSupEyhBBCCAAQp9QRJHVkyMh1dejQoX///lOnTl2xYoWzszMJ2/379589e0bSRXJFmkRy8ubNm5SUlIyMjLy8vMLCQpKT8vJybM0PIZSyyTIQQgDkUPAUFBSUlZW1tbVNTU1tbGwmTZq0cuVKJyenS5cuPXr0iHSOjFdCQkJWVhaPx4O2QQgxWQYAIMWCp6qqqqenZ2FhMXDgwK+++mrjxo0uLi4UBL969YpcXXx8fFpaWn5+fllZGdQOQgghBABIZWemoqIiqZ2Ojk67du2srKzGjBnzww8/ODo6njlz5t69eyR4ISEhcXFx6enpjL2rrq5G6wchBP+Lq6ur0IorAICEyBszzZKZyqurq2tgYNChQwcbG5vPPvts7ty5v/zyy549e86ePXv//n1PT08fHx9Su+jo6OTk5Ozs7JKSksrKSggehBB8GC8vLxUVFbQ7ADSnwrE9XJs2bSwsLHr16jVq1KhZs2aRvO3atevEiRPXr1+nOPXZs2fMjEpG5JiZKaRzRUVF6MkEEELxEBsbS2EmmicAxCh19MjonLa2trGxcY8ePUjkvvnmm40bN/7zzz+XLl16+PDhy5cvycMFBwdHRUUlJiaSvOXm5hYWFkLeAISwuaF7b8SIEWi8AOBKy5YtSe3U1NT09fUF81BWr169f//+y5cve3h4kJMjnYuLi0tNTc3JySEPx+fzIXIAQihx0J3p7OyMYUIA3mvsCLo7VFRUdHR0TE1N+/TpM3HixCVLluzZs+f8+fPu7u6+vr7h4eHx8fFZWVnk57DMAEAIpZKoqCgbGxvMHQXyrHnsWZfW1tbjxo378ccft2/ffu7cuYcPHzLeLjY2lrxdXl6e9G5BAiCE4P1QDHvhwgWMFAIZm5Ai9KeSkhJJnZaWVtu2bS0tLQcPHvzVV1+tWrXq77//vnTpEnk7UrvAwMC4uDhmw63i4mKk3gQQQjmCgtwDBw5QLIw2FEiX4DEDdQKRa9OmjZmZWc+ePUeOHDljxozVq1czCwzu3r375MkTLy8vkrro6Oi3b99mZmbyeDzMTAEQQvC/VFdXkxZSXDxs2DBqUNDCgsaPrtXT2f7efwlWzjF5CZhcBDo6Oq1atTIxMenUqVPfvn1tbW1nz569YsUKR0fHo0ePXr58+d69e48ePXr+/Dn5uYCAgMjISGYP5ezsbOgcgBACzlCrQcGyi4vL1KlTzc3NmUTeTOocQQIdJvomBEl2VN8hSNYjyCXETngkSHvEwM6mxORYoWN61NfXZ7IvCVKuMAjSNlHIL0jCUhsDAwNBchbmTIN3GBoa0jOCRC2CpC3Mv9gIEkix87nQI5NbioE5bleDEQsmw4vgeeZAkPZFkAVGcJoxC6FnBLljmGPBnybvYL+Q+VPwyEboGeZPU1NT9rsw+bOEYJ4U/It5F/aTpjUwB+1rMK+hQ4cOHTt2tLS07Nq1a/fu3a2trW1sbAYOHEhh1tixYydPnjx37tzFixdv2LBhx44dR44cIcd248aN27dvP3jwwN3d3dPT88WLF8ziueDg4LCwsNjY2MTExPT09JycnIKCAqqoWCoOAISwCamoqCB3SO2Ov7//06dPmcwpHjU8fvzYswYmf8qLGrxqYGdwZTLQMolUqC0TpKVl8qoE1yA4IJi0uoJMvKE1RNQgyLfCpF9hDtgZfQUHQplZ2KmABQiSsAhSBDPP0IEgSwvzvND5ghPYryLoHQVnMlld6IB5FFyQSVbM/Jd5hjlgI3iSeWRyGrNfInhknhRck319QVoZeoZ5JG8U9w46ZjLOxL2P+BqYSwmdw/zJfrngLZhnBG9Kx2/evGHOSaghqQbyZ6RhGRkZWVlZubm5pGTk1YqLi8vLy6mywbEBACEEAAAAIIQAAAAAhBAAAACAEAIAAAAQQgAAAABCCAAAAEAIAQAAAAghAAAAACEEAAAAIIQAAAAAhBAAAACAEAIAAAAQQgAAABBCAAAAAEIIgLxRXV1dWYN40/JVVVWVlpYWFhaWlZWhkAGAEAIgoZBc5eTkhISE+Pr6JiUllZeXi+WyfD4/IiLi2LFju3btunXrVlZWFpLfAgAhBEASvWBaWtqhQ4dGjhzZq1evZcuWBQQEkDVs5GVJTR89emRnZ6enp6ejo9OvX7+zZ8+SO0SBAwAhBECyIN9Gdq1bt24tatDW1l61alVBQUFjrkmCd//+/T59+rRs2ZK5rKKi4tdff02mEAUOAIQQAMmisLBw06ZNKioqjGJ98sknffv2TUpKEvmCFRUVDx486NmzJ12qxTvoeMKECenp6ShwACCEAEgWZP4WLFigoKAgUCxzc/Po6GiR/aWHh4eQChIaGhrbtm0rKipCgQMAIQRAssjPz//uu+8EfZiEqalpVFSUCJeqrq729fUdMmQI+2qEkpLS1KlTIyIiMFkGAAghAJIohPPmzRM4QkYIIyMjRbhUSkrKnDlzSPbYKqioqDh58uTaE3CqqqoqKir49VJeXl5WA78BiH3tBwAQQgDkSAjZHs7ExEQER0hydfDgQS0tLSEvSCoYFhZGsic4kxQrJyeHvOOVK1eOHz/u8o6jR48KHgm62o4dOzZv3rx169a///778OHD9OSRI0dcWByp4dixY+fPn3/69CkpMYkrflMAIIQAcKCgoECoa5SEUARH+PLly86dO7OHBumaY8eODQ4OZntBMm2pqan79u3r2bOnhoaGsrKyEgvF/wtdgS5Ij2RYld4H83J6VFNTa9++/cqVK0nC2aILAIAQAvBhIRRyhKQoXIUwKSnpq6++EpomamVl9eLFCyFZKi8vv3fvHqlgiybAwMCAvGNxcTF+VgAghAA0lPd2jXISwqKior1795K9Y2uSjo7OsWPHaq+gLykpOX36tJGRUVMIoaam5tq1a+kb4WcFAEIIQEPh8XhCQshp1igZPm9vb6H1EgoKCt99911mZmbt8/l8vqen57Bhw9jTc8QCfQULC4uTJ09i/xoAIIQAcHOEjVk+kZeXt2LFCvZMUaZT1NfXt645nPSSixcvjhkzhnyhrq6u9v9FS0uL3CT5S6GViKqqqoJzdN4hOL9NmzZ9+/Z1cnJKS0vDbwoAhBAADhQUFHz77bfsBfXt27dvoBCS1Lm7u9P5bMUicXJxcal/5+6ysrL09PTw8HB/f/+AgIDAwEB69H8HHV+6dElTU5NtMVevXk3W08/PL+AdzJkMoaGhycnJJSUl+EEBgBACwNkRzps3j22/Gr58Iisri9yk0EzRadOmNX4rNZJGMovsxYjOzs7iSosBAIAQAvB/hHD+/PlCXaMNmSxTWVl59epVfX19th00MjK6e/du45NXQAgBgBAC0KyOUGhnmYY4wtjYWFtbW6FNZBYtWpSbm9v4TxUUFKSjo8O+8t69eyGEAEAIAWgSIRRhskxJSQlZNDU1NfYcmY4dOz579kws+5zVdoROTk4QQgAghACIn9o7y5AQRkRE1P8qf3//Xr16sUcHVVRUHBwcxJVfQsgRKikpoWsUAAghAE0Cj8f79ttvOS2oJ+1ctWoVuTR2v2j//v1Fy1lRlxDCEQIAIQSgOag9Wab+5RPMkglyjUJbupw8eVKMG16TEOrp6bGXT0AIAYAQAtAkkL1bsmQJ29517NgxNja2rvPT09PnzJnDFk5SqSlTpiQnJ4vxUwUHBwtNloEQAgAhBKBJKC4u3rlzp2D1OincqFGjUlNT33tyZWXlpUuX2F6NMDQ0FMuSCSFHiDFCACCEADQHJGAvXrywtbVVVlYm42VqakqSU1cCh4SEhLFjxwqtoF+8eHFOTo54PxVmjQIAIQSg+SgsLHR3d1+yZMns2bMPHDiQnJz83iUQfD7fxcWFvfMZKWKHDh28vLzEnhq+9jpCCCEAEEIAmhASuby8vOzsbPKCdalaYmLiyJEj2XaQTOTWrVubIv9fSEgI2xGiaxQACCEAH18pyQ6qq6uzRwdtbGzEuGRCyBEKCSF2lgEAQgjAxyQuLm7o0KFsO6iqqvrPP/80kThhjBAACCEAkmUHjxw5wt5QjRg4cOCbN2+a6B2Dg4MhhABACAGQFBISEgYPHsy2g+rq6k1nB2sLIRbUAwAhBOBj2kEXFxchO0i6GBMT03RvCkcIAIQQAEkhOzvbzs6ObQdJFP/++++ysrKme1OhyTItW7bErFEAIIQAfBx8fHzatm0rtL92dHR0k74pNt0GAEIIgERQWVl58+ZN9qoJJSUl0qQmtYP/U9M1yt7IjXlTCCEAEEIAmhs+n3/nzp02bdoINMnCwiI0NLSp37e2I0TXKAAQQgA+AlVVVWFhYdOnT2d2ItXX19+8ebO4su/W7wiFZo1CCAGAEALwcSguLn7x4sXy5cu/+uqrPXv2JCYmin1n0fc6Qm1tbXSNAgAhBEAiYHYizcrKqmcnUrELIXuMEF2jAEAIAZAvQkJCWrduzd7d+9ChQxBCACCEAMgLCQkJ3bp1Ewihvr7+9evXKyoqUDIAQAgBkAsKCwvXrVuno6OjoKCgpKT05ZdfRkdHN0+vLAAQQgDAx4c0Lz4+/vfff//iiy+WLl3q7e3d1CsXAQAQQgAkTgvJF2ZkZOTn51dWVqJAAIAQAgAAABBCAAAAAEIIAAAAQAgBAAAA8fP/AeHMlUW0xpcnAAAAAElFTkSuQmCC)\n",
    "\n",
    "In an experiment, this dramatic slowdown looks like forming a solid \"glass\", as the relaxation time gets too slow to see any motion. From our perspective, the fact that is especially dramatic is that the curve isn't straight.\n",
    "\n",
    "A straight line on this plot would correspond to the Arrhenius law:\n",
    "\n",
    "$$ \\tau \\propto \\exp(\\Delta E /T)$$,\n",
    "\n",
    "indicating that relaxation is governed by a single energy barrier $\\Delta E$. So the fact that the curve isn't straight indicates that, even though it's hard to see any difference in the structure as a function of $T$, there is some characteristic energy barrier which is changing as a function of $T$. So we'd like to discover the structural origin of this change in $\\Delta E$.\n"
   ]
  },
  {
   "cell_type": "markdown",
   "metadata": {
    "id": "L72_AqwAvNd7"
   },
   "source": [
    "We'll be trying to reproduce some of the results of a paper that made substantial progress in this direction using machine learning, https://doi.org/10.1038/nphys3644. This same approach has been applied in a variety of systems, from experimental granular systems to simulations of models of densely packed biological cells.\n",
    "\n",
    "The spirit of the approach is that, if there are structural features which are responsible for changes in energy barriers on cooling, they should *also* be responsible for heterogeneity in the dynamics at *fixed* temperature $T$. So we will identify examples of \"rearranging\" (moving) particles in a simulation,  and ask a machine learning model to identify local structures which are predictive of rearrangement. We will then hopefully learn something about structural features responsible for determining the energy barrier to rearrangement.\n",
    "\n",
    "In particular, we construct a list of local structural variables $X_{i, \\alpha}$, $\\alpha=1,\\dots 166$, describing the local structure around particle $i$. We will then use the SVM algorithm to train a *linear* model,\n",
    "\n",
    "$$S_i = w_0 + \\sum_\\alpha w_\\alpha X_{i, \\alpha},$$\n",
    "\n",
    "minimizing a loss function that makes $S_i$ correlate with whether a particle is rearranging or not. We will then study the properties of the \"softness\" $S$.\n",
    "\n",
    "The main result of the paper we are trying to reproduce is a simple physical one: that the result of this procedure is a variable $S$ which behaves like a \"local energy barrier to rearrangement\""
   ]
  },
  {
   "cell_type": "markdown",
   "metadata": {
    "id": "-EaWaSNYxNU0"
   },
   "source": [
    "The structural variables $X_{i,\\alpha}$ we will use are computed from the positions of the particles surrounding particle $i$. Our simulations contain two \"types\" of particles, \"A\" and \"B\".  The first 50 variables represent the density of A-type neighbors:\n",
    "\n",
    "$$G_{A,\\alpha}(i) = \\sum_{j \\in A} \\exp(-(r_{ij} - \\mu_\\alpha)^2/2 \\sigma^2),$$\n",
    "\n",
    "and the next 50 are the same for B-type neighbors.\n",
    "\n",
    "The final 66 structural variables are various \"angular\" functions which represent something about the angles between triplets of particles, as well as distances.\n",
    "\n",
    "I've computed these structural variables on various subsets of particles in an MD simulation for you, and we'll load that data and use it to reproduce the paper.\n",
    "\n",
    "To identify rearranging and non-rearranging particles, we follow the lead of the paper and use a dynamical quantity called $p_{\\mathrm{hop}}$. I'll explain in person how this quantity is defined and how we choose thresholds to say a particle is rearranging or not."
   ]
  },
  {
   "cell_type": "markdown",
   "metadata": {
    "id": "O18B5AVvPE14"
   },
   "source": [
    "Now we'll  traing a Support Vector Machine classifier to try to distinguish our \"rearranging\" and \"non-rearranging\" examples using the structure functions that we have computed from the local neighborhood of each particle.\n",
    "\n",
    "\n",
    "We construct a \"pipeline\" in scikit-learn consisting of two steps: a \"scaler\" which rescales each structure function by its variance and subtracts off its mean (to avoid weighing structure functions with large values differently than those with small values), and the SVM itself.\n",
    "\n",
    "There are a couple of common choices of loss function; the \"standard\" SVM loss (called \"hinge\" in scikit-learn), and the \"squared hinge\" loss, which we use here because it is faster. You could play with this choice yourself and see if it made a difference!\n",
    "\n",
    "The loss has a hyperparameter, \"C\". When this parameter is finite, it produces some regularization by penalizing the norm of the hyperplane.\n",
    "\n",
    "We scan over possible values of this hyperparameter. In order to tell what a good choice of the hyperparameter is, we check the error on the test set. We split the data into training and test sets 10 times so we can also estimate an uncertainty on the training and test errors.\n"
   ]
  },
  {
   "cell_type": "code",
   "execution_count": null,
   "metadata": {
    "colab": {
     "base_uri": "https://localhost:8080/",
     "height": 1000
    },
    "id": "yaMqMFNqs1xc",
    "outputId": "0b9fdc1b-b05a-4d4c-f8b8-067624a16ad4"
   },
   "outputs": [],
   "source": [
    "#you will need to change this if you aren't using colab\n",
    "data_dir = \"/content/KALJ/\"\n",
    "\n",
    "#download structure functions computed on many examples at various temperatures\n",
    "#if this doesn't work, you can download from the google drive link\n",
    "#and then upload to colab\n",
    "url = \"https://drive.google.com/drive/folders/1Y6scoMLx788qa6dYRB8Hb1K8-p43av_n?usp=sharing\"\n",
    "gdown.download_folder(url)\n",
    "\n"
   ]
  },
  {
   "cell_type": "code",
   "execution_count": null,
   "metadata": {
    "colab": {
     "base_uri": "https://localhost:8080/"
    },
    "id": "AePdAeX1HIzN",
    "outputId": "9062e86a-1595-434d-f97a-15d91e4ee941"
   },
   "outputs": [],
   "source": [
    "\n",
    "random_state=42\n",
    "loss = \"squared_hinge\"\n",
    "\n",
    "def load_rearranging_X():\n",
    "    #training temperature is 0.470\n",
    "    fn = data_dir + \"train_desc_0.470.pkl\"\n",
    "    with open(fn, \"rb\") as f:\n",
    "      data, _ = pickle.load(f)\n",
    "    return data\n",
    "\n",
    "def load_nonrearranging_X():\n",
    "    #training temperature is 0.470\n",
    "    fn = data_dir + \"train_desc_0.470.pkl\"\n",
    "    with open(fn, \"rb\") as f:\n",
    "      _, data = pickle.load(f)\n",
    "    return data\n",
    "\n",
    "X = np.concatenate((load_rearranging_X(),\n",
    "                    load_nonrearranging_X()),axis=0)\n",
    "\n",
    "sample_size = len(X)//2\n",
    "N_features = X.shape[1]\n",
    "\n",
    "#make an array of the training labels\n",
    "#1 for rearranging, 0 for non-rearranging\n",
    "Y = ...\n",
    "\n",
    "\n",
    "#values partly chosen just to run fast enough for the tutorial\n",
    "penalty_param = np.logspace(-4, 1, 5)\n",
    "\n",
    "param_grid = {'linearsvc__C': penalty_param }\n",
    "\n",
    "clf = pipeline.make_pipeline(prep.StandardScaler(),\n",
    "                                 svm.LinearSVC(random_state=random_state,\n",
    "                                               max_iter=10000, loss=loss))\n",
    "\n",
    "#5 splits is not enough for real life, just trying to make tutorial faster\n",
    "cv = modsel.ShuffleSplit(n_splits=5, test_size=0.2,\n",
    "                         random_state=random_state)\n",
    "gs = modsel.GridSearchCV(clf, cv=cv, param_grid=param_grid,\n",
    "                             return_train_score=True, verbose=True)\n",
    "\n",
    "\n",
    "gs.fit(X, Y);"
   ]
  },
  {
   "cell_type": "code",
   "execution_count": null,
   "metadata": {
    "colab": {
     "base_uri": "https://localhost:8080/",
     "height": 452
    },
    "id": "C7CJ3tfUHlyi",
    "outputId": "8dfc02bb-8fcd-4962-bcf4-7c92a1f5ad8f"
   },
   "outputs": [],
   "source": [
    "result = gs.cv_results_\n",
    "\n",
    "mean_test_accuracy = ...\n",
    "mean_train_accuracy = ...\n",
    "\n",
    "std_test_accuracy = ...\n",
    "std_train_accuracy = ...\n",
    "\n"
   ]
  },
  {
   "cell_type": "code",
   "execution_count": null,
   "metadata": {},
   "outputs": [],
   "source": [
    "plt.errorbar(penalty_param, mean_test_accuracy,\n",
    "             yerr=std_test_accuracy,\n",
    "             label = \"test accuracy\")\n",
    "plt.errorbar(penalty_param, mean_train_accuracy,\n",
    "             yerr=std_train_accuracy,\n",
    "             label = \"training accuracy\")\n",
    "plt.xscale(\"log\")\n",
    "plt.legend()"
   ]
  },
  {
   "cell_type": "code",
   "execution_count": null,
   "metadata": {
    "id": "GINh-80RLCyH"
   },
   "outputs": [],
   "source": [
    "C = ...\n",
    "clf = pipeline.make_pipeline(prep.StandardScaler(),\n",
    "                                 svm.LinearSVC(random_state=random_state,\n",
    "                                               max_iter=10000,\n",
    "                                               loss=loss,C=C ))\n",
    "\n",
    "clf.fit(X,Y);"
   ]
  },
  {
   "cell_type": "markdown",
   "metadata": {
    "id": "5zEAYaJ9Qq4L"
   },
   "source": [
    "The pipeline we constructed has two functions, \"predict\", and \"decision function\", which allow us to classify the structure of a particle.\n",
    "\n",
    "``predict()`` returns 0 or 1, predicting that a particle is either non-rearranging or rearranging.\n",
    "\n",
    "``decision_function()`` is the signed distance to the classifying hyperplane.\n",
    "\n",
    "The pipeline object automatically combines the appropriate function from the SVM class with the data-scaling function ``transform()`` from the ``StandardScaler`` class.\n",
    "\n",
    "You can access the scaler as ``clf[0]`` and the SVM as ``clf[1]``. In addition to the functions ``transform()``, ``decision_function()``, and ``predict()``, we can directly access the scalar variables ``mean_`` and ``scale_``, and access the SVM weights ``coef_`` and ``intercept_``.\n",
    "\n",
    "Let's quickly check that this does what we think:"
   ]
  },
  {
   "cell_type": "markdown",
   "metadata": {
    "id": "NKyMpZCSVI99"
   },
   "source": []
  },
  {
   "cell_type": "code",
   "execution_count": null,
   "metadata": {
    "colab": {
     "base_uri": "https://localhost:8080/"
    },
    "id": "AvPiWTEnMnhW",
    "outputId": "6ca51673-338c-42dc-96af-576c2fa8db51"
   },
   "outputs": [],
   "source": [
    "full_output = clf.decision_function(X)\n",
    "\n",
    "#use functions from clf[0] and clf[1] to make sure we understand how the two pieces are combined\n",
    "two_step_output = ...\n",
    "\n",
    "#use the coefficients mean_, scale_, coef_ inside clf[0] and clf[1]\n",
    "#make sure we understand how clf.decision_function is constructed from X\n",
    "manual_scaled_X = ...\n",
    "manual_dot_product = ...\n",
    "\n",
    "\n",
    "print(\"Pipeline output\", full_output)\n",
    "print(\"Manual composition\", two_step_output)\n",
    "print(\"Manual dot product\", manual_dot_product)"
   ]
  },
  {
   "cell_type": "code",
   "execution_count": null,
   "metadata": {
    "colab": {
     "base_uri": "https://localhost:8080/"
    },
    "id": "qkEx4aTTMrao",
    "outputId": "ab34003e-cc3e-4e12-e07b-f8db14626015"
   },
   "outputs": [],
   "source": [
    "\"\"\"\n",
    "In this cell, check that the classifictation from predict()\n",
    "matches the sign of decision_function()\n",
    "\"\"\"\n",
    "predicted_labels = clf.predict(X)\n",
    "sign_of_softness = ...\n",
    "\n",
    "all_values_equal = ...\n",
    "\n",
    "print(all_values_equal)"
   ]
  },
  {
   "cell_type": "markdown",
   "metadata": {
    "id": "yBpoJ2K1W_ai"
   },
   "source": [
    "Now we're in a position to start confirming the results of https://doi.org/10.1038/nphys3644.\n",
    "\n",
    "Because we've made different choices about regularization / loss function than they did, there's no guarantee that our $S$ and theirs won't disagree by a constant factor or shift. However, we expect to reproduce all of their results, otherwise.\n",
    "\n",
    "All of the main-text results come from computing $S$ on random samples of particles from the whole system, at various temperatures $T$, or from computing $S$ for rearranging particles at some lower rearranging $p_{\\mathrm{hop}}$ threshold $p_c = 0.2$.\n",
    "\n",
    "\n",
    "So first, let's load some more computed structure functions from MD simulations I ran at various temperatures.\n",
    "\n",
    "Below I've provided code to load both of these sets (structure functions of random particles, and structure functions of random rearranging particles) at a given $T$."
   ]
  },
  {
   "cell_type": "code",
   "execution_count": null,
   "metadata": {
    "id": "82vj5L2eStlv"
   },
   "outputs": [],
   "source": [
    "valid_T = [\"0.700\", \"0.600\", \"0.550\",\"0.500\",\"0.470\", \"0.420\"]\n",
    "\n",
    "def load_random_structure(T):\n",
    "  assert T in valid_T\n",
    "  fn = data_dir+\"random_test_desc_\"+T+\".pkl\"\n",
    "  with open(fn, \"rb\") as f:\n",
    "    X = pickle.load(f)\n",
    "\n",
    "  return X\n",
    "\n",
    "def load_rearranging_structure(T):\n",
    "  assert T in valid_T\n",
    "  fn = data_dir+\"rearranging_test_desc_\"+T+\".pkl\"\n",
    "  with open(fn, \"rb\") as f:\n",
    "    X = pickle.load(f)\n",
    "\n",
    "  return X"
   ]
  },
  {
   "cell_type": "markdown",
   "metadata": {
    "id": "TW2Au4FHZfdp"
   },
   "source": [
    "Let's start by reproducing Fig. 1 in the paper. We want to plot the distribution of $S$ for rearranging particles and for random particles at $T=0.470$ (our training temperature).\n",
    "\n",
    "We will need to make frequent use of the distributions. So let's write functions ``compute_PS(T)`` and ``compute_PSR(T)`` which return approximations of these distributions as histograms\n",
    "\n",
    "I've started these functions below. Finish them, and then plot the distributions as in Fig. 1 of the paper!\n",
    "\n",
    "The paper claims that $90\\%$ of rearranging particles have $S>0$ at the training temperature. See if you can confirm that as well."
   ]
  },
  {
   "cell_type": "code",
   "execution_count": null,
   "metadata": {
    "colab": {
     "base_uri": "https://localhost:8080/",
     "height": 448
    },
    "id": "YhH-Q95UZfNf",
    "outputId": "e7a3cdf7-f13d-443b-8c27-fe7fc07c7b5e"
   },
   "outputs": [],
   "source": [
    "def compute_PS(T, min_S=-3, max_S=3, n_bins=100):\n",
    "  X = ...\n",
    "  S = ...\n",
    "  hist, edges = np.histogram(S, bins=...,\n",
    "                             range=...,\n",
    "                             density=True)\n",
    "\n",
    "  midpoints = ...\n",
    "  return midpoints, hist\n",
    "\n",
    "def compute_PSR(T, min_S=-3, max_S=3, n_bins=100):\n",
    "  X = ...\n",
    "  S = ...\n",
    "  hist, edges = np.histogram(S, bins=...,\n",
    "                             range=...,\n",
    "                             density=True)\n",
    "\n",
    "  midpoints = ...\n",
    "  return midpoints, hist\n",
    "\n",
    "\n",
    "\n",
    "T = \"0.470\"\n",
    "min_S=...\n",
    "max_S=...\n",
    "n_bins=...\n",
    "\n",
    "S = ...\n",
    "PS = ...\n",
    "\n",
    "plt.plot(S, PS,'.-')\n",
    "\n",
    "S_R = ...\n",
    "PSR = ...\n",
    "plt.plot(PSR, S_R,'.-')\n",
    "\n"
   ]
  },
  {
   "cell_type": "markdown",
   "metadata": {
    "id": "5dxjUyVTaurG"
   },
   "source": [
    "Now let's see if we can reproduce Fig 2a-c, which contain the real interesting physical discoveries of this paper.\n",
    "\n",
    "These figures are built from an empirical quantity $P(R | S,T)$, the probability that a particle of a given $S$, at a given $T$, is rearranging.\n",
    "\n",
    "In order to construct this quantity, we will need to use Bayes' rule for conditional probabilities:\n",
    "\n",
    "$$P(R|S) = \\frac{P(S|R) P(R)}{P(S)}.$$\n",
    "\n",
    "\n",
    "Above we've already calculated histograms for $P(S)$ and $P(S|R)$, which we can use directly here.  You can't calculate $P(R)$ from the code I gave you above, however, because I just gave you samples of rearranging particles: I didn't tell you how many particles were rearranging at each temperature.\n",
    "\n",
    "Below I give a function that loads $p_{\\mathrm{hop}}$ for a random sample of particles. Start by using this to write a function which returns $P(R)$ at a given $T$.\n",
    "\n",
    "Then, put it all together to write a function which returns $P(R|S)$ at a given $T$.\n",
    "\n",
    "Use this to reproduce Fig. 2a of the paper.\n"
   ]
  },
  {
   "cell_type": "code",
   "execution_count": null,
   "metadata": {
    "id": "3KVCZgAvZtRN"
   },
   "outputs": [],
   "source": [
    "def load_phop(T):\n",
    "  with open(data_dir+\"phop_\"+T+\".npy\", \"rb\") as f:\n",
    "    data = np.load(f)\n",
    "  return data\n",
    "\n",
    "def load_PR(T):\n",
    "\n",
    "  p_c = ...\n",
    "  phop = ...\n",
    "  return ...\n",
    "\n",
    "def compute_PRS(T, min_S=-3, max_S=3, n_bins=10):\n",
    "\n",
    "  S = ...\n",
    "  S_R = ...\n",
    "  PS = ...\n",
    "  PSR = ...\n",
    "    \n",
    "  #why am I checking this?\n",
    "  assert np.all(S == SR) \n",
    "\n",
    "  PRS = ...\n",
    "\n",
    "\n",
    "  return S, PRS"
   ]
  },
  {
   "cell_type": "code",
   "execution_count": null,
   "metadata": {
    "colab": {
     "base_uri": "https://localhost:8080/",
     "height": 485
    },
    "id": "Ih9AFGyVS1ya",
    "outputId": "3b593b3d-bb5a-4bd0-b66f-38118b6ba27c"
   },
   "outputs": [],
   "source": [
    "min_S=...\n",
    "max_S=...\n",
    "n_bins=...\n",
    "\n",
    "T_list = ...\n",
    "for T in T_list:\n",
    "  S = ...\n",
    "  PRS = ...\n",
    "  plt.semilogy(S, PRS,'.-')"
   ]
  },
  {
   "cell_type": "markdown",
   "metadata": {
    "id": "4MozKS0bhPnC"
   },
   "source": [
    "Now let's try to reproduce Fig 2b. To do so, we want to plot $P(R|S,T)$ as a function of $1/T$, for a given $S$ bin.\n",
    "\n",
    "Let's start by building a big pandas dataframe out of all the $P(R|S, T)$ values. Then we can slice it in the desired way."
   ]
  },
  {
   "cell_type": "code",
   "execution_count": null,
   "metadata": {
    "colab": {
     "base_uri": "https://localhost:8080/"
    },
    "id": "DkSB0DypULeu",
    "outputId": "424cc07b-5a85-4163-b58f-fc61c3c3908b"
   },
   "outputs": [],
   "source": [
    "min_S = ...\n",
    "max_S = ...\n",
    "n_bins = ...\n",
    "\n",
    "\n",
    "rows = []\n",
    "for T in valid_T:\n",
    "  S = ...\n",
    "  PRS = ...\n",
    "    \n",
    "  arg = np.where(np.logical_not(np.isnan(np.log(PRS))))\n",
    "\n",
    "  midpoints = S #we save this so we have a list of valid S values later\n",
    "\n",
    "  S = S[arg]\n",
    "  PRS = PRS[arg]\n",
    "\n",
    "  for s, prs in zip(S, PRS):\n",
    "    row = ...\n",
    "    rows.append(rows)\n",
    "\n",
    "df = pd.DataFrame(rows)\n",
    "\n",
    "\n"
   ]
  },
  {
   "cell_type": "markdown",
   "metadata": {
    "id": "bSPTUSs5ifnY"
   },
   "source": [
    "Now, choose which S bins to plot, and make plots as a function of $1/T$."
   ]
  },
  {
   "cell_type": "code",
   "execution_count": null,
   "metadata": {
    "colab": {
     "base_uri": "https://localhost:8080/",
     "height": 430
    },
    "id": "c8dGB6MNT4VL",
    "outputId": "105d8fd4-3b1d-4a27-ceb2-80f06a187404"
   },
   "outputs": [],
   "source": [
    "\n",
    "#choose values of S\n",
    "\n",
    "S_index = ...\n",
    "S_array = midpoints[S_index]\n",
    "\n",
    "for S in S_array:\n",
    "  #access values of df with a fixed softness S. \n",
    "  temp = ...\n",
    "\n",
    "\n",
    "  #use DataFrame.values, we want numpy arrays\n",
    "  T = ...\n",
    "  beta = 1.0/T\n",
    "  P_R = ...\n",
    "\n",
    "\n",
    "  plt.semilogy(beta, P_R,'.-')\n",
    "\n",
    "  coef = np.polyfit(...)\n",
    "\n",
    "  sigma = ...\n",
    "  delta_E = ...\n",
    "\n",
    "\n",
    "  #reconstruct Arrhenius line using sigma and delta_E\n",
    "  plt.semilogy(beta, ...,'k--')\n",
    "\n"
   ]
  },
  {
   "cell_type": "markdown",
   "metadata": {
    "id": "Msh0gjt9kcoe"
   },
   "source": [
    "Finally, let's reproduce Fig. 2c from the paper. To do this, let's fit a function of the form $$P(R|S,T) = e^{\\Sigma(S)-\\Delta E(S)/T}$$ to the data, which we can do (not being very statistically rigorous) by a linear fit of $\\log{P(R|S)}$ to $1/T$."
   ]
  },
  {
   "cell_type": "code",
   "execution_count": null,
   "metadata": {
    "colab": {
     "base_uri": "https://localhost:8080/",
     "height": 463
    },
    "id": "xjH5gWZ4Dns2",
    "outputId": "28f826c0-3848-4716-8956-7f845a926f93"
   },
   "outputs": [],
   "source": [
    "sigma = np.zeros(len(midpoints))\n",
    "delta_E = np.zeros(len(midpoints))\n",
    "\n",
    "for i, S in enumerate(midpoints):\n",
    "\n",
    "  ...\n",
    "    \n",
    "  sigma[i] = ...\n",
    "  delta_E[i] = ...\n",
    "\n",
    "\n",
    "#make plot which will allow you to reproduce Fig 2c.\n",
    "\n",
    "plt.plot(...)\n",
    "plt.plot(...)\n",
    "\n",
    "plt.legend(fontsize=12)\n",
    "\n",
    "plt.xlabel(r\"$S$\", fontsize=20)\n",
    "plt.show()"
   ]
  },
  {
   "cell_type": "markdown",
   "metadata": {
    "id": "1MqxKVunlQe-"
   },
   "source": [
    "We've now reproduced the main physical discovery of softness: different particles behave as if they have something like a \"local energy barrier to rearrangement\", which can be computed from their local structure!\n",
    "\n",
    "If you have time, you should check that we actually predict a change in the distribution of energy barriers as $T$ decreases, and that this change is consistent with the \"increasing energy barrier with cooling\" that we talked about at the beginning!\n",
    "\n",
    "Then, if we have time left, you should choose one of the following mini-projects and try to do it:\n",
    "\n",
    "**Study the effect of removing angular structure functions**\n",
    "\n",
    "Some of the follow-up papers noted that the prediction accuracy on the training set is almost as good if you leave out the angular structure functions (using only the first 200 of the 266 structure functions I gave you), and used this as a justification to not bother with them (because they are way slower to compute).\n",
    "\n",
    "Honestly, I think this justification is a bit weak: we've already talked about how we don't think the prediction accuracy is terribly meaningful in this problem.\n",
    "\n",
    "Try removing the 66 angular structure functions, re-training the SVM, and seeing if this has a substantial effect on any of the results. I'm especially curious if the mean and variance of the distribution of predicted energy barriers changes!\n",
    "\n",
    "**Study the effect of training hyperparameters on the physical predictions**\n",
    "\n",
    "Pick a different value of $C$ which gave almost the same test accuracy, and see how it changes the predictions.\n",
    "\n",
    "Does the distribution of $S$ change?\n",
    "\n",
    "If it does, is this change kind of just like a change of the \"units of $S$\"? Or is the actual *physical prediction* (e.g., the distrubution of the predicted $\\Delta E$) changed?\n",
    "\n",
    "You could also try switching to the ``hinge`` loss in the ``LinearSVC`` class, although this may take a long time to train.\n",
    "\n",
    "\n"
   ]
  },
  {
   "cell_type": "code",
   "execution_count": null,
   "metadata": {
    "id": "A_vVuoMPS3tg"
   },
   "outputs": [],
   "source": []
  },
  {
   "cell_type": "code",
   "execution_count": null,
   "metadata": {
    "id": "D4tydKzgTUDx"
   },
   "outputs": [],
   "source": []
  },
  {
   "cell_type": "code",
   "execution_count": null,
   "metadata": {
    "id": "Kil4_Sq3vgvA"
   },
   "outputs": [],
   "source": [
    "plt.plot()"
   ]
  },
  {
   "cell_type": "code",
   "execution_count": null,
   "metadata": {
    "id": "jqLoxaidT6Zo"
   },
   "outputs": [],
   "source": []
  }
 ],
 "metadata": {
  "colab": {
   "provenance": []
  },
  "kernelspec": {
   "display_name": "Python 3 (ipykernel)",
   "language": "python",
   "name": "python3"
  },
  "language_info": {
   "codemirror_mode": {
    "name": "ipython",
    "version": 3
   },
   "file_extension": ".py",
   "mimetype": "text/x-python",
   "name": "python",
   "nbconvert_exporter": "python",
   "pygments_lexer": "ipython3",
   "version": "3.9.6"
  }
 },
 "nbformat": 4,
 "nbformat_minor": 4
}
